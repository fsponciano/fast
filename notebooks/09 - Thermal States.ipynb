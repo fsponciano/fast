{
 "cells": [
  {
   "cell_type": "markdown",
   "metadata": {},
   "source": [
    "Let us calculate the populations $p_i$ for the hyperfine magnetic states of the $5S_{1/2}$ ground state of rubidium in a thermal state. A thermal state has populations\n",
    "\n",
    "$$p_i=\\frac{ \\exp{(-E_i/k_B T)} }{Z} \\hspace{1cm} Z=\\sum_j \\exp{(-E_j/k_B T)} $$\n",
    "\n",
    "where $E_i$ are the energies of each state and $k_B$ is Boltzman's constant."
   ]
  },
  {
   "cell_type": "code",
   "execution_count": null,
   "metadata": {
    "collapsed": false
   },
   "outputs": [],
   "source": [
    "from fast.atomic_structure import State, make_list_of_states\n",
    "from sympy import Integer\n",
    "from math import pi,exp,log"
   ]
  },
  {
   "cell_type": "code",
   "execution_count": null,
   "metadata": {
    "collapsed": false
   },
   "outputs": [],
   "source": [
    "element=\"Rb\"; iso=85\n",
    "ground=State(element,iso,5,0,1/Integer(2))\n",
    "ground"
   ]
  },
  {
   "cell_type": "code",
   "execution_count": null,
   "metadata": {
    "collapsed": false
   },
   "outputs": [],
   "source": [
    "magnetic_states=make_list_of_states([ground],\"magnetic\")\n",
    "magnetic_states"
   ]
  },
  {
   "cell_type": "code",
   "execution_count": null,
   "metadata": {
    "collapsed": false
   },
   "outputs": [],
   "source": [
    "e1=magnetic_states[0]"
   ]
  },
  {
   "cell_type": "code",
   "execution_count": null,
   "metadata": {
    "collapsed": false
   },
   "outputs": [],
   "source": [
    "from scipy.constants import physical_constants\n",
    "hbar=physical_constants[\"Planck constant over 2 pi\"][0] # J s\n",
    "kB  =physical_constants[\"Boltzmann constant\"][0] #        J/K"
   ]
  },
  {
   "cell_type": "code",
   "execution_count": null,
   "metadata": {
    "collapsed": false
   },
   "outputs": [],
   "source": [
    "E=[hbar*2*pi*e.nu for e in magnetic_states]\n",
    "E"
   ]
  },
  {
   "cell_type": "code",
   "execution_count": null,
   "metadata": {
    "collapsed": false
   },
   "outputs": [],
   "source": [
    "T=20#Celsius degrees.\n",
    "T=T+237.15 #Kelvin\n",
    "T"
   ]
  },
  {
   "cell_type": "code",
   "execution_count": null,
   "metadata": {
    "collapsed": false
   },
   "outputs": [],
   "source": [
    "Z=sum([exp(-E[i]/kB/T) for i in range(len(magnetic_states))])\n",
    "Z"
   ]
  },
  {
   "cell_type": "markdown",
   "metadata": {},
   "source": [
    "So the populations are:"
   ]
  },
  {
   "cell_type": "code",
   "execution_count": null,
   "metadata": {
    "collapsed": false
   },
   "outputs": [],
   "source": [
    "p=[exp(-E[i]/kB/T)/Z for i in range(len(magnetic_states))]\n",
    "p"
   ]
  },
  {
   "cell_type": "markdown",
   "metadata": {},
   "source": [
    "Which is close to assigning populations equally:"
   ]
  },
  {
   "cell_type": "code",
   "execution_count": null,
   "metadata": {
    "collapsed": false
   },
   "outputs": [],
   "source": [
    "p_deg=[1.0/len(magnetic_states) for i in range(len(magnetic_states))]\n",
    "p_deg"
   ]
  },
  {
   "cell_type": "markdown",
   "metadata": {},
   "source": [
    "Let's make a plot of the variation with temperature."
   ]
  },
  {
   "cell_type": "code",
   "execution_count": null,
   "metadata": {
    "collapsed": false
   },
   "outputs": [],
   "source": [
    "if iso==85:\n",
    "    a=5\n",
    "else:\n",
    "    a=3"
   ]
  },
  {
   "cell_type": "code",
   "execution_count": null,
   "metadata": {
    "collapsed": false
   },
   "outputs": [],
   "source": [
    "P1=sum(p[:a])\n",
    "P2=sum(p[a:])\n",
    "P1,P2"
   ]
  },
  {
   "cell_type": "code",
   "execution_count": null,
   "metadata": {
    "collapsed": true
   },
   "outputs": [],
   "source": [
    "def get_energies(element,iso):\n",
    "    if element==\"Rb\":\n",
    "        ground=State(element,iso,5,0,1/Integer(2))\n",
    "    else:\n",
    "        ground=State(element,iso,6,0,1/Integer(2))\n",
    "    magnetic_states=make_list_of_states([ground],\"magnetic\")\n",
    "    E=[hbar*2*pi*e.nu for e in magnetic_states]\n",
    "    return E"
   ]
  },
  {
   "cell_type": "code",
   "execution_count": null,
   "metadata": {
    "collapsed": true
   },
   "outputs": [],
   "source": [
    "def pops(T,E,element,iso):\n",
    "    if iso ==133:\n",
    "        a=7\n",
    "    elif iso ==85:\n",
    "        a=5\n",
    "    else:\n",
    "        a=3\n",
    "\n",
    "    if element==\"Rb\":\n",
    "        ground=State(element,iso,5,0,1/Integer(2))\n",
    "    else:\n",
    "        ground=State(element,iso,6,0,1/Integer(2))\n",
    "    magnetic_states=make_list_of_states([ground],\"magnetic\")\n",
    "        \n",
    "    Z=sum([exp(-E[i]/kB/T) for i in range(len(magnetic_states))])\n",
    "    p=[exp(-E[i]/kB/T)/Z for i in range(len(magnetic_states))]\n",
    "    return p[0],p[-1],sum(p[:a]),sum(p[a:])"
   ]
  },
  {
   "cell_type": "code",
   "execution_count": null,
   "metadata": {
    "collapsed": false
   },
   "outputs": [],
   "source": [
    "from numpy import logspace,array\n",
    "T=logspace(-2,3,201)"
   ]
  },
  {
   "cell_type": "code",
   "execution_count": null,
   "metadata": {
    "collapsed": false
   },
   "outputs": [],
   "source": [
    "E85 =get_energies(\"Rb\",85)\n",
    "E87 =get_energies(\"Rb\",87)\n",
    "E133=get_energies(\"Cs\",133)"
   ]
  },
  {
   "cell_type": "code",
   "execution_count": null,
   "metadata": {
    "collapsed": false
   },
   "outputs": [],
   "source": [
    "dat=array([pops(Ti,E85,\"Rb\",85) for Ti in T])\n",
    "p185=list(dat[:,0])\n",
    "p285=list(dat[:,1])\n",
    "P185=list(dat[:,2])\n",
    "P285=list(dat[:,3])"
   ]
  },
  {
   "cell_type": "code",
   "execution_count": null,
   "metadata": {
    "collapsed": false
   },
   "outputs": [],
   "source": [
    "dat=array([pops(Ti,E87,\"Rb\",87) for Ti in T])\n",
    "p187=list(dat[:,0])\n",
    "p287=list(dat[:,1])\n",
    "P187=list(dat[:,2])\n",
    "P287=list(dat[:,3])"
   ]
  },
  {
   "cell_type": "code",
   "execution_count": null,
   "metadata": {
    "collapsed": false
   },
   "outputs": [],
   "source": [
    "dat=array([pops(Ti,E133,\"Cs\",133) for Ti in T])\n",
    "p1133=list(dat[:,0])\n",
    "p2133=list(dat[:,1])\n",
    "P1133=list(dat[:,2])\n",
    "P2133=list(dat[:,3])"
   ]
  },
  {
   "cell_type": "code",
   "execution_count": null,
   "metadata": {
    "collapsed": true
   },
   "outputs": [],
   "source": [
    "show_mot_temperature=False\n",
    "if show_mot_temperature:\n",
    "    T_Doppler=145.537e-6\n",
    "    T_lim=100e-6\n",
    "    T=[T_lim]+list(T)\n",
    "    T=array(T)\n",
    "\n",
    "    p185=[1/5.0]+p185\n",
    "    p285=[0.0  ]+p285\n",
    "    P185=[1.0  ]+P185\n",
    "    P285=[0.0  ]+P285\n",
    "\n",
    "    p187=[1/3.0]+p187\n",
    "    p287=[0.0  ]+p287\n",
    "    P187=[1.0  ]+P187\n",
    "    P287=[0.0  ]+P287"
   ]
  },
  {
   "cell_type": "code",
   "execution_count": null,
   "metadata": {
    "collapsed": false
   },
   "outputs": [],
   "source": [
    "from matplotlib import pyplot\n",
    "%matplotlib inline"
   ]
  },
  {
   "cell_type": "code",
   "execution_count": null,
   "metadata": {
    "collapsed": false
   },
   "outputs": [],
   "source": [
    "pyplot.close(\"all\")\n",
    "pyplot.semilogx(T,p185,\"b\",label=r\"$\\mathrm{lower \\ magnetic \\ state}$\")\n",
    "pyplot.semilogx(T,p285,\"r\",label=r\"$\\mathrm{higher \\ magnetic \\ state}$\")\n",
    "pyplot.semilogx(T,P185,\"m\",label=r\"$\\mathrm{lower  \\ multiplet}$\")\n",
    "pyplot.semilogx(T,P285,\"g\",label=r\"$\\mathrm{higher \\ multiplet}$\")\n",
    "\n",
    "pyplot.semilogx(T,p187,\"b--\")\n",
    "pyplot.semilogx(T,p287,\"r--\")\n",
    "pyplot.semilogx(T,P187,\"m--\")\n",
    "pyplot.semilogx(T,P287,\"g--\")\n",
    "\n",
    "pyplot.semilogx(T,p1133,\"b:\")\n",
    "pyplot.semilogx(T,p2133,\"r:\")\n",
    "pyplot.semilogx(T,P1133,\"m:\")\n",
    "pyplot.semilogx(T,P2133,\"g:\")\n",
    "\n",
    "\n",
    "pyplot.semilogx([273.15,273.15],[0,1],\"k\")\n",
    "pyplot.semilogx([273.15+50,273.15+50],[0,1],\"k\")\n",
    "if show_mot_temperature: pyplot.semilogx([T_Doppler,T_Doppler],[0,1],\"k\")\n",
    "\n",
    "pyplot.ylabel(r\"$\\mathrm{population}$\",fontsize=15)\n",
    "pyplot.xlabel(r\"$T \\ \\mathrm{(K)}$\",fontsize=15)\n",
    "pyplot.legend(fontsize=10)\n",
    "\n",
    "pyplot.ylim([0,1])"
   ]
  },
  {
   "cell_type": "markdown",
   "metadata": {},
   "source": [
    "Here solid lines show the populations for $^{85}\\mathrm{Rb}$, dashed lines for $^{87}\\mathrm{Rb}$, and dotted lines for $^{133}\\mathrm{Cs}$. We can see that $^{85}\\mathrm{Rb}$ is thermalized at slightly lower temperatures than $^{87}\\mathrm{Rb}$: at about 5 and 10 Kelvin respectively all magnetic states reach the same population."
   ]
  },
  {
   "cell_type": "code",
   "execution_count": null,
   "metadata": {
    "collapsed": true
   },
   "outputs": [],
   "source": [
    "def entropy(p1,p2,iso):\n",
    "    if iso==133:\n",
    "        n1=7; n2=9\n",
    "    elif iso==85:\n",
    "        n1=5; n2=7\n",
    "    elif iso==87:\n",
    "        n1=3; n2=5\n",
    "    return - kB*(n1*p1*log(p1) + n2*p2*log(p2))"
   ]
  },
  {
   "cell_type": "code",
   "execution_count": null,
   "metadata": {
    "collapsed": false
   },
   "outputs": [],
   "source": [
    "S85 =[entropy(p185[i], p285[i], 85) for i in range(len(p185))]\n",
    "S87 =[entropy(p187[i], p287[i], 87) for i in range(len(p187))]\n",
    "S133=[entropy(p1133[i],p2133[i],133) for i in range(len(p187))]"
   ]
  },
  {
   "cell_type": "code",
   "execution_count": null,
   "metadata": {
    "collapsed": false
   },
   "outputs": [],
   "source": [
    "pyplot.close(\"all\")\n",
    "pyplot.semilogx(T,S85, \"r\",label=r\"$^{85}  \\mathrm{Rb}$\")\n",
    "pyplot.semilogx(T,S87, \"b\",label=r\"$^{87}  \\mathrm{Rb}$\")\n",
    "pyplot.semilogx(T,S133,\"g\",label=r\"$^{133} \\mathrm{Cs}$\")\n",
    "\n",
    "pyplot.semilogx([273.15,273.15]      ,[1.5e-23,4e-23],\"k\")\n",
    "pyplot.semilogx([273.15+50,273.15+50],[1.5e-23,4e-23],\"k\")\n",
    "\n",
    "pyplot.ylabel(r\"$S \\ \\mathrm{(J K^{-1})}$\",fontsize=15)\n",
    "pyplot.xlabel(r\"$T \\ \\mathrm{(K)}$\",fontsize=15)\n",
    "pyplot.legend(fontsize=15,loc=4)"
   ]
  },
  {
   "cell_type": "code",
   "execution_count": null,
   "metadata": {
    "collapsed": true
   },
   "outputs": [],
   "source": [
    "def average_energy(p1,p2,iso):\n",
    "    if iso==133:\n",
    "        n1=7; n2=9; element=\"Cs\"\n",
    "    elif iso==85:\n",
    "        n1=5; n2=7; element=\"Rb\"\n",
    "    elif iso==87:\n",
    "        n1=3; n2=5; element=\"Rb\"\n",
    "    \n",
    "    E=get_energies(element,iso)\n",
    "    E1=E[0]; E2=E[-1]\n",
    "    return (n1*p1*E1 + n2*p2*E2)*1e-9/hbar/2/pi"
   ]
  },
  {
   "cell_type": "code",
   "execution_count": null,
   "metadata": {
    "collapsed": false
   },
   "outputs": [],
   "source": [
    "E85 =[average_energy(p185[i], p285[i], 85) for i in range(len(p185))]\n",
    "E87 =[average_energy(p187[i], p287[i], 87) for i in range(len(p187))]\n",
    "E133=[average_energy(p1133[i],p2133[i],133) for i in range(len(p187))]"
   ]
  },
  {
   "cell_type": "code",
   "execution_count": null,
   "metadata": {
    "collapsed": false
   },
   "outputs": [],
   "source": [
    "pyplot.close(\"all\")\n",
    "pyplot.semilogx(T,E85, \"r\",label=r\"$^{85}  \\mathrm{Rb}$\")\n",
    "pyplot.semilogx(T,E87, \"b\",label=r\"$^{87}  \\mathrm{Rb}$\")\n",
    "pyplot.semilogx(T,E133,\"g\",label=r\"$^{133} \\mathrm{Cs}$\")\n",
    "\n",
    "pyplot.semilogx([273.15,273.15]      ,[-3.5e-24,0],\"k\")\n",
    "pyplot.semilogx([273.15+50,273.15+50],[-3.5e-24,0],\"k\")\n",
    "\n",
    "pyplot.ylabel(r\"$E \\ \\mathrm{(GHz)}$\",fontsize=15)\n",
    "pyplot.xlabel(r\"$T \\ \\mathrm{(K)}$\",fontsize=15)\n",
    "pyplot.legend(fontsize=15,loc=4)"
   ]
  },
  {
   "cell_type": "code",
   "execution_count": null,
   "metadata": {
    "collapsed": true
   },
   "outputs": [],
   "source": []
  }
 ],
 "metadata": {
  "anaconda-cloud": {},
  "kernelspec": {
   "display_name": "Python 2",
   "language": "python",
   "name": "python2"
  },
  "language_info": {
   "codemirror_mode": {
    "name": "ipython",
    "version": 2
   },
   "file_extension": ".py",
   "mimetype": "text/x-python",
   "name": "python",
   "nbconvert_exporter": "python",
   "pygments_lexer": "ipython2",
   "version": "2.7.13"
  }
 },
 "nbformat": 4,
 "nbformat_minor": 1
}
