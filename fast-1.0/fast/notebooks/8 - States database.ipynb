{
 "cells": [
  {
   "cell_type": "markdown",
   "metadata": {},
   "source": [
    "This is a review of all the states in the Cesium database. We will check which states are available up to a maximum N:"
   ]
  },
  {
   "cell_type": "code",
   "execution_count": 1,
   "metadata": {
    "collapsed": true
   },
   "outputs": [],
   "source": [
    "from fast.all import *\n",
    "from tabulate import tabulate"
   ]
  },
  {
   "cell_type": "code",
   "execution_count": 2,
   "metadata": {
    "collapsed": false
   },
   "outputs": [],
   "source": [
    "def review_database(element,isotope,I):\n",
    "    S=1/Integer(2)\n",
    "    available=[]; not_available=[]\n",
    "    for N in range(1,Nmax+1):\n",
    "        for L in range(N):\n",
    "            jmin=abs(L-S);jmax=L+S\n",
    "            jpos=[jmin+i for i in range(jmax-jmin+1)]\n",
    "            for J in jpos:\n",
    "                try:\n",
    "                    state=State(element,isotope,N,L,J)\n",
    "                    available+=[state]\n",
    "                except:\n",
    "                    not_available+=[(N,L,J,jpos)]\n",
    "    return available,not_available"
   ]
  },
  {
   "cell_type": "code",
   "execution_count": 7,
   "metadata": {
    "collapsed": false
   },
   "outputs": [
    {
     "name": "stdout",
     "output_type": "stream",
     "text": [
      "State          Energy (THz)    A_hfs (MHz)    B_hfs (MHz)    C_hfs (MHz)\n",
      "-----------  --------------  -------------  -------------  -------------\n",
      "85Rb 4D_3/2         580.268        7.31494        0                    0\n",
      "85Rb 4D_5/2         580.254        5.03651        0                    0\n",
      "85Rb 5S_1/2           0         1011.91           0                    0\n",
      "85Rb 5P_1/2         377.107      120.696          0                    0\n",
      "85Rb 5P_3/2         384.23        25.0387        26.01                 0\n",
      "85Rb 5D_3/2         770.483        4.2221         1.91058              0\n",
      "85Rb 5D_5/2         770.571       -2.19118        2.68014              0\n",
      "85Rb 6S_1/2         603.556      239.18           0                    0\n",
      "85Rb 6P_1/2         710.96        39.1229         0                    0\n",
      "85Rb 6P_3/2         713.284        8.16335        8.19033              0\n",
      "85Rb 7S_1/2         788.797       94.7044         0                    0\n",
      "85Rb 7P_1/2         834.473       17.6878         0                    0\n",
      "85Rb 7P_3/2         835.525        3.71143        3.68745              0\n"
     ]
    }
   ],
   "source": [
    "Nmax=50\n",
    "element=\"Rb\"; isotope=85; I=5/Integer(2)\n",
    "available, not_available=review_database(element,isotope,I)\n",
    "\n",
    "head=[\"State\",\"Energy (THz)\", \"A_hfs (MHz)\", \"B_hfs (MHz)\", \"C_hfs (MHz)\"]\n",
    "table=[ [state,state.nu*1e-12,state.Ahfs*1e-6,state.Bhfs*1e-6,state.Chfs*1e-6] for state in available]\n",
    "\n",
    "print tabulate(table,head)"
   ]
  },
  {
   "cell_type": "code",
   "execution_count": 4,
   "metadata": {
    "collapsed": false
   },
   "outputs": [
    {
     "name": "stdout",
     "output_type": "stream",
     "text": [
      "State          Energy (THz)    A_hfs (MHz)    B_hfs (MHz)    C_hfs (MHz)\n",
      "-----------  --------------  -------------  -------------  -------------\n",
      "87Rb 4D_3/2         580.268       24.75          2.19                  0\n",
      "87Rb 4D_5/2         580.254      -16.801         3.645                 0\n",
      "87Rb 5S_1/2           0         3417.34          0                     0\n",
      "87Rb 5P_1/2         377.107      409.217         0                     0\n",
      "87Rb 5P_3/2         384.23        84.7184       12.4965                0\n",
      "87Rb 5D_3/2         770.483       14.4302        0.932055              0\n",
      "87Rb 5D_5/2         770.571       -7.46064       1.27142               0\n",
      "87Rb 6S_1/2         603.556      807.66          0                     0\n",
      "87Rb 6P_1/2         710.96       132.559         0                     0\n",
      "87Rb 6P_3/2         713.284       27.7008        3.95726               0\n",
      "87Rb 7S_1/2         788.797      319.699         0                     0\n",
      "87Rb 7P_1/2         834.473       59.9285        0                     0\n",
      "87Rb 7P_3/2         835.525       12.5703        1.70882               0\n"
     ]
    }
   ],
   "source": [
    "Nmax=50\n",
    "element=\"Rb\"; isotope=87; I=3/Integer(2)\n",
    "available, not_available=review_database(element,isotope,I)\n",
    "\n",
    "head=[\"State\",\"Energy (THz)\", \"A_hfs (MHz)\", \"B_hfs (MHz)\", \"C_hfs (MHz)\"]\n",
    "table=[ [state,state.nu*1e-12,state.Ahfs*1e-6,state.Bhfs*1e-6,state.Chfs*1e-6] for state in available]\n",
    "\n",
    "print tabulate(table,head)"
   ]
  },
  {
   "cell_type": "code",
   "execution_count": 5,
   "metadata": {
    "collapsed": false
   },
   "outputs": [
    {
     "name": "stdout",
     "output_type": "stream",
     "text": [
      "State            Energy (THz)    A_hfs (MHz)    B_hfs (MHz)    C_hfs (MHz)\n",
      "-------------  --------------  -------------  -------------  -------------\n",
      "133Cs 4F_5/2          733.659         0               0                  0\n",
      "133Cs 4F_7/2          733.653         0               0                  0\n",
      "133Cs 5D_3/2          434.677        48.78            0.1                0\n",
      "133Cs 5D_5/2          437.602       -21.24            0.2                0\n",
      "133Cs 5F_5/2          808.579         0               0                  0\n",
      "133Cs 5F_7/2          808.575         0               0                  0\n",
      "133Cs 54_7/2          809.681         0               0                  0\n",
      "133Cs 54_9/2          809.681         0               0                  0\n",
      "133Cs 6S_1/2            0          2298.16            0                  0\n",
      "133Cs 6P_1/2          335.116       291.931           0                  0\n",
      "133Cs 6P_3/2          351.726        50.2882         -0.494              0\n",
      "133Cs 6D_3/2          677.196        16.34           -0.1                0\n",
      "133Cs 6D_5/2          678.481        -4.66            0.9                0\n",
      "133Cs 6F_5/2          849.297         0               0                  0\n",
      "133Cs 6F_7/2          849.294        63.2             0                  0\n",
      "133Cs 64_7/2          849.985         0               0                  0\n",
      "133Cs 64_9/2          849.985         0               0                  0\n",
      "133Cs 7S_1/2          555.681       545.9             0                  0\n",
      "133Cs 7P_1/2          652.509        94.35            0                  0\n",
      "133Cs 7P_3/2          657.936        16.609           0                  0\n",
      "133Cs 7D_3/2          780.894         7.4             0                  0\n",
      "133Cs 7D_5/2          781.522        -1.7             0                  0\n",
      "133Cs 7F_5/2          873.835         0               0                  0\n",
      "133Cs 7F_7/2          873.832         0               0                  0\n",
      "133Cs 74_7/2          874.287         0               0                  0\n",
      "133Cs 74_9/2          874.287         0               0                  0\n",
      "133Cs 8S_1/2          729.01        219.12            0                  0\n",
      "133Cs 8P_1/2          770.732        42.97            0                  0\n",
      "133Cs 8P_3/2          773.21          7.626           0                  0\n",
      "133Cs 8D_3/2          833.76          4.129           0                  0\n",
      "133Cs 8D_5/2          834.109         3.95            0                  0\n",
      "133Cs 8F_5/2          889.746         0               0                  0\n",
      "133Cs 8F_7/2          889.745         0               0                  0\n",
      "133Cs 84_7/2          890.058         0               0                  0\n",
      "133Cs 84_9/2          890.058         0               0                  0\n",
      "133Cs 9S_1/2          806.761       110.1             0                  0\n",
      "133Cs 9P_1/2          828.536         0               0                  0\n",
      "133Cs 9P_3/2          829.876        23.19            0                  0\n",
      "133Cs 9D_3/2          864.262         2.38            0                  0\n",
      "133Cs 9D_5/2          864.475        -0.45            0                  0\n",
      "133Cs 9F_5/2          900.646         0               0                  0\n",
      "133Cs 9F_7/2          900.645         0               0                  0\n",
      "133Cs 94_7/2          900.869         0               0                  0\n",
      "133Cs 94_9/2          900.869         0               0                  0\n",
      "133Cs 10S_1/2         848.42         -0.85            0                  0\n",
      "133Cs 10P_1/2         861.208        13.9             0                  0\n",
      "133Cs 10P_3/2         862.014         2.485           0                  0\n",
      "133Cs 10D_3/2         883.437         1.54            0                  0\n",
      "133Cs 10D_5/2         883.577        -0.35            0                  0\n",
      "133Cs 11S_1/2         873.347        39.4             0                  0\n",
      "133Cs 11P_1/2         881.492         0               0                  0\n",
      "133Cs 11P_3/2         882.014         1.6             0                  0\n",
      "133Cs 11D_3/2         896.27          1.055           0                  0\n",
      "133Cs 11D_5/2         896.366         0.24            0                  0\n",
      "133Cs 12S_1/2         889.448        26.31            0                  0\n",
      "133Cs 12P_1/2         894.953         0               0                  0\n",
      "133Cs 12P_3/2         895.311         1.1             0                  0\n",
      "133Cs 13S_1/2         900.45         18.4             0                  0\n",
      "133Cs 13P_1/2         900.869         0               0                  0\n",
      "133Cs 13P_3/2         904.344         0.77            0                  0\n"
     ]
    }
   ],
   "source": [
    "Nmax=50\n",
    "element=\"Cs\"; isotope=133; I=7/Integer(2)\n",
    "available, not_available=review_database(element,isotope,I)\n",
    "\n",
    "head=[\"State\",\"Energy (THz)\", \"A_hfs (MHz)\", \"B_hfs (MHz)\", \"C_hfs (MHz)\"]\n",
    "table=[ [state,state.nu*1e-12,state.Ahfs*1e-6,state.Bhfs*1e-6,state.Chfs*1e-6] for state in available]\n",
    "\n",
    "print tabulate(table,head)"
   ]
  },
  {
   "cell_type": "code",
   "execution_count": null,
   "metadata": {
    "collapsed": true
   },
   "outputs": [],
   "source": []
  }
 ],
 "metadata": {
  "kernelspec": {
   "display_name": "Python [conda root]",
   "language": "python",
   "name": "conda-root-py"
  },
  "language_info": {
   "codemirror_mode": {
    "name": "ipython",
    "version": 2
   },
   "file_extension": ".py",
   "mimetype": "text/x-python",
   "name": "python",
   "nbconvert_exporter": "python",
   "pygments_lexer": "ipython2",
   "version": "2.7.12"
  }
 },
 "nbformat": 4,
 "nbformat_minor": 1
}
