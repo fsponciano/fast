{
 "cells": [
  {
   "cell_type": "code",
   "execution_count": 1,
   "metadata": {
    "collapsed": true
   },
   "outputs": [],
   "source": [
    "from sympy import init_printing\n",
    "init_printing() "
   ]
  },
  {
   "cell_type": "code",
   "execution_count": 2,
   "metadata": {
    "collapsed": false
   },
   "outputs": [],
   "source": [
    "from sympy import Symbol,Matrix,symbols\n",
    "from sympy import I,conjugate,re,im\n",
    "from sympy import sin,cos,exp,sqrt,pi\n",
    "from sympy import pprint\n",
    "from sympy import simplify\n",
    "from sympy import KroneckerDelta\n",
    "from sympy import Function, Derivative\n",
    "from sympy import solve\n",
    "from sympy import zeros\n",
    "\n",
    "from fast.symbolic import define_density_matrix, define_laser_variables, polarization_vector\n",
    "from fast.symbolic import cartesian_to_helicity, helicity_to_cartesian, helicity_dot_product\n",
    "from fast.symbolic import define_r_components, define_frequencies\n",
    "from fast.symbolic import delta_greater, delta_lesser\n",
    "from fast.symbolic import ket,bra,lindblad_operator,lindblad_terms"
   ]
  },
  {
   "cell_type": "markdown",
   "metadata": {},
   "source": [
    "We define the number of states and of radiation fields."
   ]
  },
  {
   "cell_type": "code",
   "execution_count": 3,
   "metadata": {
    "collapsed": true
   },
   "outputs": [],
   "source": [
    "Ne=2\n",
    "Nl=1"
   ]
  },
  {
   "cell_type": "markdown",
   "metadata": {},
   "source": [
    "We define the density matrix."
   ]
  },
  {
   "cell_type": "code",
   "execution_count": 4,
   "metadata": {
    "collapsed": false
   },
   "outputs": [
    {
     "name": "stdout",
     "output_type": "stream",
     "text": [
      "⎡                   -ρ₂₂ + 1                      -ⅈ⋅\\mathfrak{I}\\rho_{21} + \\\n",
      "⎢                                                                             \n",
      "⎣ⅈ⋅\\mathfrak{I}\\rho_{21} + \\mathfrak{R}\\rho_{21}                        ρ₂₂   \n",
      "\n",
      "mathfrak{R}\\rho_{21}⎤\n",
      "                    ⎥\n",
      "                    ⎦\n",
      "\n",
      "⎡      -ρ₂₂ + 1         \\mathfrak{R}\\rho_{21}⎤\n",
      "⎢                                            ⎥\n",
      "⎣\\mathfrak{R}\\rho_{21}           ρ₂₂         ⎦\n",
      "\n",
      "⎡          0            -\\mathfrak{I}\\rho_{21}⎤\n",
      "⎢                                             ⎥\n",
      "⎣\\mathfrak{I}\\rho_{21}            0           ⎦\n"
     ]
    }
   ],
   "source": [
    "rho,re_rho,im_rho=define_density_matrix(Ne,explicitly_hermitian=True,normalized=True)\n",
    "rho=re_rho+I*im_rho\n",
    "pprint(   rho)\n",
    "print\n",
    "pprint(re_rho)\n",
    "print\n",
    "pprint(im_rho)"
   ]
  },
  {
   "cell_type": "markdown",
   "metadata": {},
   "source": [
    "We define the variables related to the laser field."
   ]
  },
  {
   "cell_type": "code",
   "execution_count": 5,
   "metadata": {
    "collapsed": false
   },
   "outputs": [
    {
     "name": "stdout",
     "output_type": "stream",
     "text": [
      "ρ₂₂\n"
     ]
    }
   ],
   "source": [
    "pprint(Symbol(\"rho_22\"))"
   ]
  },
  {
   "cell_type": "code",
   "execution_count": 6,
   "metadata": {
    "collapsed": false
   },
   "outputs": [
    {
     "name": "stdout",
     "output_type": "stream",
     "text": [
      "[E¹₀]\n",
      "[ω¹]\n"
     ]
    }
   ],
   "source": [
    "E0,omega_laser=define_laser_variables(Nl)\n",
    "pprint(E0)\n",
    "pprint(omega_laser)"
   ]
  },
  {
   "cell_type": "markdown",
   "metadata": {},
   "source": [
    "We define a few important symbols."
   ]
  },
  {
   "cell_type": "code",
   "execution_count": 7,
   "metadata": {
    "collapsed": false
   },
   "outputs": [
    {
     "name": "stdout",
     "output_type": "stream",
     "text": [
      "[t, h̅, e]\n"
     ]
    }
   ],
   "source": [
    "t,hbar,e=symbols(\"t hbar e\",positive=True)\n",
    "pprint([t,hbar,e])"
   ]
  },
  {
   "cell_type": "markdown",
   "metadata": {},
   "source": [
    "We write an electric field propagating trough the $\\hat{x}$ direction polarized in the $\\hat{z}$ direction. First the wave vector:"
   ]
  },
  {
   "cell_type": "code",
   "execution_count": 8,
   "metadata": {
    "collapsed": false
   },
   "outputs": [
    {
     "name": "stdout",
     "output_type": "stream",
     "text": [
      "⎡1⎤\n",
      "⎢ ⎥\n",
      "⎢0⎥\n",
      "⎢ ⎥\n",
      "⎣0⎦\n"
     ]
    }
   ],
   "source": [
    "phi=0; theta=pi/2; alpha=pi/2; beta=0\n",
    "\n",
    "k=Matrix([cos(phi)*sin(theta),sin(phi)*sin(theta),cos(theta)])\n",
    "pprint(k)"
   ]
  },
  {
   "cell_type": "markdown",
   "metadata": {},
   "source": [
    "The polarization vectors."
   ]
  },
  {
   "cell_type": "code",
   "execution_count": 9,
   "metadata": {
    "collapsed": false
   },
   "outputs": [
    {
     "name": "stdout",
     "output_type": "stream",
     "text": [
      "⎡⎡0⎤, ⎡0⎤⎤\n",
      "⎢⎢ ⎥  ⎢ ⎥⎥\n",
      "⎢⎢0⎥  ⎢0⎥⎥\n",
      "⎢⎢ ⎥  ⎢ ⎥⎥\n",
      "⎣⎣1⎦  ⎣1⎦⎦\n"
     ]
    }
   ],
   "source": [
    "ep=polarization_vector(phi,theta,alpha,beta, 1)\n",
    "em=polarization_vector(phi,theta,alpha,beta,-1)\n",
    "pprint([ep,em])"
   ]
  },
  {
   "cell_type": "markdown",
   "metadata": {},
   "source": [
    "The electric field (evaluated in $\\vec{R}=0$)."
   ]
  },
  {
   "cell_type": "code",
   "execution_count": 10,
   "metadata": {
    "collapsed": false
   },
   "outputs": [
    {
     "name": "stdout",
     "output_type": "stream",
     "text": [
      "⎡           0            ⎤\n",
      "⎢                        ⎥\n",
      "⎢           0            ⎥\n",
      "⎢                        ⎥\n",
      "⎢    ⎛ ⅈ⋅ω¹⋅t    -ⅈ⋅ω¹⋅t⎞⎥\n",
      "⎢E¹₀⋅⎝ℯ       + ℯ       ⎠⎥\n",
      "⎢────────────────────────⎥\n",
      "⎣           2            ⎦\n"
     ]
    }
   ],
   "source": [
    "E_cartesian=E0[0]/2*(ep*exp(-I*omega_laser[0]*t) + em*exp( I*omega_laser[0]*t))\n",
    "pprint(E_cartesian)"
   ]
  },
  {
   "cell_type": "markdown",
   "metadata": {},
   "source": [
    "We write the electric field in the helicity basis."
   ]
  },
  {
   "cell_type": "code",
   "execution_count": 11,
   "metadata": {
    "collapsed": false
   },
   "outputs": [
    {
     "name": "stdout",
     "output_type": "stream",
     "text": [
      "⎡           0            ⎤\n",
      "⎢                        ⎥\n",
      "⎢    ⎛ ⅈ⋅ω¹⋅t    -ⅈ⋅ω¹⋅t⎞⎥\n",
      "⎢E¹₀⋅⎝ℯ       + ℯ       ⎠⎥\n",
      "⎢────────────────────────⎥\n",
      "⎢           2            ⎥\n",
      "⎢                        ⎥\n",
      "⎣           0            ⎦\n"
     ]
    }
   ],
   "source": [
    "E=cartesian_to_helicity(E_cartesian)\n",
    "pprint(E)"
   ]
  },
  {
   "cell_type": "markdown",
   "metadata": {},
   "source": [
    "We define the position operator."
   ]
  },
  {
   "cell_type": "code",
   "execution_count": 12,
   "metadata": {
    "collapsed": false
   },
   "outputs": [
    {
     "name": "stdout",
     "output_type": "stream",
     "text": [
      "⎡⎡            _________⎤  ⎡          ________⎤  ⎡            _________⎤⎤\n",
      "⎢⎢    0      -r_{+1;21}⎥, ⎢   0      r_{0;21}⎥, ⎢    0      -r_{-1;21}⎥⎥\n",
      "⎢⎢                     ⎥  ⎢                  ⎥  ⎢                     ⎥⎥\n",
      "⎣⎣r_{-1;21}      0     ⎦  ⎣r_{0;21}     0    ⎦  ⎣r_{+1;21}      0     ⎦⎦\n"
     ]
    }
   ],
   "source": [
    "r=define_r_components(Ne,helicity=True,explicitly_hermitian=True)\n",
    "pprint(r)"
   ]
  },
  {
   "cell_type": "markdown",
   "metadata": {},
   "source": [
    "The frequencies of the energy levels, the resonant frequencies, and the decay frequencies."
   ]
  },
  {
   "cell_type": "code",
   "execution_count": 13,
   "metadata": {
    "collapsed": false
   },
   "outputs": [
    {
     "name": "stdout",
     "output_type": "stream",
     "text": [
      "[ω₁, ω₂]\n",
      "\n",
      "⎡ 0   -ω₂₁⎤\n",
      "⎢         ⎥\n",
      "⎣ω₂₁   0  ⎦\n",
      "\n",
      "⎡ 0   -γ₂₁⎤\n",
      "⎢         ⎥\n",
      "⎣γ₂₁   0  ⎦\n"
     ]
    }
   ],
   "source": [
    "omega_level,omega,gamma=define_frequencies(Ne,explicitly_antisymmetric=True)\n",
    "pprint(omega_level)\n",
    "print\n",
    "pprint(omega)\n",
    "print\n",
    "pprint(gamma)"
   ]
  },
  {
   "cell_type": "markdown",
   "metadata": {},
   "source": [
    "The atomic hamiltonian is"
   ]
  },
  {
   "cell_type": "code",
   "execution_count": 14,
   "metadata": {
    "collapsed": false
   },
   "outputs": [
    {
     "name": "stdout",
     "output_type": "stream",
     "text": [
      "⎡h̅⋅ω₁    0  ⎤\n",
      "⎢            ⎥\n",
      "⎣  0    h̅⋅ω₂⎦\n"
     ]
    }
   ],
   "source": [
    "H0=Matrix([[hbar*omega_level[i]*KroneckerDelta(i,j) for j in range(Ne)] for i in range(Ne)])\n",
    "pprint(H0)"
   ]
  },
  {
   "cell_type": "markdown",
   "metadata": {
    "collapsed": false
   },
   "source": [
    "The interaction hamiltonian is"
   ]
  },
  {
   "cell_type": "code",
   "execution_count": 15,
   "metadata": {
    "collapsed": false
   },
   "outputs": [
    {
     "name": "stdout",
     "output_type": "stream",
     "text": [
      "⎡                                           ⎛ ⅈ⋅ω¹⋅t    -ⅈ⋅ω¹⋅t⎞ ________⎤\n",
      "⎢                                     E¹₀⋅e⋅⎝ℯ       + ℯ       ⎠⋅r_{0;21}⎥\n",
      "⎢                 0                   ───────────────────────────────────⎥\n",
      "⎢                                                      2                 ⎥\n",
      "⎢                                                                        ⎥\n",
      "⎢               ⎛ ⅈ⋅ω¹⋅t    -ⅈ⋅ω¹⋅t⎞                                     ⎥\n",
      "⎢E¹₀⋅e⋅r_{0;21}⋅⎝ℯ       + ℯ       ⎠                                     ⎥\n",
      "⎢───────────────────────────────────                   0                 ⎥\n",
      "⎣                 2                                                      ⎦\n"
     ]
    }
   ],
   "source": [
    "H1=e*helicity_dot_product(E,r)\n",
    "pprint(H1)"
   ]
  },
  {
   "cell_type": "markdown",
   "metadata": {},
   "source": [
    "and the complete hamiltonian is"
   ]
  },
  {
   "cell_type": "code",
   "execution_count": 16,
   "metadata": {
    "collapsed": false
   },
   "outputs": [
    {
     "name": "stdout",
     "output_type": "stream",
     "text": [
      "⎡                                           ⎛ ⅈ⋅ω¹⋅t    -ⅈ⋅ω¹⋅t⎞ ________⎤\n",
      "⎢                                     E¹₀⋅e⋅⎝ℯ       + ℯ       ⎠⋅r_{0;21}⎥\n",
      "⎢               h̅⋅ω₁                 ───────────────────────────────────⎥\n",
      "⎢                                                      2                 ⎥\n",
      "⎢                                                                        ⎥\n",
      "⎢               ⎛ ⅈ⋅ω¹⋅t    -ⅈ⋅ω¹⋅t⎞                                     ⎥\n",
      "⎢E¹₀⋅e⋅r_{0;21}⋅⎝ℯ       + ℯ       ⎠                                     ⎥\n",
      "⎢───────────────────────────────────                 h̅⋅ω₂               ⎥\n",
      "⎣                 2                                                      ⎦\n"
     ]
    }
   ],
   "source": [
    "H=H0+H1\n",
    "pprint(H)"
   ]
  },
  {
   "cell_type": "markdown",
   "metadata": {
    "collapsed": true
   },
   "source": [
    "# Rotating wave approximation\n",
    "Notice that the electric field can be separated by terms with positive and negative frequency:"
   ]
  },
  {
   "cell_type": "code",
   "execution_count": 17,
   "metadata": {
    "collapsed": false
   },
   "outputs": [
    {
     "name": "stdout",
     "output_type": "stream",
     "text": [
      "⎡⎡     0      ⎤, ⎡     0     ⎤⎤\n",
      "⎢⎢            ⎥  ⎢           ⎥⎥\n",
      "⎢⎢     -ⅈ⋅ω¹⋅t⎥  ⎢     ⅈ⋅ω¹⋅t⎥⎥\n",
      "⎢⎢E¹₀⋅ℯ       ⎥  ⎢E¹₀⋅ℯ      ⎥⎥\n",
      "⎢⎢────────────⎥  ⎢───────────⎥⎥\n",
      "⎢⎢     2      ⎥  ⎢     2     ⎥⎥\n",
      "⎢⎢            ⎥  ⎢           ⎥⎥\n",
      "⎣⎣     0      ⎦  ⎣     0     ⎦⎦\n"
     ]
    }
   ],
   "source": [
    "E_cartesian_p=E0[0]/2*ep*exp(-I*omega_laser[0]*t)\n",
    "E_cartesian_m=E0[0]/2*em*exp( I*omega_laser[0]*t)\n",
    "\n",
    "E_p=cartesian_to_helicity(E_cartesian_p)\n",
    "E_m=cartesian_to_helicity(E_cartesian_m)\n",
    "\n",
    "pprint([E_p,E_m])"
   ]
  },
  {
   "cell_type": "code",
   "execution_count": 18,
   "metadata": {
    "collapsed": false
   },
   "outputs": [
    {
     "name": "stdout",
     "output_type": "stream",
     "text": [
      "⎡0⎤\n",
      "⎢ ⎥\n",
      "⎢0⎥\n",
      "⎢ ⎥\n",
      "⎣0⎦\n"
     ]
    }
   ],
   "source": [
    "pprint( simplify(E-(E_p+E_m)) )"
   ]
  },
  {
   "cell_type": "markdown",
   "metadata": {},
   "source": [
    "The position operator can also be separated in this way. We go to the interaction picture (with $\\hat{H}_0$ as the undisturbed hamiltonian)"
   ]
  },
  {
   "cell_type": "code",
   "execution_count": 19,
   "metadata": {
    "collapsed": false
   },
   "outputs": [
    {
     "name": "stdout",
     "output_type": "stream",
     "text": [
      "⎡                      -ⅈ⋅ω₂₁⋅t _________⎤\n",
      "⎢        0           -ℯ        ⋅r_{+1;21}⎥\n",
      "⎢                                        ⎥\n",
      "⎢           ⅈ⋅ω₂₁⋅t                      ⎥\n",
      "⎣r_{-1;21}⋅ℯ                  0          ⎦\n",
      "⎡                    -ⅈ⋅ω₂₁⋅t ________⎤\n",
      "⎢        0          ℯ        ⋅r_{0;21}⎥\n",
      "⎢                                     ⎥\n",
      "⎢          ⅈ⋅ω₂₁⋅t                    ⎥\n",
      "⎣r_{0;21}⋅ℯ                 0         ⎦\n",
      "⎡                      -ⅈ⋅ω₂₁⋅t _________⎤\n",
      "⎢        0           -ℯ        ⋅r_{-1;21}⎥\n",
      "⎢                                        ⎥\n",
      "⎢           ⅈ⋅ω₂₁⋅t                      ⎥\n",
      "⎣r_{+1;21}⋅ℯ                  0          ⎦\n"
     ]
    }
   ],
   "source": [
    "r_I=[ Matrix([[exp(I*omega[i,j]*t)*r[p][i,j] for j in range(Ne)] for i in range(Ne)]) for p in range(3)]\n",
    "pprint(r_I[0])\n",
    "pprint(r_I[1])\n",
    "pprint(r_I[2])"
   ]
  },
  {
   "cell_type": "markdown",
   "metadata": {},
   "source": [
    "Which can be decomposed as"
   ]
  },
  {
   "cell_type": "code",
   "execution_count": 20,
   "metadata": {
    "collapsed": false
   },
   "outputs": [
    {
     "name": "stdout",
     "output_type": "stream",
     "text": [
      "⎡     -ⅈ⋅ω₂₁⋅t _________⎤\n",
      "⎢0  -ℯ        ⋅r_{+1;21}⎥\n",
      "⎢                       ⎥\n",
      "⎣0           0          ⎦\n",
      "⎡    -ⅈ⋅ω₂₁⋅t ________⎤\n",
      "⎢0  ℯ        ⋅r_{0;21}⎥\n",
      "⎢                     ⎥\n",
      "⎣0          0         ⎦\n",
      "⎡     -ⅈ⋅ω₂₁⋅t _________⎤\n",
      "⎢0  -ℯ        ⋅r_{-1;21}⎥\n",
      "⎢                       ⎥\n",
      "⎣0           0          ⎦\n"
     ]
    }
   ],
   "source": [
    "r_I_p=[ Matrix([[ delta_greater(j,i)*exp(-I*omega[j,i]*t)*r[p][i,j] for j in range(Ne)]for i in range(Ne)]) for p in range(3)]\n",
    "pprint(r_I_p[0])\n",
    "pprint(r_I_p[1])\n",
    "pprint(r_I_p[2])"
   ]
  },
  {
   "cell_type": "code",
   "execution_count": 21,
   "metadata": {
    "collapsed": false
   },
   "outputs": [
    {
     "name": "stdout",
     "output_type": "stream",
     "text": [
      "⎡        0           0⎤\n",
      "⎢                     ⎥\n",
      "⎢           ⅈ⋅ω₂₁⋅t   ⎥\n",
      "⎣r_{-1;21}⋅ℯ         0⎦\n",
      "⎡        0          0⎤\n",
      "⎢                    ⎥\n",
      "⎢          ⅈ⋅ω₂₁⋅t   ⎥\n",
      "⎣r_{0;21}⋅ℯ         0⎦\n",
      "⎡        0           0⎤\n",
      "⎢                     ⎥\n",
      "⎢           ⅈ⋅ω₂₁⋅t   ⎥\n",
      "⎣r_{+1;21}⋅ℯ         0⎦\n"
     ]
    }
   ],
   "source": [
    "r_I_m=[ Matrix([[ delta_lesser( j,i)*exp( I*omega[i,j]*t)*r[p][i,j] for j in range(Ne)]for i in range(Ne)]) for p in range(3)]\n",
    "pprint(r_I_m[0])\n",
    "pprint(r_I_m[1])\n",
    "pprint(r_I_m[2])"
   ]
  },
  {
   "cell_type": "markdown",
   "metadata": {},
   "source": [
    "that summed equal $\\vec{\\hat{r}}_I$"
   ]
  },
  {
   "cell_type": "code",
   "execution_count": 22,
   "metadata": {
    "collapsed": false
   },
   "outputs": [
    {
     "name": "stdout",
     "output_type": "stream",
     "text": [
      "⎡⎡0  0⎤, ⎡0  0⎤, ⎡0  0⎤⎤\n",
      "⎢⎢    ⎥  ⎢    ⎥  ⎢    ⎥⎥\n",
      "⎣⎣0  0⎦  ⎣0  0⎦  ⎣0  0⎦⎦\n"
     ]
    }
   ],
   "source": [
    "pprint( [r_I[p]-(r_I_p[p]+r_I_m[p]) for p in range(3)] )"
   ]
  },
  {
   "cell_type": "markdown",
   "metadata": {},
   "source": [
    "Thus the interaction hamiltonian in the interaciton picture is\n",
    "\\begin{equation}\n",
    "    \\hat{H}_{1I}=e\\vec{E}\\cdot \\vec{\\hat{r}}_I= e(\\vec{E}^{(+)}\\cdot \\vec{\\hat{r}}^{(+)}_I + \\vec{E}^{(+)}\\cdot \\vec{\\hat{r}}^{(-)}_I + \\vec{E}^{(-)}\\cdot \\vec{\\hat{r}}^{(+)}_I + \\vec{E}^{(-)}\\cdot \\vec{\\hat{r}}^{(-)}_I)\n",
    "\\end{equation}"
   ]
  },
  {
   "cell_type": "code",
   "execution_count": 23,
   "metadata": {
    "collapsed": false
   },
   "outputs": [
    {
     "name": "stdout",
     "output_type": "stream",
     "text": [
      "⎡                                                    ⎛ ⅈ⋅ω¹⋅t    -ⅈ⋅ω¹⋅t⎞  -ⅈ⋅ω₂₁⋅t ________⎤\n",
      "⎢                                              E¹₀⋅e⋅⎝ℯ       + ℯ       ⎠⋅ℯ        ⋅r_{0;21}⎥\n",
      "⎢                     0                        ─────────────────────────────────────────────⎥\n",
      "⎢                                                                    2                      ⎥\n",
      "⎢                                                                                           ⎥\n",
      "⎢               ⎛ ⅈ⋅ω¹⋅t    -ⅈ⋅ω¹⋅t⎞  ⅈ⋅ω₂₁⋅t                                               ⎥\n",
      "⎢E¹₀⋅e⋅r_{0;21}⋅⎝ℯ       + ℯ       ⎠⋅ℯ                                                      ⎥\n",
      "⎢────────────────────────────────────────────                        0                      ⎥\n",
      "⎣                     2                                                                     ⎦\n"
     ]
    }
   ],
   "source": [
    "H1I=e*helicity_dot_product(E,r_I)\n",
    "pprint(H1I,num_columns=120)"
   ]
  },
  {
   "cell_type": "markdown",
   "metadata": {},
   "source": [
    "Since both $\\omega^l$ and $\\omega_{ij}$ are in the order of THz, the terms that have frequencies with the same sign are summed, and thus also of the order of THz. The frequencies in the terms with oposite signs however, are detunings of the order of MHz. Since we are only interested in the coarse-grained evolution of the density matrix, we may omit the fast terms and approximate\n",
    "\n",
    "\\begin{equation}\n",
    "    \\hat{H}_{1I} \\simeq \\hat{H}_{1I,RWA}= e( \\vec{E}^{(+)}\\cdot \\vec{\\hat{r}}^{(-)}_I + \\vec{E}^{(-)}\\cdot \\vec{\\hat{r}}^{(+)}_I )\n",
    "\\end{equation}\n",
    "\n",
    "That is known as the rotating wave approximation (RWA)."
   ]
  },
  {
   "cell_type": "code",
   "execution_count": 24,
   "metadata": {
    "collapsed": false
   },
   "outputs": [
    {
     "name": "stdout",
     "output_type": "stream",
     "text": [
      "⎡                                         ⅈ⋅ω¹⋅t  -ⅈ⋅ω₂₁⋅t ________⎤\n",
      "⎢                                  E¹₀⋅e⋅ℯ      ⋅ℯ        ⋅r_{0;21}⎥\n",
      "⎢               0                  ────────────────────────────────⎥\n",
      "⎢                                                 2                ⎥\n",
      "⎢                                                                  ⎥\n",
      "⎢                -ⅈ⋅ω¹⋅t  ⅈ⋅ω₂₁⋅t                                  ⎥\n",
      "⎢E¹₀⋅e⋅r_{0;21}⋅ℯ       ⋅ℯ                                         ⎥\n",
      "⎢────────────────────────────────                 0                ⎥\n",
      "⎣               2                                                  ⎦\n"
     ]
    }
   ],
   "source": [
    "H1IRWA=e*(helicity_dot_product(E_p,r_I_m)+helicity_dot_product(E_m,r_I_p))\n",
    "pprint(H1IRWA)"
   ]
  },
  {
   "cell_type": "markdown",
   "metadata": {},
   "source": [
    " Returning to the Schrödinger picture we have."
   ]
  },
  {
   "cell_type": "code",
   "execution_count": 25,
   "metadata": {
    "collapsed": false
   },
   "outputs": [
    {
     "name": "stdout",
     "output_type": "stream",
     "text": [
      "⎡⎡    _________⎤  ⎡   ________⎤  ⎡    _________⎤⎤\n",
      "⎢⎢0  -r_{+1;21}⎥, ⎢0  r_{0;21}⎥, ⎢0  -r_{-1;21}⎥⎥\n",
      "⎢⎢             ⎥  ⎢           ⎥  ⎢             ⎥⎥\n",
      "⎣⎣0      0     ⎦  ⎣0     0    ⎦  ⎣0      0     ⎦⎦\n"
     ]
    }
   ],
   "source": [
    "r_p=[ Matrix([[ delta_greater(j,i)*r[p][i,j] for j in range(Ne)]for i in range(Ne)]) for p in range(3)]\n",
    "pprint(r_p)"
   ]
  },
  {
   "cell_type": "code",
   "execution_count": 26,
   "metadata": {
    "collapsed": false
   },
   "outputs": [
    {
     "name": "stdout",
     "output_type": "stream",
     "text": [
      "⎡⎡    0      0⎤, ⎡   0      0⎤, ⎡    0      0⎤⎤\n",
      "⎢⎢            ⎥  ⎢           ⎥  ⎢            ⎥⎥\n",
      "⎣⎣r_{-1;21}  0⎦  ⎣r_{0;21}  0⎦  ⎣r_{+1;21}  0⎦⎦\n"
     ]
    }
   ],
   "source": [
    "r_m=[ Matrix([[ delta_lesser( j,i)*r[p][i,j] for j in range(Ne)]for i in range(Ne)]) for p in range(3)]\n",
    "pprint(r_m)"
   ]
  },
  {
   "cell_type": "code",
   "execution_count": 27,
   "metadata": {
    "collapsed": false
   },
   "outputs": [
    {
     "name": "stdout",
     "output_type": "stream",
     "text": [
      "⎡⎡0  0⎤, ⎡0  0⎤, ⎡0  0⎤⎤\n",
      "⎢⎢    ⎥  ⎢    ⎥  ⎢    ⎥⎥\n",
      "⎣⎣0  0⎦  ⎣0  0⎦  ⎣0  0⎦⎦\n"
     ]
    }
   ],
   "source": [
    "pprint( [r[p]-(r_p[p]+r_m[p]) for p in range(3)] )"
   ]
  },
  {
   "cell_type": "markdown",
   "metadata": {},
   "source": [
    "Thus the interaction hamiltonian in the Schrödinger picture in the rotating wave approximation is"
   ]
  },
  {
   "cell_type": "code",
   "execution_count": 28,
   "metadata": {
    "collapsed": false
   },
   "outputs": [
    {
     "name": "stdout",
     "output_type": "stream",
     "text": [
      "⎡                                ⅈ⋅ω¹⋅t ________⎤\n",
      "⎢                         E¹₀⋅e⋅ℯ      ⋅r_{0;21}⎥\n",
      "⎢           0             ──────────────────────⎥\n",
      "⎢                                   2           ⎥\n",
      "⎢                                               ⎥\n",
      "⎢                -ⅈ⋅ω¹⋅t                        ⎥\n",
      "⎢E¹₀⋅e⋅r_{0;21}⋅ℯ                               ⎥\n",
      "⎢───────────────────────            0           ⎥\n",
      "⎣           2                                   ⎦\n"
     ]
    }
   ],
   "source": [
    "H1RWA=e*(helicity_dot_product(E_p,r_m)+helicity_dot_product(E_m,r_p))\n",
    "pprint(H1RWA)"
   ]
  },
  {
   "cell_type": "markdown",
   "metadata": {},
   "source": [
    "And the complete hamiltonian in the Schrödinger picture in the rotating wave approximation is"
   ]
  },
  {
   "cell_type": "code",
   "execution_count": 29,
   "metadata": {
    "collapsed": false
   },
   "outputs": [
    {
     "name": "stdout",
     "output_type": "stream",
     "text": [
      "⎡                                ⅈ⋅ω¹⋅t ________⎤\n",
      "⎢                         E¹₀⋅e⋅ℯ      ⋅r_{0;21}⎥\n",
      "⎢         h̅⋅ω₁           ──────────────────────⎥\n",
      "⎢                                   2           ⎥\n",
      "⎢                                               ⎥\n",
      "⎢                -ⅈ⋅ω¹⋅t                        ⎥\n",
      "⎢E¹₀⋅e⋅r_{0;21}⋅ℯ                               ⎥\n",
      "⎢───────────────────────          h̅⋅ω₂         ⎥\n",
      "⎣           2                                   ⎦\n"
     ]
    }
   ],
   "source": [
    "HRWA=H0+H1RWA\n",
    "pprint(HRWA)"
   ]
  },
  {
   "cell_type": "markdown",
   "metadata": {
    "collapsed": true
   },
   "source": [
    "# Rotating Frame\n",
    "Next we will make a phase transformation in order to eliminate the explicit time dependance of the equations."
   ]
  },
  {
   "cell_type": "code",
   "execution_count": 30,
   "metadata": {
    "collapsed": false
   },
   "outputs": [],
   "source": [
    "def define_psi_coefficients(Ne):\n",
    "    c      = Matrix([Function(        \"c\"   +str(i+1)     )(t) for i in range(Ne)])\n",
    "    ctilde = Matrix([Function(r\"\\tilde{c}_{\"+str(i+1)+\"}\" )(t) for i in range(Ne)])\n",
    "    phase  = Matrix([  Symbol( \"theta\"      +str(i+1)     )    for i in range(Ne)])\n",
    "    return c,ctilde,phase\n",
    "def define_phases(Ne):\n",
    "    return Matrix([Symbol(\"theta\"+str(i+1)) for i in range(Ne)])"
   ]
  },
  {
   "cell_type": "code",
   "execution_count": 31,
   "metadata": {
    "collapsed": false
   },
   "outputs": [
    {
     "name": "stdout",
     "output_type": "stream",
     "text": [
      "⎡⎡c₁(t)⎤, ⎡\\tilde{c}_{1}(t)⎤, ⎡θ₁⎤⎤\n",
      "⎢⎢     ⎥  ⎢                ⎥  ⎢  ⎥⎥\n",
      "⎣⎣c₂(t)⎦  ⎣\\tilde{c}_{2}(t)⎦  ⎣θ₂⎦⎦\n"
     ]
    }
   ],
   "source": [
    "c,ctilde,phase=define_psi_coefficients(Ne)\n",
    "pprint([c,ctilde,phase])"
   ]
  },
  {
   "cell_type": "code",
   "execution_count": 32,
   "metadata": {
    "collapsed": false
   },
   "outputs": [
    {
     "name": "stdout",
     "output_type": "stream",
     "text": [
      "⎡                  ⅈ⋅t⋅θ₁⎤\n",
      "⎢\\tilde{c}_{1}(t)⋅ℯ      ⎥\n",
      "⎢                        ⎥\n",
      "⎢                  ⅈ⋅t⋅θ₂⎥\n",
      "⎣\\tilde{c}_{2}(t)⋅ℯ      ⎦\n"
     ]
    }
   ],
   "source": [
    "psi=Matrix([ exp(I*phase[i]*t)*ctilde[i] for i in range(Ne)])\n",
    "pprint(psi)"
   ]
  },
  {
   "cell_type": "markdown",
   "metadata": {},
   "source": [
    "The Schrödinger equation $i\\hbar \\partial_t |\\psi\\rangle=\\hat{H}_{RWA}$ is"
   ]
  },
  {
   "cell_type": "code",
   "execution_count": 33,
   "metadata": {
    "collapsed": false
   },
   "outputs": [
    {
     "name": "stdout",
     "output_type": "stream",
     "text": [
      "⎡                          ⅈ⋅t⋅θ₁         ⅈ⋅t⋅θ₁ d                   ⎤\n",
      "⎢- h̅⋅θ₁⋅\\tilde{c}_{1}(t)⋅ℯ       + ⅈ⋅h̅⋅ℯ      ⋅──(\\tilde{c}_{1}(t))⎥\n",
      "⎢                                                dt                  ⎥\n",
      "⎢                                                                    ⎥\n",
      "⎢                          ⅈ⋅t⋅θ₂         ⅈ⋅t⋅θ₂ d                   ⎥\n",
      "⎢- h̅⋅θ₂⋅\\tilde{c}_{2}(t)⋅ℯ       + ⅈ⋅h̅⋅ℯ      ⋅──(\\tilde{c}_{2}(t))⎥\n",
      "⎣                                                dt                  ⎦\n"
     ]
    }
   ],
   "source": [
    "lhs=Matrix([(I*hbar*Derivative(psi[i],t).doit()).expand() for i in range(Ne)])\n",
    "pprint(lhs)"
   ]
  },
  {
   "cell_type": "code",
   "execution_count": 34,
   "metadata": {
    "collapsed": false
   },
   "outputs": [
    {
     "name": "stdout",
     "output_type": "stream",
     "text": [
      "⎡                        ⅈ⋅ω¹⋅t  ⅈ⋅t⋅θ₂ ________                                  ⎤\n",
      "⎢E¹₀⋅e⋅\\tilde{c}_{2}(t)⋅ℯ      ⋅ℯ      ⋅r_{0;21}                           ⅈ⋅t⋅θ₁ ⎥\n",
      "⎢─────────────────────────────────────────────── + h̅⋅ω₁⋅\\tilde{c}_{1}(t)⋅ℯ       ⎥\n",
      "⎢                       2                                                         ⎥\n",
      "⎢                                                                                 ⎥\n",
      "⎢                                 -ⅈ⋅ω¹⋅t  ⅈ⋅t⋅θ₁                                 ⎥\n",
      "⎢E¹₀⋅e⋅r_{0;21}⋅\\tilde{c}_{1}(t)⋅ℯ       ⋅ℯ                                 ⅈ⋅t⋅θ₂⎥\n",
      "⎢──────────────────────────────────────────────── + h̅⋅ω₂⋅\\tilde{c}_{2}(t)⋅ℯ      ⎥\n",
      "⎣                       2                                                         ⎦\n"
     ]
    }
   ],
   "source": [
    "rhs=HRWA*psi\n",
    "pprint(rhs,num_columns=120)"
   ]
  },
  {
   "cell_type": "markdown",
   "metadata": {},
   "source": [
    "We multiply each of these equations by $e^{-i \\theta_i t}$ and substracting $i \\theta_i \\tilde{c}_i$"
   ]
  },
  {
   "cell_type": "code",
   "execution_count": 35,
   "metadata": {
    "collapsed": false
   },
   "outputs": [
    {
     "name": "stdout",
     "output_type": "stream",
     "text": [
      "⎡     d                   ⎤\n",
      "⎢ⅈ⋅h̅⋅──(\\tilde{c}_{1}(t))⎥\n",
      "⎢     dt                  ⎥\n",
      "⎢                         ⎥\n",
      "⎢     d                   ⎥\n",
      "⎢ⅈ⋅h̅⋅──(\\tilde{c}_{2}(t))⎥\n",
      "⎣     dt                  ⎦\n"
     ]
    }
   ],
   "source": [
    "lhs_new=Matrix([simplify(  lhs[i]*exp(-I*phase[i]*t) +hbar*phase[i]*ctilde[i] ) for i in range(Ne)])\n",
    "pprint(lhs_new)"
   ]
  },
  {
   "cell_type": "code",
   "execution_count": 36,
   "metadata": {
    "collapsed": false
   },
   "outputs": [
    {
     "name": "stdout",
     "output_type": "stream",
     "text": [
      "⎡                        ⅈ⋅ω¹⋅t  -ⅈ⋅t⋅θ₁  ⅈ⋅t⋅θ₂ ________                                                   ⎤\n",
      "⎢E¹₀⋅e⋅\\tilde{c}_{2}(t)⋅ℯ      ⋅ℯ       ⋅ℯ      ⋅r_{0;21}                                                   ⎥\n",
      "⎢──────────────────────────────────────────────────────── + h̅⋅ω₁⋅\\tilde{c}_{1}(t) + h̅⋅θ₁⋅\\tilde{c}_{1}(t) ⎥\n",
      "⎢                           2                                                                               ⎥\n",
      "⎢                                                                                                           ⎥\n",
      "⎢                                 -ⅈ⋅ω¹⋅t  ⅈ⋅t⋅θ₁  -ⅈ⋅t⋅θ₂                                                  ⎥\n",
      "⎢E¹₀⋅e⋅r_{0;21}⋅\\tilde{c}_{1}(t)⋅ℯ       ⋅ℯ      ⋅ℯ                                                         ⎥\n",
      "⎢───────────────────────────────────────────────────────── + h̅⋅ω₂⋅\\tilde{c}_{2}(t) + h̅⋅θ₂⋅\\tilde{c}_{2}(t)⎥\n",
      "⎣                            2                                                                              ⎦\n"
     ]
    }
   ],
   "source": [
    "rhs_new=Matrix([simplify(  rhs[i]*exp(-I*phase[i]*t) +hbar*phase[i]*ctilde[i] ) for i in range(Ne)])\n",
    "pprint(rhs_new,num_columns=120)"
   ]
  },
  {
   "cell_type": "markdown",
   "metadata": {},
   "source": [
    "It can be seen that the equations loose their explicit time dependance only if $\\omega^{1} - \\theta_{1} + \\theta_{2}=0$. Which is satisfied if"
   ]
  },
  {
   "cell_type": "code",
   "execution_count": 37,
   "metadata": {
    "collapsed": false
   },
   "outputs": [
    {
     "name": "stdout",
     "output_type": "stream",
     "text": [
      "{θ₂: -ω¹ + θ₁}\n"
     ]
    }
   ],
   "source": [
    "phase_transformation=solve(omega_laser[0]+phase[1]-phase[0],phase[1],dict=True)[0]\n",
    "pprint(phase_transformation)"
   ]
  },
  {
   "cell_type": "markdown",
   "metadata": {},
   "source": [
    "There is a free parameter $\\theta_1$, which is to be expected, since state vetors $|\\psi\\rangle$ always have a global phase invariance"
   ]
  },
  {
   "cell_type": "code",
   "execution_count": 38,
   "metadata": {
    "collapsed": false
   },
   "outputs": [
    {
     "name": "stdout",
     "output_type": "stream",
     "text": [
      "⎡                      ⅈ⋅t⋅θ₁    ⎤\n",
      "⎢    \\tilde{c}_{1}(t)⋅ℯ          ⎥\n",
      "⎢                                ⎥\n",
      "⎢                  ⅈ⋅t⋅(-ω¹ + θ₁)⎥\n",
      "⎣\\tilde{c}_{2}(t)⋅ℯ              ⎦\n"
     ]
    }
   ],
   "source": [
    "pprint(psi.subs(phase_transformation))"
   ]
  },
  {
   "cell_type": "markdown",
   "metadata": {},
   "source": [
    "Thus the equations become"
   ]
  },
  {
   "cell_type": "code",
   "execution_count": 39,
   "metadata": {
    "collapsed": false
   },
   "outputs": [
    {
     "name": "stdout",
     "output_type": "stream",
     "text": [
      "⎡     d                   ⎤\n",
      "⎢ⅈ⋅h̅⋅──(\\tilde{c}_{1}(t))⎥\n",
      "⎢     dt                  ⎥\n",
      "⎢                         ⎥\n",
      "⎢     d                   ⎥\n",
      "⎢ⅈ⋅h̅⋅──(\\tilde{c}_{2}(t))⎥\n",
      "⎣     dt                  ⎦\n"
     ]
    }
   ],
   "source": [
    "pprint(lhs_new)"
   ]
  },
  {
   "cell_type": "code",
   "execution_count": 40,
   "metadata": {
    "collapsed": false
   },
   "outputs": [
    {
     "name": "stdout",
     "output_type": "stream",
     "text": [
      "⎡                          ________                                   ⎤\n",
      "⎢   E¹₀⋅e⋅\\tilde{c}_{2}(t)⋅r_{0;21}                                   ⎥\n",
      "⎢   ─────────────────────────────── + h̅⋅(ω₁ + θ₁)⋅\\tilde{c}_{1}(t)   ⎥\n",
      "⎢                  2                                                  ⎥\n",
      "⎢                                                                     ⎥\n",
      "⎢E¹₀⋅e⋅r_{0;21}⋅\\tilde{c}_{1}(t)                                      ⎥\n",
      "⎢─────────────────────────────── + h̅⋅(-ω¹ + ω₂ + θ₁)⋅\\tilde{c}_{2}(t)⎥\n",
      "⎣               2                                                     ⎦\n"
     ]
    }
   ],
   "source": [
    "rhs_new=simplify(rhs_new.subs(phase_transformation))\n",
    "pprint(rhs_new)"
   ]
  },
  {
   "cell_type": "markdown",
   "metadata": {},
   "source": [
    "It can be seen that this is the Schrödinger equation derived from an effective hamiltonian $\\tilde{H}$"
   ]
  },
  {
   "cell_type": "code",
   "execution_count": 41,
   "metadata": {
    "collapsed": false
   },
   "outputs": [
    {
     "name": "stdout",
     "output_type": "stream",
     "text": [
      "⎡                        ________  ⎤\n",
      "⎢                  E¹₀⋅e⋅r_{0;21}  ⎥\n",
      "⎢ h̅⋅(ω₁ + θ₁)     ──────────────  ⎥\n",
      "⎢                        2         ⎥\n",
      "⎢                                  ⎥\n",
      "⎢E¹₀⋅e⋅r_{0;21}                    ⎥\n",
      "⎢──────────────  h̅⋅(-ω¹ + ω₂ + θ₁)⎥\n",
      "⎣      2                           ⎦\n"
     ]
    }
   ],
   "source": [
    "Htilde=Matrix([ [Derivative(rhs_new[i],ctilde[j]).doit() for j in range(Ne)] for i in range(Ne)])\n",
    "pprint(Htilde)"
   ]
  },
  {
   "cell_type": "markdown",
   "metadata": {},
   "source": [
    "We can see that it is convenient to choose $\\theta_1=-\\omega_1$ to simplify the hamiltonian. Also, we can recognize $\\omega^1-\\omega_2+\\omega_1=\\delta$ as the detuning of the laser field relative to the atomic transition $\\omega_{21}=\\omega_2-\\omega_1$."
   ]
  },
  {
   "cell_type": "code",
   "execution_count": 42,
   "metadata": {
    "collapsed": false
   },
   "outputs": [
    {
     "name": "stdout",
     "output_type": "stream",
     "text": [
      "⎡                      ________⎤\n",
      "⎢                E¹₀⋅e⋅r_{0;21}⎥\n",
      "⎢      0         ──────────────⎥\n",
      "⎢                      2       ⎥\n",
      "⎢                              ⎥\n",
      "⎢E¹₀⋅e⋅r_{0;21}                ⎥\n",
      "⎢──────────────      -δ⋅h̅     ⎥\n",
      "⎣      2                       ⎦\n"
     ]
    }
   ],
   "source": [
    "delta=Symbol(\"delta\",real=True)\n",
    "Htilde=Htilde.subs({phase[0]:-omega_level[0]}).subs({omega_laser[0]:delta+omega_level[1]-omega_level[0]})\n",
    "pprint(Htilde)"
   ]
  },
  {
   "cell_type": "markdown",
   "metadata": {},
   "source": [
    "If we define the Rabi frequency $\\Omega =e E_0^1 r_{0;21}/\\hbar$"
   ]
  },
  {
   "cell_type": "code",
   "execution_count": 43,
   "metadata": {
    "collapsed": false
   },
   "outputs": [
    {
     "name": "stdout",
     "output_type": "stream",
     "text": [
      "⎡                      ________⎤\n",
      "⎢                E¹₀⋅e⋅r_{0;21}⎥\n",
      "⎢      0         ──────────────⎥\n",
      "⎢                      2       ⎥\n",
      "⎢                              ⎥\n",
      "⎢E¹₀⋅e⋅r_{0;21}                ⎥\n",
      "⎢──────────────      -δ⋅h̅     ⎥\n",
      "⎣      2                       ⎦\n"
     ]
    }
   ],
   "source": [
    "Omega=Symbol(\"Omega\")\n",
    "#Htilde=Htilde.subs({r[1][1,0]:Omega*hbar/E0[0]/e})\n",
    "pprint(Htilde)"
   ]
  },
  {
   "cell_type": "markdown",
   "metadata": {},
   "source": [
    "The hamiltonian part of the equations is\n",
    "\\begin{equation}\n",
    "    \\dot{\\hat{\\rho}}=\\frac{i}{\\hbar}[\\hat{\\rho}, \\hat{\\tilde{H}}]\n",
    "\\end{equation}"
   ]
  },
  {
   "cell_type": "code",
   "execution_count": 44,
   "metadata": {
    "collapsed": false
   },
   "outputs": [
    {
     "name": "stdout",
     "output_type": "stream",
     "text": [
      "⎡                                                                   ________                                          \n",
      "⎢E¹₀⋅\\mathfrak{I}\\rho_{21}⋅e⋅r_{0;21}   E¹₀⋅\\mathfrak{I}\\rho_{21}⋅e⋅r_{0;21}   ⅈ⋅E¹₀⋅\\mathfrak{R}\\rho_{21}⋅e⋅r_{0;21} \n",
      "⎢──────────────────────────────────── + ──────────────────────────────────── + ────────────────────────────────────── \n",
      "⎢                2⋅h̅                                   2⋅h̅                                    2⋅h̅                  \n",
      "⎢                                                                                                                     \n",
      "⎢                                                                                                                     \n",
      "⎢                                ⅈ⋅E¹₀⋅e⋅r_{0;21}⋅ρ₂₂   ⅈ⋅E¹₀⋅e⋅r_{0;21}                                              \n",
      "⎢                                ──────────────────── - ──────────────── - \\mathfrak{I}\\rho_{21}⋅δ + ⅈ⋅\\mathfrak{R}\\rh\n",
      "⎣                                         h̅                  2⋅h̅                                                    \n",
      "\n",
      "                                ________                                                ________           ________   \n",
      "  ⅈ⋅E¹₀⋅\\mathfrak{R}\\rho_{21}⋅e⋅r_{0;21}                                    ⅈ⋅E¹₀⋅e⋅ρ₂₂⋅r_{0;21}   ⅈ⋅E¹₀⋅e⋅r_{0;21}   \n",
      "- ──────────────────────────────────────                                  - ──────────────────── + ──────────────── - \n",
      "                   2⋅h̅                                                              h̅                  2⋅h̅         \n",
      "                                                                                                                      \n",
      "                                                                                                               _______\n",
      "                                            E¹₀⋅\\mathfrak{I}\\rho_{21}⋅e⋅r_{0;21}   E¹₀⋅\\mathfrak{I}\\rho_{21}⋅e⋅r_{0;21\n",
      "o_{21}⋅δ                                  - ──────────────────────────────────── - ───────────────────────────────────\n",
      "                                                            2⋅h̅                                   2⋅h̅               \n",
      "\n",
      "                                                                                   ⎤\n",
      "                                                                                   ⎥\n",
      "\\mathfrak{I}\\rho_{21}⋅δ - ⅈ⋅\\mathfrak{R}\\rho_{21}⋅δ                                ⎥\n",
      "                                                                                   ⎥\n",
      "                                                                                   ⎥\n",
      "_                                                                          ________⎥\n",
      "}   ⅈ⋅E¹₀⋅\\mathfrak{R}\\rho_{21}⋅e⋅r_{0;21}   ⅈ⋅E¹₀⋅\\mathfrak{R}\\rho_{21}⋅e⋅r_{0;21}⎥\n",
      "─ - ────────────────────────────────────── + ──────────────────────────────────────⎥\n",
      "                     2⋅h̅                                     2⋅h̅                 ⎦\n"
     ]
    }
   ],
   "source": [
    "hamiltonian_terms=(I/hbar*(rho*Htilde-Htilde*rho)).expand()\n",
    "pprint( hamiltonian_terms ,num_columns=120)"
   ]
  },
  {
   "cell_type": "markdown",
   "metadata": {},
   "source": [
    "There is only one Lindblad operator, since there is only one spontaneous decay channel."
   ]
  },
  {
   "cell_type": "code",
   "execution_count": 45,
   "metadata": {
    "collapsed": false
   },
   "outputs": [
    {
     "name": "stdout",
     "output_type": "stream",
     "text": [
      "⎡                                                             ⎛ⅈ⋅\\mathfrak{I}\\\n",
      "⎢                        γ₂₁⋅ρ₂₂                          γ₂₁⋅⎜───────────────\n",
      "⎢                                                             ⎝           2   \n",
      "⎢                                                                             \n",
      "⎢    ⎛  ⅈ⋅\\mathfrak{I}\\rho_{21}   \\mathfrak{R}\\rho_{21}⎞                      \n",
      "⎢γ₂₁⋅⎜- ─────────────────────── - ─────────────────────⎟                      \n",
      "⎣    ⎝             2                        2          ⎠                      \n",
      "\n",
      "rho_{21}   \\mathfrak{R}\\rho_{21}⎞⎤\n",
      "──────── - ─────────────────────⎟⎥\n",
      "                     2          ⎠⎥\n",
      "                                 ⎥\n",
      "                                 ⎥\n",
      "  -γ₂₁⋅ρ₂₂                       ⎥\n",
      "                                 ⎦\n"
     ]
    }
   ],
   "source": [
    "lindblad_terms=gamma[1,0]*lindblad_operator(ket(1,Ne)*bra(2,Ne),rho)\n",
    "pprint(lindblad_terms)"
   ]
  },
  {
   "cell_type": "markdown",
   "metadata": {},
   "source": [
    "# Optical Bloch Equations\n",
    "The Optical Bloch equations are thus."
   ]
  },
  {
   "cell_type": "code",
   "execution_count": 46,
   "metadata": {
    "collapsed": false
   },
   "outputs": [
    {
     "name": "stdout",
     "output_type": "stream",
     "text": [
      "⎡                                                                   ________                                          \n",
      "⎢E¹₀⋅\\mathfrak{I}\\rho_{21}⋅e⋅r_{0;21}   E¹₀⋅\\mathfrak{I}\\rho_{21}⋅e⋅r_{0;21}   ⅈ⋅E¹₀⋅\\mathfrak{R}\\rho_{21}⋅e⋅r_{0;21} \n",
      "⎢──────────────────────────────────── + ──────────────────────────────────── + ────────────────────────────────────── \n",
      "⎢                2⋅h̅                                   2⋅h̅                                    2⋅h̅                  \n",
      "⎢                                                                                                                     \n",
      "⎢                                                                                                                     \n",
      "⎢        ⅈ⋅E¹₀⋅e⋅r_{0;21}⋅ρ₂₂   ⅈ⋅E¹₀⋅e⋅r_{0;21}                                                             ⎛  ⅈ⋅\\mat\n",
      "⎢        ──────────────────── - ──────────────── - \\mathfrak{I}\\rho_{21}⋅δ + ⅈ⋅\\mathfrak{R}\\rho_{21}⋅δ + γ₂₁⋅⎜- ──────\n",
      "⎣                 h̅                  2⋅h̅                                                                   ⎝        \n",
      "\n",
      "                                ________                                   ________           ________                \n",
      "  ⅈ⋅E¹₀⋅\\mathfrak{R}\\rho_{21}⋅e⋅r_{0;21}                       ⅈ⋅E¹₀⋅e⋅ρ₂₂⋅r_{0;21}   ⅈ⋅E¹₀⋅e⋅r_{0;21}                \n",
      "- ────────────────────────────────────── + γ₂₁⋅ρ₂₂           - ──────────────────── + ──────────────── - \\mathfrak{I}\\\n",
      "                   2⋅h̅                                                 h̅                  2⋅h̅                      \n",
      "                                                                                                                      \n",
      "                                                                                                                      \n",
      "hfrak{I}\\rho_{21}   \\mathfrak{R}\\rho_{21}⎞            E¹₀⋅\\mathfrak{I}\\rho_{21}⋅e⋅r_{0;21}   E¹₀⋅\\mathfrak{I}\\rho_{21}\n",
      "───────────────── - ─────────────────────⎟          - ──────────────────────────────────── - ─────────────────────────\n",
      "     2                        2          ⎠                            2⋅h̅                                   2⋅h̅     \n",
      "\n",
      "                                                                                                       ⎤\n",
      "                                             ⎛ⅈ⋅\\mathfrak{I}\\rho_{21}   \\mathfrak{R}\\rho_{21}⎞         ⎥\n",
      "rho_{21}⋅δ - ⅈ⋅\\mathfrak{R}\\rho_{21}⋅δ + γ₂₁⋅⎜─────────────────────── - ─────────────────────⎟         ⎥\n",
      "                                             ⎝           2                        2          ⎠         ⎥\n",
      "                                                                                                       ⎥\n",
      "   ________                                                                          ________          ⎥\n",
      "⋅e⋅r_{0;21}   ⅈ⋅E¹₀⋅\\mathfrak{R}\\rho_{21}⋅e⋅r_{0;21}   ⅈ⋅E¹₀⋅\\mathfrak{R}\\rho_{21}⋅e⋅r_{0;21}          ⎥\n",
      "─────────── - ────────────────────────────────────── + ────────────────────────────────────── - γ₂₁⋅ρ₂₂⎥\n",
      "                               2⋅h̅                                     2⋅h̅                           ⎦\n"
     ]
    }
   ],
   "source": [
    "eqs=hamiltonian_terms + lindblad_terms\n",
    "pprint( eqs ,num_columns=120)"
   ]
  },
  {
   "cell_type": "code",
   "execution_count": 47,
   "metadata": {
    "collapsed": false
   },
   "outputs": [
    {
     "data": {
      "image/png": "[encoded data removed]",
      "text/latex": [
       "$$0$$"
      ],
      "text/plain": [
       "0"
      ]
     },
     "execution_count": 47,
     "metadata": {},
     "output_type": "execute_result"
    }
   ],
   "source": [
    "im(eqs[1,1]).simplify()"
   ]
  },
  {
   "cell_type": "code",
   "execution_count": 54,
   "metadata": {
    "collapsed": false
   },
   "outputs": [
    {
     "data": {
      "image/png": "[encoded data removed]",
      "text/latex": [
       "$$- \\frac{E^{1}_{0} \\mathfrak{I}\\rho_{21}}{\\hbar} e \\Re{r_{0;21}} + \\frac{E^{1}_{0} \\mathfrak{R}\\rho_{21}}{\\hbar} e \\Im{r_{0;21}} - \\gamma_{21} \\rho_{22}$$"
      ],
      "text/plain": [
       "  E¹₀⋅\\mathfrak{I}\\rho_{21}⋅e⋅re(r_{0;21})   E¹₀⋅\\mathfrak{R}\\rho_{21}⋅e⋅im(r_\n",
       "- ──────────────────────────────────────── + ─────────────────────────────────\n",
       "                     h̅                                         h̅            \n",
       "\n",
       "{0;21})          \n",
       "─────── - γ₂₁⋅ρ₂₂\n",
       "                 "
      ]
     },
     "execution_count": 54,
     "metadata": {},
     "output_type": "execute_result"
    }
   ],
   "source": [
    "re(eqs[1,1]).expand()"
   ]
  },
  {
   "cell_type": "code",
   "execution_count": 49,
   "metadata": {
    "collapsed": false
   },
   "outputs": [
    {
     "data": {
      "image/png": "[encoded data removed]",
      "text/latex": [
       "$$- \\frac{E^{1}_{0} e}{\\hbar} \\rho_{22} \\Im{r_{0;21}} + \\frac{E^{1}_{0} e \\Im{r_{0;21}}}{2 \\hbar} - \\mathfrak{I}\\rho_{21} \\delta - \\frac{\\mathfrak{R}\\rho_{21} \\gamma_{21}}{2}$$"
      ],
      "text/plain": [
       "  E¹₀⋅e⋅ρ₂₂⋅im(r_{0;21})   E¹₀⋅e⋅im(r_{0;21})                             \\mat\n",
       "- ────────────────────── + ────────────────── - \\mathfrak{I}\\rho_{21}⋅δ - ────\n",
       "            h̅                    2⋅h̅                                        \n",
       "\n",
       "hfrak{R}\\rho_{21}⋅γ₂₁\n",
       "─────────────────────\n",
       "        2            "
      ]
     },
     "execution_count": 49,
     "metadata": {},
     "output_type": "execute_result"
    }
   ],
   "source": [
    "re(eqs[1,0])"
   ]
  },
  {
   "cell_type": "code",
   "execution_count": 52,
   "metadata": {
    "collapsed": false
   },
   "outputs": [
    {
     "data": {
      "image/png": "[encoded data removed]",
      "text/latex": [
       "$$\\frac{E^{1}_{0} e}{\\hbar} \\rho_{22} \\Re{r_{0;21}} - \\frac{E^{1}_{0} e \\Re{r_{0;21}}}{2 \\hbar} - \\frac{\\mathfrak{I}\\rho_{21} \\gamma_{21}}{2} + \\mathfrak{R}\\rho_{21} \\delta$$"
      ],
      "text/plain": [
       "E¹₀⋅e⋅ρ₂₂⋅re(r_{0;21})   E¹₀⋅e⋅re(r_{0;21})   \\mathfrak{I}\\rho_{21}⋅γ₂₁       \n",
       "────────────────────── - ────────────────── - ───────────────────────── + \\mat\n",
       "          h̅                    2⋅h̅                      2                   \n",
       "\n",
       "                   \n",
       "hfrak{R}\\rho_{21}⋅δ\n",
       "                   "
      ]
     },
     "execution_count": 52,
     "metadata": {},
     "output_type": "execute_result"
    }
   ],
   "source": [
    "im(eqs[1,0])"
   ]
  },
  {
   "cell_type": "code",
   "execution_count": null,
   "metadata": {
    "collapsed": true
   },
   "outputs": [],
   "source": []
  }
 ],
 "metadata": {
  "kernelspec": {
   "display_name": "Python [Root]",
   "language": "python",
   "name": "Python [Root]"
  },
  "language_info": {
   "codemirror_mode": {
    "name": "ipython",
    "version": 2
   },
   "file_extension": ".py",
   "mimetype": "text/x-python",
   "name": "python",
   "nbconvert_exporter": "python",
   "pygments_lexer": "ipython2",
   "version": "2.7.12"
  }
 },
 "nbformat": 4,
 "nbformat_minor": 0
}
