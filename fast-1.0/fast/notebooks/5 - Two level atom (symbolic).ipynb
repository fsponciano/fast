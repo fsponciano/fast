{
 "cells": [
  {
   "cell_type": "code",
   "execution_count": 1,
   "metadata": {
    "collapsed": true
   },
   "outputs": [],
   "source": [
    "from sympy import init_printing\n",
    "init_printing() "
   ]
  },
  {
   "cell_type": "code",
   "execution_count": 2,
   "metadata": {
    "collapsed": false
   },
   "outputs": [],
   "source": [
    "from sympy import Symbol,Matrix,symbols\n",
    "from sympy import I,conjugate\n",
    "from sympy import sin,cos,exp,sqrt,pi\n",
    "from sympy import pprint\n",
    "from sympy import simplify\n",
    "from sympy import KroneckerDelta\n",
    "\n",
    "from fast.symbolic import define_density_matrix, define_laser_variables, polarization_vector\n",
    "from fast.symbolic import cartesian_to_helicity, helicity_to_cartesian, helicity_dot_product\n",
    "from fast.symbolic import define_r_components, define_frequencies\n",
    "from fast.symbolic import delta_greater, delta_lesser\n"
   ]
  },
  {
   "cell_type": "markdown",
   "metadata": {},
   "source": [
    "We define the number of states and of radiation fields."
   ]
  },
  {
   "cell_type": "code",
   "execution_count": 3,
   "metadata": {
    "collapsed": true
   },
   "outputs": [],
   "source": [
    "Ne=2\n",
    "Nl=1"
   ]
  },
  {
   "cell_type": "markdown",
   "metadata": {},
   "source": [
    "We define the density matrix."
   ]
  },
  {
   "cell_type": "code",
   "execution_count": 4,
   "metadata": {
    "collapsed": false
   },
   "outputs": [
    {
     "name": "stdout",
     "output_type": "stream",
     "text": [
      "⎡\\rho_{11}  \\rho_{12}⎤\n",
      "⎢                    ⎥\n",
      "⎣\\rho_{21}  \\rho_{22}⎦\n",
      "\n",
      "⎡      \\rho_{11}        \\mathfrak{R}\\rho_{12}⎤\n",
      "⎢                                            ⎥\n",
      "⎣\\mathfrak{R}\\rho_{21}        \\rho_{22}      ⎦\n",
      "\n",
      "⎡          0            \\mathfrak{I}\\rho_{12}⎤\n",
      "⎢                                            ⎥\n",
      "⎣\\mathfrak{I}\\rho_{21}            0          ⎦\n"
     ]
    }
   ],
   "source": [
    "rho,re_rho,im_rho=define_density_matrix(Ne)\n",
    "pprint(   rho)\n",
    "print\n",
    "pprint(re_rho)\n",
    "print\n",
    "pprint(im_rho)"
   ]
  },
  {
   "cell_type": "markdown",
   "metadata": {},
   "source": [
    "We define the variables related to the laser field."
   ]
  },
  {
   "cell_type": "code",
   "execution_count": 5,
   "metadata": {
    "collapsed": false
   },
   "outputs": [
    {
     "name": "stdout",
     "output_type": "stream",
     "text": [
      "[E¹₀]\n",
      "[ω¹]\n"
     ]
    }
   ],
   "source": [
    "E0,omega_laser=define_laser_variables(Nl)\n",
    "pprint(E0)\n",
    "pprint(omega_laser)"
   ]
  },
  {
   "cell_type": "markdown",
   "metadata": {},
   "source": [
    "We define a few important symbols."
   ]
  },
  {
   "cell_type": "code",
   "execution_count": 6,
   "metadata": {
    "collapsed": false
   },
   "outputs": [
    {
     "name": "stdout",
     "output_type": "stream",
     "text": [
      "[t, h̅, e]\n"
     ]
    }
   ],
   "source": [
    "t,hbar,e=symbols(\"t hbar e\",positive=True)\n",
    "pprint([t,hbar,e])"
   ]
  },
  {
   "cell_type": "markdown",
   "metadata": {},
   "source": [
    "We write an electric field propagating trough the $\\hat{x}$ direction polarized in the $\\hat{z}$ direction. First the wave vector:"
   ]
  },
  {
   "cell_type": "code",
   "execution_count": 7,
   "metadata": {
    "collapsed": false
   },
   "outputs": [
    {
     "name": "stdout",
     "output_type": "stream",
     "text": [
      "⎡1⎤\n",
      "⎢ ⎥\n",
      "⎢0⎥\n",
      "⎢ ⎥\n",
      "⎣0⎦\n"
     ]
    }
   ],
   "source": [
    "phi=0; theta=pi/2; alpha=pi/2; beta=0\n",
    "\n",
    "k=Matrix([cos(phi)*sin(theta),sin(phi)*sin(theta),cos(theta)])\n",
    "pprint(k)"
   ]
  },
  {
   "cell_type": "markdown",
   "metadata": {},
   "source": [
    "The polarization vectors."
   ]
  },
  {
   "cell_type": "code",
   "execution_count": 8,
   "metadata": {
    "collapsed": false
   },
   "outputs": [
    {
     "name": "stdout",
     "output_type": "stream",
     "text": [
      "⎡⎡0⎤, ⎡0⎤⎤\n",
      "⎢⎢ ⎥  ⎢ ⎥⎥\n",
      "⎢⎢0⎥  ⎢0⎥⎥\n",
      "⎢⎢ ⎥  ⎢ ⎥⎥\n",
      "⎣⎣1⎦  ⎣1⎦⎦\n"
     ]
    }
   ],
   "source": [
    "ep=polarization_vector(phi,theta,alpha,beta, 1)\n",
    "em=polarization_vector(phi,theta,alpha,beta,-1)\n",
    "pprint([ep,em])"
   ]
  },
  {
   "cell_type": "markdown",
   "metadata": {},
   "source": [
    "The electric field (evaluated in $\\vec{R}=0$)."
   ]
  },
  {
   "cell_type": "code",
   "execution_count": 9,
   "metadata": {
    "collapsed": false
   },
   "outputs": [
    {
     "name": "stdout",
     "output_type": "stream",
     "text": [
      "⎡           0            ⎤\n",
      "⎢                        ⎥\n",
      "⎢           0            ⎥\n",
      "⎢                        ⎥\n",
      "⎢    ⎛ ⅈ⋅ω¹⋅t    -ⅈ⋅ω¹⋅t⎞⎥\n",
      "⎢E¹₀⋅⎝ℯ       + ℯ       ⎠⎥\n",
      "⎢────────────────────────⎥\n",
      "⎣           2            ⎦\n"
     ]
    }
   ],
   "source": [
    "E_cartesian=E0[0]/2*(ep*exp(-I*omega_laser[0]*t) + em*exp( I*omega_laser[0]*t))\n",
    "pprint(E_cartesian)"
   ]
  },
  {
   "cell_type": "markdown",
   "metadata": {},
   "source": [
    "We write the electric field in the helicity basis."
   ]
  },
  {
   "cell_type": "code",
   "execution_count": 10,
   "metadata": {
    "collapsed": false
   },
   "outputs": [
    {
     "name": "stdout",
     "output_type": "stream",
     "text": [
      "⎡           0            ⎤\n",
      "⎢                        ⎥\n",
      "⎢    ⎛ ⅈ⋅ω¹⋅t    -ⅈ⋅ω¹⋅t⎞⎥\n",
      "⎢E¹₀⋅⎝ℯ       + ℯ       ⎠⎥\n",
      "⎢────────────────────────⎥\n",
      "⎢           2            ⎥\n",
      "⎢                        ⎥\n",
      "⎣           0            ⎦\n"
     ]
    }
   ],
   "source": [
    "E=cartesian_to_helicity(E_cartesian)\n",
    "pprint(E)"
   ]
  },
  {
   "cell_type": "markdown",
   "metadata": {},
   "source": [
    "We define the position operator."
   ]
  },
  {
   "cell_type": "code",
   "execution_count": 11,
   "metadata": {
    "collapsed": false
   },
   "outputs": [
    {
     "name": "stdout",
     "output_type": "stream",
     "text": [
      "⎡⎡            _________⎤  ⎡          ________⎤  ⎡            _________⎤⎤\n",
      "⎢⎢    0      -r_{+1;21}⎥, ⎢   0      r_{0;21}⎥, ⎢    0      -r_{-1;21}⎥⎥\n",
      "⎢⎢                     ⎥  ⎢                  ⎥  ⎢                     ⎥⎥\n",
      "⎣⎣r_{-1;21}      0     ⎦  ⎣r_{0;21}     0    ⎦  ⎣r_{+1;21}      0     ⎦⎦\n"
     ]
    }
   ],
   "source": [
    "r=define_r_components(Ne,helicity=True,explicitly_hermitian=True)\n",
    "pprint(r)"
   ]
  },
  {
   "cell_type": "markdown",
   "metadata": {},
   "source": [
    "The frequencies of the energy levels, the resonant frequencies, and the decay frequencies."
   ]
  },
  {
   "cell_type": "code",
   "execution_count": 12,
   "metadata": {
    "collapsed": false
   },
   "outputs": [
    {
     "name": "stdout",
     "output_type": "stream",
     "text": [
      "[ω₁, ω₂]\n",
      "\n",
      "⎡ 0   -ω₂₁⎤\n",
      "⎢         ⎥\n",
      "⎣ω₂₁   0  ⎦\n",
      "\n",
      "⎡ 0   -γ₂₁⎤\n",
      "⎢         ⎥\n",
      "⎣γ₂₁   0  ⎦\n"
     ]
    }
   ],
   "source": [
    "omega_level,omega,gamma=define_frequencies(Ne,explicitly_antisymmetric=True)\n",
    "pprint(omega_level)\n",
    "print\n",
    "pprint(omega)\n",
    "print\n",
    "pprint(gamma)"
   ]
  },
  {
   "cell_type": "markdown",
   "metadata": {},
   "source": [
    "The atomic hamiltonian is"
   ]
  },
  {
   "cell_type": "code",
   "execution_count": 13,
   "metadata": {
    "collapsed": false
   },
   "outputs": [
    {
     "name": "stdout",
     "output_type": "stream",
     "text": [
      "⎡h̅⋅ω₁    0  ⎤\n",
      "⎢            ⎥\n",
      "⎣  0    h̅⋅ω₂⎦\n"
     ]
    }
   ],
   "source": [
    "H0=Matrix([[hbar*omega_level[i]*KroneckerDelta(i,j) for j in range(Ne)] for i in range(Ne)])\n",
    "pprint(H0)"
   ]
  },
  {
   "cell_type": "markdown",
   "metadata": {
    "collapsed": false
   },
   "source": [
    "The interaction hamiltonian is"
   ]
  },
  {
   "cell_type": "code",
   "execution_count": 14,
   "metadata": {
    "collapsed": false
   },
   "outputs": [
    {
     "name": "stdout",
     "output_type": "stream",
     "text": [
      "⎡                                           ⎛ ⅈ⋅ω¹⋅t    -ⅈ⋅ω¹⋅t⎞ ________⎤\n",
      "⎢                                     E¹₀⋅e⋅⎝ℯ       + ℯ       ⎠⋅r_{0;21}⎥\n",
      "⎢                 0                   ───────────────────────────────────⎥\n",
      "⎢                                                      2                 ⎥\n",
      "⎢                                                                        ⎥\n",
      "⎢               ⎛ ⅈ⋅ω¹⋅t    -ⅈ⋅ω¹⋅t⎞                                     ⎥\n",
      "⎢E¹₀⋅e⋅r_{0;21}⋅⎝ℯ       + ℯ       ⎠                                     ⎥\n",
      "⎢───────────────────────────────────                   0                 ⎥\n",
      "⎣                 2                                                      ⎦\n"
     ]
    }
   ],
   "source": [
    "H1=e*helicity_dot_product(E,r)\n",
    "pprint(H1)"
   ]
  },
  {
   "cell_type": "markdown",
   "metadata": {},
   "source": [
    "and the complete hamiltonian is"
   ]
  },
  {
   "cell_type": "code",
   "execution_count": 15,
   "metadata": {
    "collapsed": false
   },
   "outputs": [
    {
     "name": "stdout",
     "output_type": "stream",
     "text": [
      "⎡                                           ⎛ ⅈ⋅ω¹⋅t    -ⅈ⋅ω¹⋅t⎞ ________⎤\n",
      "⎢                                     E¹₀⋅e⋅⎝ℯ       + ℯ       ⎠⋅r_{0;21}⎥\n",
      "⎢               h̅⋅ω₁                 ───────────────────────────────────⎥\n",
      "⎢                                                      2                 ⎥\n",
      "⎢                                                                        ⎥\n",
      "⎢               ⎛ ⅈ⋅ω¹⋅t    -ⅈ⋅ω¹⋅t⎞                                     ⎥\n",
      "⎢E¹₀⋅e⋅r_{0;21}⋅⎝ℯ       + ℯ       ⎠                                     ⎥\n",
      "⎢───────────────────────────────────                 h̅⋅ω₂               ⎥\n",
      "⎣                 2                                                      ⎦\n"
     ]
    }
   ],
   "source": [
    "H=H0+H1\n",
    "pprint(H)"
   ]
  },
  {
   "cell_type": "markdown",
   "metadata": {
    "collapsed": true
   },
   "source": [
    "# Rotating wave approximation\n",
    "Notice that the electric field can be separated by terms with positive and negative frequency:"
   ]
  },
  {
   "cell_type": "code",
   "execution_count": 16,
   "metadata": {
    "collapsed": false
   },
   "outputs": [
    {
     "name": "stdout",
     "output_type": "stream",
     "text": [
      "⎡⎡     0      ⎤, ⎡     0     ⎤⎤\n",
      "⎢⎢            ⎥  ⎢           ⎥⎥\n",
      "⎢⎢     -ⅈ⋅ω¹⋅t⎥  ⎢     ⅈ⋅ω¹⋅t⎥⎥\n",
      "⎢⎢E¹₀⋅ℯ       ⎥  ⎢E¹₀⋅ℯ      ⎥⎥\n",
      "⎢⎢────────────⎥  ⎢───────────⎥⎥\n",
      "⎢⎢     2      ⎥  ⎢     2     ⎥⎥\n",
      "⎢⎢            ⎥  ⎢           ⎥⎥\n",
      "⎣⎣     0      ⎦  ⎣     0     ⎦⎦\n"
     ]
    }
   ],
   "source": [
    "E_cartesian_p=E0[0]/2*ep*exp(-I*omega_laser[0]*t)\n",
    "E_cartesian_m=E0[0]/2*em*exp( I*omega_laser[0]*t)\n",
    "\n",
    "E_p=cartesian_to_helicity(E_cartesian_p)\n",
    "E_m=cartesian_to_helicity(E_cartesian_m)\n",
    "\n",
    "pprint([E_p,E_m])"
   ]
  },
  {
   "cell_type": "code",
   "execution_count": 17,
   "metadata": {
    "collapsed": false
   },
   "outputs": [
    {
     "name": "stdout",
     "output_type": "stream",
     "text": [
      "⎡0⎤\n",
      "⎢ ⎥\n",
      "⎢0⎥\n",
      "⎢ ⎥\n",
      "⎣0⎦\n"
     ]
    }
   ],
   "source": [
    "pprint( simplify(E-(E_p+E_m)) )"
   ]
  },
  {
   "cell_type": "markdown",
   "metadata": {},
   "source": [
    "The position operator can also be separated in this way. We go to the interaction picture (with $\\hat{H}_0$ as the undisturbed hamiltonian)"
   ]
  },
  {
   "cell_type": "code",
   "execution_count": 31,
   "metadata": {
    "collapsed": false
   },
   "outputs": [
    {
     "name": "stdout",
     "output_type": "stream",
     "text": [
      "⎡                      -ⅈ⋅ω₂₁⋅t _________⎤\n",
      "⎢        0           -ℯ        ⋅r_{+1;21}⎥\n",
      "⎢                                        ⎥\n",
      "⎢           ⅈ⋅ω₂₁⋅t                      ⎥\n",
      "⎣r_{-1;21}⋅ℯ                  0          ⎦\n",
      "⎡                    -ⅈ⋅ω₂₁⋅t ________⎤\n",
      "⎢        0          ℯ        ⋅r_{0;21}⎥\n",
      "⎢                                     ⎥\n",
      "⎢          ⅈ⋅ω₂₁⋅t                    ⎥\n",
      "⎣r_{0;21}⋅ℯ                 0         ⎦\n",
      "⎡                      -ⅈ⋅ω₂₁⋅t _________⎤\n",
      "⎢        0           -ℯ        ⋅r_{-1;21}⎥\n",
      "⎢                                        ⎥\n",
      "⎢           ⅈ⋅ω₂₁⋅t                      ⎥\n",
      "⎣r_{+1;21}⋅ℯ                  0          ⎦\n"
     ]
    }
   ],
   "source": [
    "r_I=[ Matrix([[exp(I*omega[i,j]*t)*r[p][i,j] for j in range(Ne)] for i in range(Ne)]) for p in range(3)]\n",
    "pprint(r_I[0])\n",
    "pprint(r_I[1])\n",
    "pprint(r_I[2])"
   ]
  },
  {
   "cell_type": "markdown",
   "metadata": {},
   "source": [
    "Which can be decomposed as"
   ]
  },
  {
   "cell_type": "code",
   "execution_count": 32,
   "metadata": {
    "collapsed": false
   },
   "outputs": [
    {
     "name": "stdout",
     "output_type": "stream",
     "text": [
      "⎡     -ⅈ⋅ω₂₁⋅t _________⎤\n",
      "⎢0  -ℯ        ⋅r_{+1;21}⎥\n",
      "⎢                       ⎥\n",
      "⎣0           0          ⎦\n",
      "⎡    -ⅈ⋅ω₂₁⋅t ________⎤\n",
      "⎢0  ℯ        ⋅r_{0;21}⎥\n",
      "⎢                     ⎥\n",
      "⎣0          0         ⎦\n",
      "⎡     -ⅈ⋅ω₂₁⋅t _________⎤\n",
      "⎢0  -ℯ        ⋅r_{-1;21}⎥\n",
      "⎢                       ⎥\n",
      "⎣0           0          ⎦\n"
     ]
    }
   ],
   "source": [
    "r_I_p=[ Matrix([[ delta_greater(j,i)*exp(-I*omega[j,i]*t)*r[p][i,j] for j in range(Ne)]for i in range(Ne)]) for p in range(3)]\n",
    "pprint(r_I_p[0])\n",
    "pprint(r_I_p[1])\n",
    "pprint(r_I_p[2])"
   ]
  },
  {
   "cell_type": "code",
   "execution_count": 33,
   "metadata": {
    "collapsed": false
   },
   "outputs": [
    {
     "name": "stdout",
     "output_type": "stream",
     "text": [
      "⎡        0           0⎤\n",
      "⎢                     ⎥\n",
      "⎢           ⅈ⋅ω₂₁⋅t   ⎥\n",
      "⎣r_{-1;21}⋅ℯ         0⎦\n",
      "⎡        0          0⎤\n",
      "⎢                    ⎥\n",
      "⎢          ⅈ⋅ω₂₁⋅t   ⎥\n",
      "⎣r_{0;21}⋅ℯ         0⎦\n",
      "⎡        0           0⎤\n",
      "⎢                     ⎥\n",
      "⎢           ⅈ⋅ω₂₁⋅t   ⎥\n",
      "⎣r_{+1;21}⋅ℯ         0⎦\n"
     ]
    }
   ],
   "source": [
    "r_I_m=[ Matrix([[ delta_lesser( j,i)*exp( I*omega[i,j]*t)*r[p][i,j] for j in range(Ne)]for i in range(Ne)]) for p in range(3)]\n",
    "pprint(r_I_m[0])\n",
    "pprint(r_I_m[1])\n",
    "pprint(r_I_m[2])"
   ]
  },
  {
   "cell_type": "markdown",
   "metadata": {},
   "source": [
    "that summed equal $\\vec{\\hat{r}}_I$"
   ]
  },
  {
   "cell_type": "code",
   "execution_count": 34,
   "metadata": {
    "collapsed": false
   },
   "outputs": [
    {
     "name": "stdout",
     "output_type": "stream",
     "text": [
      "⎡⎡0  0⎤, ⎡0  0⎤, ⎡0  0⎤⎤\n",
      "⎢⎢    ⎥  ⎢    ⎥  ⎢    ⎥⎥\n",
      "⎣⎣0  0⎦  ⎣0  0⎦  ⎣0  0⎦⎦\n"
     ]
    }
   ],
   "source": [
    "pprint( [r_I[p]-(r_I_p[p]+r_I_m[p]) for p in range(3)] )"
   ]
  },
  {
   "cell_type": "markdown",
   "metadata": {},
   "source": [
    "Thus the interaction hamiltonian in the interaciton picture is\n",
    "\\begin{equation}\n",
    "    \\hat{H}_{1I}=e\\vec{E}\\cdot \\vec{\\hat{r}}_I= e(\\vec{E}^{(+)}\\cdot \\vec{\\hat{r}}^{(+)}_I + \\vec{E}^{(+)}\\cdot \\vec{\\hat{r}}^{(-)}_I + \\vec{E}^{(-)}\\cdot \\vec{\\hat{r}}^{(+)}_I + \\vec{E}^{(-)}\\cdot \\vec{\\hat{r}}^{(-)}_I)\n",
    "\\end{equation}"
   ]
  },
  {
   "cell_type": "code",
   "execution_count": 35,
   "metadata": {
    "collapsed": false
   },
   "outputs": [
    {
     "name": "stdout",
     "output_type": "stream",
     "text": [
      "⎡                                                    ⎛ ⅈ⋅ω¹⋅t    -ⅈ⋅ω¹⋅t⎞  -ⅈ⋅\n",
      "⎢                                              E¹₀⋅e⋅⎝ℯ       + ℯ       ⎠⋅ℯ   \n",
      "⎢                     0                        ───────────────────────────────\n",
      "⎢                                                                    2        \n",
      "⎢                                                                             \n",
      "⎢               ⎛ ⅈ⋅ω¹⋅t    -ⅈ⋅ω¹⋅t⎞  ⅈ⋅ω₂₁⋅t                                 \n",
      "⎢E¹₀⋅e⋅r_{0;21}⋅⎝ℯ       + ℯ       ⎠⋅ℯ                                        \n",
      "⎢────────────────────────────────────────────                        0        \n",
      "⎣                     2                                                       \n",
      "\n",
      "ω₂₁⋅t ________⎤\n",
      "     ⋅r_{0;21}⎥\n",
      "──────────────⎥\n",
      "              ⎥\n",
      "              ⎥\n",
      "              ⎥\n",
      "              ⎥\n",
      "              ⎥\n",
      "              ⎦\n"
     ]
    }
   ],
   "source": [
    "H1I=e*helicity_dot_product(E,r_I)\n",
    "pprint(H1I)"
   ]
  },
  {
   "cell_type": "markdown",
   "metadata": {},
   "source": [
    "Since both $\\omega^l$ and $\\omega_{ij}$ are in the order of THz, the terms that have frequencies with the same sign are summed, and thus also of the order of THz. The frequencies in the terms with oposite signs however, are detunings of the order of MHz. Since we are only interested in the coarse-grained evolution of the density matrix, we may omit the fast terms and approximate\n",
    "\n",
    "\\begin{equation}\n",
    "    \\hat{H}_{1I} \\simeq \\hat{H}_{1I,RWA}= e( \\vec{E}^{(+)}\\cdot \\vec{\\hat{r}}^{(-)}_I + \\vec{E}^{(-)}\\cdot \\vec{\\hat{r}}^{(+)}_I )\n",
    "\\end{equation}\n",
    "\n",
    "That is known as the rotating wave approximation (RWA)."
   ]
  },
  {
   "cell_type": "code",
   "execution_count": 36,
   "metadata": {
    "collapsed": false
   },
   "outputs": [
    {
     "name": "stdout",
     "output_type": "stream",
     "text": [
      "⎡                                         ⅈ⋅ω¹⋅t  -ⅈ⋅ω₂₁⋅t ________⎤\n",
      "⎢                                  E¹₀⋅e⋅ℯ      ⋅ℯ        ⋅r_{0;21}⎥\n",
      "⎢               0                  ────────────────────────────────⎥\n",
      "⎢                                                 2                ⎥\n",
      "⎢                                                                  ⎥\n",
      "⎢                -ⅈ⋅ω¹⋅t  ⅈ⋅ω₂₁⋅t                                  ⎥\n",
      "⎢E¹₀⋅e⋅r_{0;21}⋅ℯ       ⋅ℯ                                         ⎥\n",
      "⎢────────────────────────────────                 0                ⎥\n",
      "⎣               2                                                  ⎦\n"
     ]
    }
   ],
   "source": [
    "H1IRWA=e*(helicity_dot_product(E_p,r_I_m)+helicity_dot_product(E_m,r_I_p))\n",
    "pprint(H1IRWA)"
   ]
  },
  {
   "cell_type": "markdown",
   "metadata": {},
   "source": [
    " Returning to the Schrödinger picture we have."
   ]
  },
  {
   "cell_type": "code",
   "execution_count": 37,
   "metadata": {
    "collapsed": false
   },
   "outputs": [
    {
     "name": "stdout",
     "output_type": "stream",
     "text": [
      "⎡⎡    _________⎤  ⎡   ________⎤  ⎡    _________⎤⎤\n",
      "⎢⎢0  -r_{+1;21}⎥, ⎢0  r_{0;21}⎥, ⎢0  -r_{-1;21}⎥⎥\n",
      "⎢⎢             ⎥  ⎢           ⎥  ⎢             ⎥⎥\n",
      "⎣⎣0      0     ⎦  ⎣0     0    ⎦  ⎣0      0     ⎦⎦\n"
     ]
    }
   ],
   "source": [
    "r_p=[ Matrix([[ delta_greater(j,i)*r[p][i,j] for j in range(Ne)]for i in range(Ne)]) for p in range(3)]\n",
    "pprint(r_p)"
   ]
  },
  {
   "cell_type": "code",
   "execution_count": 38,
   "metadata": {
    "collapsed": false
   },
   "outputs": [
    {
     "name": "stdout",
     "output_type": "stream",
     "text": [
      "⎡⎡    0      0⎤, ⎡   0      0⎤, ⎡    0      0⎤⎤\n",
      "⎢⎢            ⎥  ⎢           ⎥  ⎢            ⎥⎥\n",
      "⎣⎣r_{-1;21}  0⎦  ⎣r_{0;21}  0⎦  ⎣r_{+1;21}  0⎦⎦\n"
     ]
    }
   ],
   "source": [
    "r_m=[ Matrix([[ delta_lesser( j,i)*r[p][i,j] for j in range(Ne)]for i in range(Ne)]) for p in range(3)]\n",
    "pprint(r_m)"
   ]
  },
  {
   "cell_type": "code",
   "execution_count": 39,
   "metadata": {
    "collapsed": false
   },
   "outputs": [
    {
     "name": "stdout",
     "output_type": "stream",
     "text": [
      "⎡⎡0  0⎤, ⎡0  0⎤, ⎡0  0⎤⎤\n",
      "⎢⎢    ⎥  ⎢    ⎥  ⎢    ⎥⎥\n",
      "⎣⎣0  0⎦  ⎣0  0⎦  ⎣0  0⎦⎦\n"
     ]
    }
   ],
   "source": [
    "pprint( [r[p]-(r_p[p]+r_m[p]) for p in range(3)] )"
   ]
  },
  {
   "cell_type": "markdown",
   "metadata": {},
   "source": [
    "Thus the interaction hamiltonian in the Schrödinger picture in the rotating wave approximation is"
   ]
  },
  {
   "cell_type": "code",
   "execution_count": 40,
   "metadata": {
    "collapsed": false
   },
   "outputs": [
    {
     "name": "stdout",
     "output_type": "stream",
     "text": [
      "⎡                                ⅈ⋅ω¹⋅t ________⎤\n",
      "⎢                         E¹₀⋅e⋅ℯ      ⋅r_{0;21}⎥\n",
      "⎢           0             ──────────────────────⎥\n",
      "⎢                                   2           ⎥\n",
      "⎢                                               ⎥\n",
      "⎢                -ⅈ⋅ω¹⋅t                        ⎥\n",
      "⎢E¹₀⋅e⋅r_{0;21}⋅ℯ                               ⎥\n",
      "⎢───────────────────────            0           ⎥\n",
      "⎣           2                                   ⎦\n"
     ]
    }
   ],
   "source": [
    "H1RWA=e*(helicity_dot_product(E_p,r_m)+helicity_dot_product(E_m,r_p))\n",
    "pprint(H1RWA)"
   ]
  },
  {
   "cell_type": "markdown",
   "metadata": {},
   "source": [
    "And the complete hamiltonian in the Schrödinger picture in the rotating wave approximation is"
   ]
  },
  {
   "cell_type": "code",
   "execution_count": 44,
   "metadata": {
    "collapsed": false
   },
   "outputs": [
    {
     "name": "stdout",
     "output_type": "stream",
     "text": [
      "⎡                                ⅈ⋅ω¹⋅t ________⎤\n",
      "⎢                         E¹₀⋅e⋅ℯ      ⋅r_{0;21}⎥\n",
      "⎢         h̅⋅ω₁           ──────────────────────⎥\n",
      "⎢                                   2           ⎥\n",
      "⎢                                               ⎥\n",
      "⎢                -ⅈ⋅ω¹⋅t                        ⎥\n",
      "⎢E¹₀⋅e⋅r_{0;21}⋅ℯ                               ⎥\n",
      "⎢───────────────────────          h̅⋅ω₂         ⎥\n",
      "⎣           2                                   ⎦\n"
     ]
    }
   ],
   "source": [
    "HRWA=H0+H1RWA\n",
    "pprint(HRWA)"
   ]
  },
  {
   "cell_type": "code",
   "execution_count": null,
   "metadata": {
    "collapsed": true
   },
   "outputs": [],
   "source": []
  }
 ],
 "metadata": {
  "kernelspec": {
   "display_name": "Python [Root]",
   "language": "python",
   "name": "Python [Root]"
  },
  "language_info": {
   "codemirror_mode": {
    "name": "ipython",
    "version": 2
   },
   "file_extension": ".py",
   "mimetype": "text/x-python",
   "name": "python",
   "nbconvert_exporter": "python",
   "pygments_lexer": "ipython2",
   "version": "2.7.12"
  }
 },
 "nbformat": 4,
 "nbformat_minor": 0
}
