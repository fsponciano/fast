{
 "cells": [
  {
   "cell_type": "code",
   "execution_count": 1,
   "metadata": {
    "collapsed": false
   },
   "outputs": [],
   "source": [
    "from fast.atomic_structure_Rb import State, make_list_of_states\n",
    "from sympy import Integer\n",
    "from math import pi,exp"
   ]
  },
  {
   "cell_type": "code",
   "execution_count": 2,
   "metadata": {
    "collapsed": false
   },
   "outputs": [
    {
     "data": {
      "text/plain": [
       "85Rb 5S_1/2"
      ]
     },
     "execution_count": 2,
     "metadata": {},
     "output_type": "execute_result"
    }
   ],
   "source": [
    "iso=85\n",
    "ground=State(iso,5,0,1/Integer(2))\n",
    "ground"
   ]
  },
  {
   "cell_type": "code",
   "execution_count": 3,
   "metadata": {
    "collapsed": false
   },
   "outputs": [
    {
     "data": {
      "text/plain": [
       "[85Rb 5S_1/2^2,-2,\n",
       " 85Rb 5S_1/2^2,-1,\n",
       " 85Rb 5S_1/2^2,0,\n",
       " 85Rb 5S_1/2^2,1,\n",
       " 85Rb 5S_1/2^2,2,\n",
       " 85Rb 5S_1/2^3,-3,\n",
       " 85Rb 5S_1/2^3,-2,\n",
       " 85Rb 5S_1/2^3,-1,\n",
       " 85Rb 5S_1/2^3,0,\n",
       " 85Rb 5S_1/2^3,1,\n",
       " 85Rb 5S_1/2^3,2,\n",
       " 85Rb 5S_1/2^3,3]"
      ]
     },
     "execution_count": 3,
     "metadata": {},
     "output_type": "execute_result"
    }
   ],
   "source": [
    "magnetic_states=make_list_of_states([ground],\"magnetic\")\n",
    "magnetic_states"
   ]
  },
  {
   "cell_type": "code",
   "execution_count": 4,
   "metadata": {
    "collapsed": false
   },
   "outputs": [],
   "source": [
    "e1=magnetic_states[0]"
   ]
  },
  {
   "cell_type": "code",
   "execution_count": 5,
   "metadata": {
    "collapsed": false
   },
   "outputs": [],
   "source": [
    "hbar=1.054571800e-34 #J*s\n",
    "kB=1.38064852e-23 # J*K"
   ]
  },
  {
   "cell_type": "code",
   "execution_count": 6,
   "metadata": {
    "collapsed": false
   },
   "outputs": [
    {
     "data": {
      "text/plain": [
       "[-1.1733739171326158e-24,\n",
       " -1.1733739171326158e-24,\n",
       " -1.1733739171326158e-24,\n",
       " -1.1733739171326158e-24,\n",
       " -1.1733739171326158e-24,\n",
       " 8.38124226523297e-25,\n",
       " 8.38124226523297e-25,\n",
       " 8.38124226523297e-25,\n",
       " 8.38124226523297e-25,\n",
       " 8.38124226523297e-25,\n",
       " 8.38124226523297e-25,\n",
       " 8.38124226523297e-25]"
      ]
     },
     "execution_count": 6,
     "metadata": {},
     "output_type": "execute_result"
    }
   ],
   "source": [
    "E=[hbar*2*pi*e.nu for e in magnetic_states]\n",
    "E"
   ]
  },
  {
   "cell_type": "code",
   "execution_count": 7,
   "metadata": {
    "collapsed": false
   },
   "outputs": [
    {
     "data": {
      "text/plain": [
       "0.01"
      ]
     },
     "execution_count": 7,
     "metadata": {},
     "output_type": "execute_result"
    }
   ],
   "source": [
    "T=20#Celsius degrees.\n",
    "T=T+237.15 #Kelvin\n",
    "T=1e-2\n",
    "T"
   ]
  },
  {
   "cell_type": "code",
   "execution_count": 8,
   "metadata": {
    "collapsed": false
   },
   "outputs": [
    {
     "data": {
      "text/plain": [
       "24542.31898732592"
      ]
     },
     "execution_count": 8,
     "metadata": {},
     "output_type": "execute_result"
    }
   ],
   "source": [
    "Z=sum([exp(-E[i]/kB/T) for i in range(len(magnetic_states))])\n",
    "Z"
   ]
  },
  {
   "cell_type": "code",
   "execution_count": 9,
   "metadata": {
    "collapsed": false
   },
   "outputs": [
    {
     "data": {
      "text/plain": [
       "[0.1999998682280615,\n",
       " 0.1999998682280615,\n",
       " 0.1999998682280615,\n",
       " 0.1999998682280615,\n",
       " 0.1999998682280615,\n",
       " 9.412281319936907e-08,\n",
       " 9.412281319936907e-08,\n",
       " 9.412281319936907e-08,\n",
       " 9.412281319936907e-08,\n",
       " 9.412281319936907e-08,\n",
       " 9.412281319936907e-08,\n",
       " 9.412281319936907e-08]"
      ]
     },
     "execution_count": 9,
     "metadata": {},
     "output_type": "execute_result"
    }
   ],
   "source": [
    "p=[exp(-E[i]/kB/T)/Z for i in range(len(magnetic_states))]\n",
    "p"
   ]
  },
  {
   "cell_type": "markdown",
   "metadata": {},
   "source": [
    "Which is close to assigning populations equally:"
   ]
  },
  {
   "cell_type": "code",
   "execution_count": 10,
   "metadata": {
    "collapsed": false
   },
   "outputs": [
    {
     "data": {
      "text/plain": [
       "[0.08333333333333333,\n",
       " 0.08333333333333333,\n",
       " 0.08333333333333333,\n",
       " 0.08333333333333333,\n",
       " 0.08333333333333333,\n",
       " 0.08333333333333333,\n",
       " 0.08333333333333333,\n",
       " 0.08333333333333333,\n",
       " 0.08333333333333333,\n",
       " 0.08333333333333333,\n",
       " 0.08333333333333333,\n",
       " 0.08333333333333333]"
      ]
     },
     "execution_count": 10,
     "metadata": {},
     "output_type": "execute_result"
    }
   ],
   "source": [
    "p_deg=[1.0/len(magnetic_states) for i in range(len(magnetic_states))]\n",
    "p_deg"
   ]
  },
  {
   "cell_type": "markdown",
   "metadata": {},
   "source": [
    "Let's make a plot of the variation with temperature."
   ]
  },
  {
   "cell_type": "code",
   "execution_count": 11,
   "metadata": {
    "collapsed": false
   },
   "outputs": [],
   "source": [
    "if iso==85:\n",
    "    a=5\n",
    "else:\n",
    "    a=3"
   ]
  },
  {
   "cell_type": "code",
   "execution_count": 12,
   "metadata": {
    "collapsed": false
   },
   "outputs": [
    {
     "data": {
      "text/plain": [
       "(0.9999993411403075, 6.588596923955834e-07)"
      ]
     },
     "execution_count": 12,
     "metadata": {},
     "output_type": "execute_result"
    }
   ],
   "source": [
    "P1=sum(p[:a])\n",
    "P2=sum(p[a:])\n",
    "P1,P2"
   ]
  },
  {
   "cell_type": "code",
   "execution_count": 13,
   "metadata": {
    "collapsed": true
   },
   "outputs": [],
   "source": [
    "def get_energies(iso):\n",
    "    ground=State(iso,5,0,1/Integer(2))\n",
    "    magnetic_states=make_list_of_states([ground],\"magnetic\")\n",
    "    E=[hbar*2*pi*e.nu for e in magnetic_states]\n",
    "    return E"
   ]
  },
  {
   "cell_type": "code",
   "execution_count": 14,
   "metadata": {
    "collapsed": true
   },
   "outputs": [],
   "source": [
    "def pops(T,E,iso):\n",
    "    if iso==85:\n",
    "        a=5\n",
    "    else:\n",
    "        a=3\n",
    "\n",
    "    ground=State(iso,5,0,1/Integer(2))\n",
    "    magnetic_states=make_list_of_states([ground],\"magnetic\")\n",
    "        \n",
    "    Z=sum([exp(-E[i]/kB/T) for i in range(len(magnetic_states))])\n",
    "    p=[exp(-E[i]/kB/T)/Z for i in range(len(magnetic_states))]\n",
    "    return p[0],p[-1],sum(p[:a]),sum(p[a:])"
   ]
  },
  {
   "cell_type": "code",
   "execution_count": 15,
   "metadata": {
    "collapsed": false
   },
   "outputs": [],
   "source": [
    "from numpy import logspace,array\n",
    "T=logspace(-2,2,101)"
   ]
  },
  {
   "cell_type": "code",
   "execution_count": 16,
   "metadata": {
    "collapsed": true
   },
   "outputs": [],
   "source": [
    "E85=get_energies(85)\n",
    "E87=get_energies(87)"
   ]
  },
  {
   "cell_type": "code",
   "execution_count": 17,
   "metadata": {
    "collapsed": false
   },
   "outputs": [],
   "source": [
    "dat=array([pops(Ti,E85,85) for Ti in T])\n",
    "p185=dat[:,0]\n",
    "p285=dat[:,1]\n",
    "P185=dat[:,2]\n",
    "P285=dat[:,3]"
   ]
  },
  {
   "cell_type": "code",
   "execution_count": 18,
   "metadata": {
    "collapsed": false
   },
   "outputs": [],
   "source": [
    "dat=array([pops(Ti,E87,87) for Ti in T])\n",
    "p187=dat[:,0]\n",
    "p287=dat[:,1]\n",
    "P187=dat[:,2]\n",
    "P287=dat[:,3]"
   ]
  },
  {
   "cell_type": "code",
   "execution_count": 19,
   "metadata": {
    "collapsed": false
   },
   "outputs": [],
   "source": [
    "from matplotlib import pyplot\n",
    "%matplotlib inline"
   ]
  },
  {
   "cell_type": "code",
   "execution_count": 24,
   "metadata": {
    "collapsed": false
   },
   "outputs": [
    {
     "data": {
      "text/plain": [
       "<matplotlib.legend.Legend at 0x7f9ec8034f90>"
      ]
     },
     "execution_count": 24,
     "metadata": {},
     "output_type": "execute_result"
    },
    {
     "data": {
      "image/png": "[encoded data removed]",
      "text/plain": [
       "<matplotlib.figure.Figure at 0x7f9ec82e5050>"
      ]
     },
     "metadata": {},
     "output_type": "display_data"
    }
   ],
   "source": [
    "pyplot.close(\"all\")\n",
    "pyplot.semilogx(T,p185,\"b\",label=r\"$\\mathrm{magnetic \\ lower \\ state}$\")\n",
    "pyplot.semilogx(T,p285,\"r\",label=r\"$\\mathrm{magnetic \\ higher \\ state}$\")\n",
    "pyplot.semilogx(T,P185,\"m\",label=r\"$\\mathrm{fine \\ lower \\ multiplet}$\")\n",
    "pyplot.semilogx(T,P285,\"g\",label=r\"$\\mathrm{fine \\ higher \\ multiplet}$\")\n",
    "\n",
    "pyplot.semilogx(T,p187,\"b--\")\n",
    "pyplot.semilogx(T,p287,\"r--\")\n",
    "pyplot.semilogx(T,P187,\"m--\")\n",
    "pyplot.semilogx(T,P287,\"g--\")\n",
    "\n",
    "pyplot.ylabel(r\"$\\mathrm{population}$\",fontsize=15)\n",
    "pyplot.xlabel(r\"$\\mathrm{T} \\ \\mathrm{(K)}$\",fontsize=15)\n",
    "pyplot.legend(fontsize=10)"
   ]
  },
  {
   "cell_type": "markdown",
   "metadata": {},
   "source": [
    "Here solid lines show the populations for $^{85}\\mathrm{Rb}$ and dashed $^{87}\\mathrm{Rb}$. So we can see that $^{85}\\mathrm{Rb}$ is thermalized at lower temperatures than $^{87}\\mathrm{Rb}$."
   ]
  },
  {
   "cell_type": "code",
   "execution_count": null,
   "metadata": {
    "collapsed": true
   },
   "outputs": [],
   "source": []
  }
 ],
 "metadata": {
  "kernelspec": {
   "display_name": "Python [conda root]",
   "language": "python",
   "name": "conda-root-py"
  },
  "language_info": {
   "codemirror_mode": {
    "name": "ipython",
    "version": 2
   },
   "file_extension": ".py",
   "mimetype": "text/x-python",
   "name": "python",
   "nbconvert_exporter": "python",
   "pygments_lexer": "ipython2",
   "version": "2.7.12"
  }
 },
 "nbformat": 4,
 "nbformat_minor": 1
}
