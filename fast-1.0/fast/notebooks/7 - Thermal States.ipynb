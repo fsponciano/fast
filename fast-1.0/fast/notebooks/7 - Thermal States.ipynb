{
 "cells": [
  {
   "cell_type": "markdown",
   "metadata": {},
   "source": [
    "Let us calculate the populations $p_i$ for the hyperfine magnetic states of the $5S_{1/2}$ ground state of rubidium in a thermal state. A thermal state has populations\n",
    "\n",
    "$$p_i=\\frac{ \\exp{(-E_i/k_B T)} }{Z} \\hspace{1cm} Z=\\sum_j \\exp{(-E_j/k_B T)} $$\n",
    "\n",
    "where $E_i$ are the energies of each state and $k_B$ is Boltzman's constant."
   ]
  },
  {
   "cell_type": "code",
   "execution_count": 1,
   "metadata": {
    "collapsed": false
   },
   "outputs": [],
   "source": [
    "from fast.atomic_structure import State, make_list_of_states\n",
    "from sympy import Integer\n",
    "from math import pi,exp,log"
   ]
  },
  {
   "cell_type": "code",
   "execution_count": 2,
   "metadata": {
    "collapsed": false
   },
   "outputs": [
    {
     "data": {
      "text/plain": [
       "85Rb 5S_1/2"
      ]
     },
     "execution_count": 2,
     "metadata": {},
     "output_type": "execute_result"
    }
   ],
   "source": [
    "element=\"Rb\"; iso=85\n",
    "ground=State(element,iso,5,0,1/Integer(2))\n",
    "ground"
   ]
  },
  {
   "cell_type": "code",
   "execution_count": 3,
   "metadata": {
    "collapsed": false
   },
   "outputs": [
    {
     "data": {
      "text/plain": [
       "[85Rb 5S_1/2^2,-2,\n",
       " 85Rb 5S_1/2^2,-1,\n",
       " 85Rb 5S_1/2^2,0,\n",
       " 85Rb 5S_1/2^2,1,\n",
       " 85Rb 5S_1/2^2,2,\n",
       " 85Rb 5S_1/2^3,-3,\n",
       " 85Rb 5S_1/2^3,-2,\n",
       " 85Rb 5S_1/2^3,-1,\n",
       " 85Rb 5S_1/2^3,0,\n",
       " 85Rb 5S_1/2^3,1,\n",
       " 85Rb 5S_1/2^3,2,\n",
       " 85Rb 5S_1/2^3,3]"
      ]
     },
     "execution_count": 3,
     "metadata": {},
     "output_type": "execute_result"
    }
   ],
   "source": [
    "magnetic_states=make_list_of_states([ground],\"magnetic\")\n",
    "magnetic_states"
   ]
  },
  {
   "cell_type": "code",
   "execution_count": 4,
   "metadata": {
    "collapsed": false
   },
   "outputs": [],
   "source": [
    "e1=magnetic_states[0]"
   ]
  },
  {
   "cell_type": "code",
   "execution_count": 5,
   "metadata": {
    "collapsed": false
   },
   "outputs": [],
   "source": [
    "hbar=1.054571800e-34 #J*s\n",
    "kB=1.38064852e-23 # J*K"
   ]
  },
  {
   "cell_type": "code",
   "execution_count": 6,
   "metadata": {
    "collapsed": false
   },
   "outputs": [
    {
     "data": {
      "text/plain": [
       "[-1.1733739171326158e-24,\n",
       " -1.1733739171326158e-24,\n",
       " -1.1733739171326158e-24,\n",
       " -1.1733739171326158e-24,\n",
       " -1.1733739171326158e-24,\n",
       " 8.38124226523297e-25,\n",
       " 8.38124226523297e-25,\n",
       " 8.38124226523297e-25,\n",
       " 8.38124226523297e-25,\n",
       " 8.38124226523297e-25,\n",
       " 8.38124226523297e-25,\n",
       " 8.38124226523297e-25]"
      ]
     },
     "execution_count": 6,
     "metadata": {},
     "output_type": "execute_result"
    }
   ],
   "source": [
    "E=[hbar*2*pi*e.nu for e in magnetic_states]\n",
    "E"
   ]
  },
  {
   "cell_type": "code",
   "execution_count": 7,
   "metadata": {
    "collapsed": false
   },
   "outputs": [
    {
     "data": {
      "text/plain": [
       "257.15"
      ]
     },
     "execution_count": 7,
     "metadata": {},
     "output_type": "execute_result"
    }
   ],
   "source": [
    "T=20#Celsius degrees.\n",
    "T=T+237.15 #Kelvin\n",
    "T"
   ]
  },
  {
   "cell_type": "code",
   "execution_count": 8,
   "metadata": {
    "collapsed": false
   },
   "outputs": [
    {
     "data": {
      "text/plain": [
       "12.000000468134257"
      ]
     },
     "execution_count": 8,
     "metadata": {},
     "output_type": "execute_result"
    }
   ],
   "source": [
    "Z=sum([exp(-E[i]/kB/T) for i in range(len(magnetic_states))])\n",
    "Z"
   ]
  },
  {
   "cell_type": "markdown",
   "metadata": {},
   "source": [
    "So the populations are:"
   ]
  },
  {
   "cell_type": "code",
   "execution_count": 9,
   "metadata": {
    "collapsed": false
   },
   "outputs": [
    {
     "data": {
      "text/plain": [
       "[0.08336087600197295,\n",
       " 0.08336087600197295,\n",
       " 0.08336087600197295,\n",
       " 0.08336087600197295,\n",
       " 0.08336087600197295,\n",
       " 0.08331365999859079,\n",
       " 0.08331365999859079,\n",
       " 0.08331365999859079,\n",
       " 0.08331365999859079,\n",
       " 0.08331365999859079,\n",
       " 0.08331365999859079,\n",
       " 0.08331365999859079]"
      ]
     },
     "execution_count": 9,
     "metadata": {},
     "output_type": "execute_result"
    }
   ],
   "source": [
    "p=[exp(-E[i]/kB/T)/Z for i in range(len(magnetic_states))]\n",
    "p"
   ]
  },
  {
   "cell_type": "markdown",
   "metadata": {},
   "source": [
    "Which is close to assigning populations equally:"
   ]
  },
  {
   "cell_type": "code",
   "execution_count": 10,
   "metadata": {
    "collapsed": false
   },
   "outputs": [
    {
     "data": {
      "text/plain": [
       "[0.08333333333333333,\n",
       " 0.08333333333333333,\n",
       " 0.08333333333333333,\n",
       " 0.08333333333333333,\n",
       " 0.08333333333333333,\n",
       " 0.08333333333333333,\n",
       " 0.08333333333333333,\n",
       " 0.08333333333333333,\n",
       " 0.08333333333333333,\n",
       " 0.08333333333333333,\n",
       " 0.08333333333333333,\n",
       " 0.08333333333333333]"
      ]
     },
     "execution_count": 10,
     "metadata": {},
     "output_type": "execute_result"
    }
   ],
   "source": [
    "p_deg=[1.0/len(magnetic_states) for i in range(len(magnetic_states))]\n",
    "p_deg"
   ]
  },
  {
   "cell_type": "markdown",
   "metadata": {},
   "source": [
    "Let's make a plot of the variation with temperature."
   ]
  },
  {
   "cell_type": "code",
   "execution_count": 11,
   "metadata": {
    "collapsed": false
   },
   "outputs": [],
   "source": [
    "if iso==85:\n",
    "    a=5\n",
    "else:\n",
    "    a=3"
   ]
  },
  {
   "cell_type": "code",
   "execution_count": 12,
   "metadata": {
    "collapsed": false
   },
   "outputs": [
    {
     "data": {
      "text/plain": [
       "(0.41680438000986475, 0.5831956199901356)"
      ]
     },
     "execution_count": 12,
     "metadata": {},
     "output_type": "execute_result"
    }
   ],
   "source": [
    "P1=sum(p[:a])\n",
    "P2=sum(p[a:])\n",
    "P1,P2"
   ]
  },
  {
   "cell_type": "code",
   "execution_count": 13,
   "metadata": {
    "collapsed": true
   },
   "outputs": [],
   "source": [
    "def get_energies(element,iso):\n",
    "    ground=State(element,iso,5,0,1/Integer(2))\n",
    "    magnetic_states=make_list_of_states([ground],\"magnetic\")\n",
    "    E=[hbar*2*pi*e.nu for e in magnetic_states]\n",
    "    return E"
   ]
  },
  {
   "cell_type": "code",
   "execution_count": 14,
   "metadata": {
    "collapsed": true
   },
   "outputs": [],
   "source": [
    "def pops(T,E,element,iso):\n",
    "    if iso==85:\n",
    "        a=5\n",
    "    else:\n",
    "        a=3\n",
    "\n",
    "    ground=State(element,iso,5,0,1/Integer(2))\n",
    "    magnetic_states=make_list_of_states([ground],\"magnetic\")\n",
    "        \n",
    "    Z=sum([exp(-E[i]/kB/T) for i in range(len(magnetic_states))])\n",
    "    p=[exp(-E[i]/kB/T)/Z for i in range(len(magnetic_states))]\n",
    "    return p[0],p[-1],sum(p[:a]),sum(p[a:])"
   ]
  },
  {
   "cell_type": "code",
   "execution_count": 15,
   "metadata": {
    "collapsed": false
   },
   "outputs": [],
   "source": [
    "from numpy import logspace,array\n",
    "T=logspace(-2,3,201)"
   ]
  },
  {
   "cell_type": "code",
   "execution_count": 16,
   "metadata": {
    "collapsed": false
   },
   "outputs": [],
   "source": [
    "E85=get_energies(\"Rb\",85)\n",
    "E87=get_energies(\"Rb\",87)"
   ]
  },
  {
   "cell_type": "code",
   "execution_count": 17,
   "metadata": {
    "collapsed": false
   },
   "outputs": [],
   "source": [
    "dat=array([pops(Ti,E85,\"Rb\",85) for Ti in T])\n",
    "p185=list(dat[:,0])\n",
    "p285=list(dat[:,1])\n",
    "P185=list(dat[:,2])\n",
    "P285=list(dat[:,3])"
   ]
  },
  {
   "cell_type": "code",
   "execution_count": 18,
   "metadata": {
    "collapsed": false
   },
   "outputs": [],
   "source": [
    "dat=array([pops(Ti,E87,\"Rb\",87) for Ti in T])\n",
    "p187=list(dat[:,0])\n",
    "p287=list(dat[:,1])\n",
    "P187=list(dat[:,2])\n",
    "P287=list(dat[:,3])"
   ]
  },
  {
   "cell_type": "code",
   "execution_count": 19,
   "metadata": {
    "collapsed": true
   },
   "outputs": [],
   "source": [
    "show_mot_temperature=False\n",
    "if show_mot_temperature:\n",
    "    T_Doppler=145.537e-6\n",
    "    T_lim=100e-6\n",
    "    T=[T_lim]+list(T)\n",
    "    T=array(T)\n",
    "\n",
    "    p185=[1/5.0]+p185\n",
    "    p285=[0.0  ]+p285\n",
    "    P185=[1.0  ]+P185\n",
    "    P285=[0.0  ]+P285\n",
    "\n",
    "    p187=[1/3.0]+p187\n",
    "    p287=[0.0  ]+p287\n",
    "    P187=[1.0  ]+P187\n",
    "    P287=[0.0  ]+P287"
   ]
  },
  {
   "cell_type": "code",
   "execution_count": 20,
   "metadata": {
    "collapsed": false
   },
   "outputs": [],
   "source": [
    "from matplotlib import pyplot\n",
    "%matplotlib inline"
   ]
  },
  {
   "cell_type": "code",
   "execution_count": 21,
   "metadata": {
    "collapsed": false
   },
   "outputs": [
    {
     "data": {
      "text/plain": [
       "<matplotlib.legend.Legend at 0x7f88c2c02990>"
      ]
     },
     "execution_count": 21,
     "metadata": {},
     "output_type": "execute_result"
    },
    {
     "data": {
      "image/png": "[encoded data removed]",
      "text/plain": [
       "<matplotlib.figure.Figure at 0x7f88c516fb90>"
      ]
     },
     "metadata": {},
     "output_type": "display_data"
    }
   ],
   "source": [
    "pyplot.close(\"all\")\n",
    "pyplot.semilogx(T,p185,\"b\",label=r\"$\\mathrm{lower \\ magnetic \\ state}$\")\n",
    "pyplot.semilogx(T,p285,\"r\",label=r\"$\\mathrm{higher \\ magnetic \\ state}$\")\n",
    "pyplot.semilogx(T,P185,\"m\",label=r\"$\\mathrm{lower \\ fine \\ multiplet}$\")\n",
    "pyplot.semilogx(T,P285,\"g\",label=r\"$\\mathrm{higher \\ fine \\ multiplet}$\")\n",
    "\n",
    "pyplot.semilogx(T,p187,\"b--\")\n",
    "pyplot.semilogx(T,p287,\"r--\")\n",
    "pyplot.semilogx(T,P187,\"m--\")\n",
    "pyplot.semilogx(T,P287,\"g--\")\n",
    "\n",
    "pyplot.semilogx([273.15,273.15],[0,1],\"k\")\n",
    "pyplot.semilogx([273.15+50,273.15+50],[0,1],\"k\")\n",
    "if show_mot_temperature: pyplot.semilogx([T_Doppler,T_Doppler],[0,1],\"k\")\n",
    "\n",
    "pyplot.ylabel(r\"$\\mathrm{population}$\",fontsize=15)\n",
    "pyplot.xlabel(r\"$\\mathrm{T} \\ \\mathrm{(K)}$\",fontsize=15)\n",
    "pyplot.legend(fontsize=10)"
   ]
  },
  {
   "cell_type": "markdown",
   "metadata": {},
   "source": [
    "Here solid lines show the populations for $^{85}\\mathrm{Rb}$ and dashed lines for $^{87}\\mathrm{Rb}$. So we can see that $^{85}\\mathrm{Rb}$ is thermalized at slightly lower temperatures than $^{87}\\mathrm{Rb}$: at about 5 and 10 Kelvin respectively all magnetic states reach the same population."
   ]
  },
  {
   "cell_type": "code",
   "execution_count": 22,
   "metadata": {
    "collapsed": true
   },
   "outputs": [],
   "source": [
    "def entropy(p1,p2,iso):\n",
    "    if iso==85:\n",
    "        n1=5; n2=7\n",
    "    else:\n",
    "        n1=3; n2=5\n",
    "    return - kB*(n1*p1*log(p1) + n2*p2*log(p2))"
   ]
  },
  {
   "cell_type": "code",
   "execution_count": 23,
   "metadata": {
    "collapsed": false
   },
   "outputs": [],
   "source": [
    "S85=[entropy(p185[i],p285[i],85) for i in range(len(p185))]\n",
    "S87=[entropy(p187[i],p287[i],87) for i in range(len(p187))]"
   ]
  },
  {
   "cell_type": "code",
   "execution_count": 24,
   "metadata": {
    "collapsed": false
   },
   "outputs": [
    {
     "data": {
      "text/plain": [
       "<matplotlib.legend.Legend at 0x7f88c22f65d0>"
      ]
     },
     "execution_count": 24,
     "metadata": {},
     "output_type": "execute_result"
    },
    {
     "data": {
      "image/png": "[encoded data removed]",
      "text/plain": [
       "<matplotlib.figure.Figure at 0x7f88c541e910>"
      ]
     },
     "metadata": {},
     "output_type": "display_data"
    }
   ],
   "source": [
    "pyplot.close(\"all\")\n",
    "pyplot.semilogx(T,S85,\"r\",label=r\"$^{85} \\mathrm{Rb}$\")\n",
    "pyplot.semilogx(T,S87,\"b\",label=r\"$^{87} \\mathrm{Rb}$\")\n",
    "\n",
    "pyplot.ylabel(r\"$S \\ \\mathrm{(J K^{-1})}$\",fontsize=15)\n",
    "pyplot.xlabel(r\"$\\mathrm{T} \\ \\mathrm{(K)}$\",fontsize=15)\n",
    "pyplot.legend(fontsize=15,loc=4)"
   ]
  },
  {
   "cell_type": "code",
   "execution_count": null,
   "metadata": {
    "collapsed": true
   },
   "outputs": [],
   "source": []
  },
  {
   "cell_type": "code",
   "execution_count": null,
   "metadata": {
    "collapsed": true
   },
   "outputs": [],
   "source": []
  }
 ],
 "metadata": {
  "anaconda-cloud": {},
  "kernelspec": {
   "display_name": "Python [conda root]",
   "language": "python",
   "name": "conda-root-py"
  },
  "language_info": {
   "codemirror_mode": {
    "name": "ipython",
    "version": 2
   },
   "file_extension": ".py",
   "mimetype": "text/x-python",
   "name": "python",
   "nbconvert_exporter": "python",
   "pygments_lexer": "ipython2",
   "version": "2.7.12"
  }
 },
 "nbformat": 4,
 "nbformat_minor": 1
}
