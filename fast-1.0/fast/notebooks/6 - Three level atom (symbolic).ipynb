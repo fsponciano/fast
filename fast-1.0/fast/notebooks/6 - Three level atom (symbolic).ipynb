{
 "cells": [
  {
   "cell_type": "code",
   "execution_count": 5,
   "metadata": {
    "collapsed": true
   },
   "outputs": [],
   "source": [
    "from sympy import init_printing\n",
    "init_printing() "
   ]
  },
  {
   "cell_type": "code",
   "execution_count": 6,
   "metadata": {
    "collapsed": false
   },
   "outputs": [],
   "source": [
    "from sympy import Symbol,Matrix,symbols\n",
    "from sympy import I,conjugate,re,im\n",
    "from sympy import sin,cos,exp,sqrt,pi\n",
    "from sympy import pprint\n",
    "from sympy import simplify\n",
    "from sympy import KroneckerDelta\n",
    "from sympy import Function, Derivative\n",
    "from sympy import solve\n",
    "from sympy import zeros\n",
    "from sympy import Integer\n",
    "\n",
    "from fast.symbolic import define_density_matrix, define_laser_variables, polarization_vector\n",
    "from fast.symbolic import cartesian_to_helicity, helicity_to_cartesian, helicity_dot_product\n",
    "from fast.symbolic import define_r_components, define_frequencies\n",
    "from fast.symbolic import delta_greater, delta_lesser\n",
    "from fast.symbolic import ket,bra,lindblad_operator,lindblad_terms\n",
    "from fast.symbolic import define_psi_coefficients\n",
    "from fast.symbolic import define_rho_vector,calculate_A_b\n"
   ]
  },
  {
   "cell_type": "markdown",
   "metadata": {},
   "source": [
    "We define the number of states and of radiation fields."
   ]
  },
  {
   "cell_type": "code",
   "execution_count": 7,
   "metadata": {
    "collapsed": true
   },
   "outputs": [],
   "source": [
    "Ne=3\n",
    "Nl=2"
   ]
  },
  {
   "cell_type": "markdown",
   "metadata": {},
   "source": [
    "We define the variables related to the laser field."
   ]
  },
  {
   "cell_type": "code",
   "execution_count": 8,
   "metadata": {
    "collapsed": false
   },
   "outputs": [
    {
     "name": "stdout",
     "output_type": "stream",
     "text": [
      "[E¹₀, E²₀]\n",
      "[ω¹, ω²]\n"
     ]
    }
   ],
   "source": [
    "E0,omega_laser=define_laser_variables(Nl)\n",
    "pprint(E0)\n",
    "pprint(omega_laser)"
   ]
  },
  {
   "cell_type": "markdown",
   "metadata": {},
   "source": [
    "We define a few important symbols."
   ]
  },
  {
   "cell_type": "code",
   "execution_count": 9,
   "metadata": {
    "collapsed": false
   },
   "outputs": [
    {
     "name": "stdout",
     "output_type": "stream",
     "text": [
      "[t, h̅, e]\n"
     ]
    }
   ],
   "source": [
    "t,hbar,e=symbols(\"t hbar e\",positive=True)\n",
    "pprint([t,hbar,e])"
   ]
  },
  {
   "cell_type": "markdown",
   "metadata": {},
   "source": [
    "We write two electric fields propagating trough the $\\hat{x}$ direction polarized in the $\\hat{z}$ direction. First the wave vectors:"
   ]
  },
  {
   "cell_type": "code",
   "execution_count": 13,
   "metadata": {
    "collapsed": false
   },
   "outputs": [
    {
     "name": "stdout",
     "output_type": "stream",
     "text": [
      "⎡⎡1⎤, ⎡1⎤⎤\n",
      "⎢⎢ ⎥  ⎢ ⎥⎥\n",
      "⎢⎢0⎥  ⎢0⎥⎥\n",
      "⎢⎢ ⎥  ⎢ ⎥⎥\n",
      "⎣⎣0⎦  ⎣0⎦⎦\n"
     ]
    }
   ],
   "source": [
    "phi=0; theta=pi/2; alpha=pi/2; beta=0\n",
    "\n",
    "k1=Matrix([cos(phi)*sin(theta),sin(phi)*sin(theta),cos(theta)])\n",
    "k2=Matrix([cos(phi)*sin(theta),sin(phi)*sin(theta),cos(theta)])\n",
    "\n",
    "pprint([k1,k2])"
   ]
  },
  {
   "cell_type": "markdown",
   "metadata": {},
   "source": [
    "The polarization vectors."
   ]
  },
  {
   "cell_type": "code",
   "execution_count": 17,
   "metadata": {
    "collapsed": false
   },
   "outputs": [
    {
     "name": "stdout",
     "output_type": "stream",
     "text": [
      "⎡⎡⎡0⎤, ⎡0⎤⎤, ⎡⎡0⎤, ⎡0⎤⎤⎤\n",
      "⎢⎢⎢ ⎥  ⎢ ⎥⎥  ⎢⎢ ⎥  ⎢ ⎥⎥⎥\n",
      "⎢⎢⎢0⎥  ⎢0⎥⎥  ⎢⎢0⎥  ⎢0⎥⎥⎥\n",
      "⎢⎢⎢ ⎥  ⎢ ⎥⎥  ⎢⎢ ⎥  ⎢ ⎥⎥⎥\n",
      "⎣⎣⎣1⎦  ⎣1⎦⎦  ⎣⎣1⎦  ⎣1⎦⎦⎦\n"
     ]
    }
   ],
   "source": [
    "ep1=polarization_vector(phi,theta,alpha,beta, 1)\n",
    "ep2=polarization_vector(phi,theta,alpha,beta, 1)\n",
    "\n",
    "em1=ep1.conjugate()\n",
    "em2=ep2.conjugate()\n",
    "\n",
    "ep=[ep1,ep2]\n",
    "em=[em1,em2]\n",
    "\n",
    "pprint([ep,em])"
   ]
  },
  {
   "cell_type": "markdown",
   "metadata": {},
   "source": [
    "The electric field (evaluated in $\\vec{R}=0$)."
   ]
  },
  {
   "cell_type": "code",
   "execution_count": 32,
   "metadata": {
    "collapsed": false
   },
   "outputs": [
    {
     "name": "stdout",
     "output_type": "stream",
     "text": [
      "⎡                         0                         ⎤\n",
      "⎢                                                   ⎥\n",
      "⎢                         0                         ⎥\n",
      "⎢                                                   ⎥\n",
      "⎢    ⎛ ⅈ⋅ω¹⋅t    -ⅈ⋅ω¹⋅t⎞       ⎛ ⅈ⋅ω²⋅t    -ⅈ⋅ω²⋅t⎞⎥\n",
      "⎢E¹₀⋅⎝ℯ       + ℯ       ⎠   E²₀⋅⎝ℯ       + ℯ       ⎠⎥\n",
      "⎢──────────────────────── + ────────────────────────⎥\n",
      "⎣           2                          2            ⎦\n"
     ]
    }
   ],
   "source": [
    "zero_vect=Matrix([0,0,0])\n",
    "E_cartesian = sum( [E0[l]/2*(ep[l]*exp(-I*omega_laser[l]*t) + em[l]*exp( I*omega_laser[l]*t)) for l in range(Nl)],\n",
    "                  zero_vect)\n",
    "\n",
    "pprint(E_cartesian)"
   ]
  },
  {
   "cell_type": "markdown",
   "metadata": {},
   "source": [
    "We write the electric field in the helicity basis."
   ]
  },
  {
   "cell_type": "code",
   "execution_count": 33,
   "metadata": {
    "collapsed": false
   },
   "outputs": [
    {
     "name": "stdout",
     "output_type": "stream",
     "text": [
      "⎡                         0                         ⎤\n",
      "⎢                                                   ⎥\n",
      "⎢    ⎛ ⅈ⋅ω¹⋅t    -ⅈ⋅ω¹⋅t⎞       ⎛ ⅈ⋅ω²⋅t    -ⅈ⋅ω²⋅t⎞⎥\n",
      "⎢E¹₀⋅⎝ℯ       + ℯ       ⎠   E²₀⋅⎝ℯ       + ℯ       ⎠⎥\n",
      "⎢──────────────────────── + ────────────────────────⎥\n",
      "⎢           2                          2            ⎥\n",
      "⎢                                                   ⎥\n",
      "⎣                         0                         ⎦\n"
     ]
    }
   ],
   "source": [
    "E=cartesian_to_helicity(E_cartesian)\n",
    "pprint(E)"
   ]
  },
  {
   "cell_type": "markdown",
   "metadata": {},
   "source": [
    "We define the position operator."
   ]
  },
  {
   "cell_type": "code",
   "execution_count": 50,
   "metadata": {
    "collapsed": false
   },
   "outputs": [
    {
     "name": "stdout",
     "output_type": "stream",
     "text": [
      "⎡⎡    0      -r_{+1;21}      0     ⎤, ⎡   0      r_{0;21}     0    ⎤, ⎡    0      -r_{-1;21}      0     ⎤⎤\n",
      "⎢⎢                                 ⎥  ⎢                            ⎥  ⎢                                 ⎥⎥\n",
      "⎢⎢r_{-1;21}      0       -r_{+1;32}⎥  ⎢r_{0;21}     0      r_{0;32}⎥  ⎢r_{+1;21}      0       -r_{-1;32}⎥⎥\n",
      "⎢⎢                                 ⎥  ⎢                            ⎥  ⎢                                 ⎥⎥\n",
      "⎣⎣    0      r_{-1;32}       0     ⎦  ⎣   0      r_{0;32}     0    ⎦  ⎣    0      r_{+1;32}       0     ⎦⎦\n"
     ]
    }
   ],
   "source": [
    "r=define_r_components(Ne,helicity=True,explicitly_hermitian=True)\n",
    "#Ladder means that r_{p;31}=0\n",
    "r=[ri.subs({r[0][2,0]:0,r[1][2,0]:0,r[2][2,0]:0}) for ri in r]\n",
    "pprint(r,num_columns=150)"
   ]
  },
  {
   "cell_type": "markdown",
   "metadata": {},
   "source": [
    "The frequencies of the energy levels, the resonant frequencies, and the decay frequencies."
   ]
  },
  {
   "cell_type": "code",
   "execution_count": 51,
   "metadata": {
    "collapsed": false
   },
   "outputs": [
    {
     "name": "stdout",
     "output_type": "stream",
     "text": [
      "[ω₁, ω₂, ω₃]\n",
      "\n",
      "⎡ 0   -ω₂₁  -ω₃₁⎤\n",
      "⎢               ⎥\n",
      "⎢ω₂₁   0    -ω₃₂⎥\n",
      "⎢               ⎥\n",
      "⎣ω₃₁  ω₃₂    0  ⎦\n",
      "\n",
      "⎡ 0   -γ₂₁   0  ⎤\n",
      "⎢               ⎥\n",
      "⎢γ₂₁   0    -γ₃₂⎥\n",
      "⎢               ⎥\n",
      "⎣ 0   γ₃₂    0  ⎦\n"
     ]
    }
   ],
   "source": [
    "omega_level,omega,gamma=define_frequencies(Ne,explicitly_antisymmetric=True)\n",
    "#Ladder means gamma31=0\n",
    "gamma=gamma.subs({gamma[2,0]:0})\n",
    "\n",
    "pprint(omega_level)\n",
    "print\n",
    "pprint(omega)\n",
    "print\n",
    "pprint(gamma)"
   ]
  },
  {
   "cell_type": "markdown",
   "metadata": {},
   "source": [
    "The atomic hamiltonian is"
   ]
  },
  {
   "cell_type": "code",
   "execution_count": 52,
   "metadata": {
    "collapsed": false
   },
   "outputs": [
    {
     "name": "stdout",
     "output_type": "stream",
     "text": [
      "⎡h̅⋅ω₁    0      0  ⎤\n",
      "⎢                   ⎥\n",
      "⎢  0    h̅⋅ω₂    0  ⎥\n",
      "⎢                   ⎥\n",
      "⎣  0      0    h̅⋅ω₃⎦\n"
     ]
    }
   ],
   "source": [
    "H0=Matrix([[hbar*omega_level[i]*KroneckerDelta(i,j) for j in range(Ne)] for i in range(Ne)])\n",
    "pprint(H0)"
   ]
  },
  {
   "cell_type": "markdown",
   "metadata": {
    "collapsed": false
   },
   "source": [
    "The interaction hamiltonian is"
   ]
  },
  {
   "cell_type": "code",
   "execution_count": 53,
   "metadata": {
    "collapsed": false
   },
   "outputs": [],
   "source": [
    "H1=e*helicity_dot_product(E,r)"
   ]
  },
  {
   "cell_type": "markdown",
   "metadata": {},
   "source": [
    "and the complete hamiltonian is"
   ]
  },
  {
   "cell_type": "code",
   "execution_count": 54,
   "metadata": {
    "collapsed": false
   },
   "outputs": [],
   "source": [
    "H=H0+H1"
   ]
  },
  {
   "cell_type": "markdown",
   "metadata": {
    "collapsed": true
   },
   "source": [
    "# Rotating wave approximation\n",
    "Notice that the electric field can be separated by terms with positive and negative frequency:"
   ]
  },
  {
   "cell_type": "code",
   "execution_count": 57,
   "metadata": {
    "collapsed": false
   },
   "outputs": [
    {
     "name": "stdout",
     "output_type": "stream",
     "text": [
      "⎡⎡             0             ⎤, ⎡            0            ⎤⎤\n",
      "⎢⎢                           ⎥  ⎢                         ⎥⎥\n",
      "⎢⎢     -ⅈ⋅ω¹⋅t        -ⅈ⋅ω²⋅t⎥  ⎢     ⅈ⋅ω¹⋅t        ⅈ⋅ω²⋅t⎥⎥\n",
      "⎢⎢E¹₀⋅ℯ          E²₀⋅ℯ       ⎥  ⎢E¹₀⋅ℯ         E²₀⋅ℯ      ⎥⎥\n",
      "⎢⎢──────────── + ────────────⎥  ⎢─────────── + ───────────⎥⎥\n",
      "⎢⎢     2              2      ⎥  ⎢     2             2     ⎥⎥\n",
      "⎢⎢                           ⎥  ⎢                         ⎥⎥\n",
      "⎣⎣             0             ⎦  ⎣            0            ⎦⎦\n"
     ]
    }
   ],
   "source": [
    "E_cartesian_p=sum([E0[l]/2*ep[l]*exp(-I*omega_laser[l]*t) for l in range(Nl)],zero_vect)\n",
    "E_cartesian_m=sum([E0[l]/2*em[l]*exp( I*omega_laser[l]*t) for l in range(Nl)],zero_vect)\n",
    "\n",
    "E_p=cartesian_to_helicity(E_cartesian_p)\n",
    "E_m=cartesian_to_helicity(E_cartesian_m)\n",
    "\n",
    "pprint([E_p,E_m])"
   ]
  },
  {
   "cell_type": "code",
   "execution_count": 58,
   "metadata": {
    "collapsed": false
   },
   "outputs": [
    {
     "name": "stdout",
     "output_type": "stream",
     "text": [
      "⎡0⎤\n",
      "⎢ ⎥\n",
      "⎢0⎥\n",
      "⎢ ⎥\n",
      "⎣0⎦\n"
     ]
    }
   ],
   "source": [
    "pprint( simplify(E-(E_p+E_m)) )"
   ]
  },
  {
   "cell_type": "markdown",
   "metadata": {},
   "source": [
    "The position operator can also be separated in this way. We go to the interaction picture (with $\\hat{H}_0$ as the undisturbed hamiltonian)"
   ]
  },
  {
   "cell_type": "code",
   "execution_count": 59,
   "metadata": {
    "collapsed": false
   },
   "outputs": [
    {
     "name": "stdout",
     "output_type": "stream",
     "text": [
      "⎡                                -ⅈ⋅ω₂₁⋅t                      ⎤\n",
      "⎢        0           -r_{+1;21}⋅ℯ                   0          ⎥\n",
      "⎢                                                              ⎥\n",
      "⎢           ⅈ⋅ω₂₁⋅t                                    -ⅈ⋅ω₃₂⋅t⎥\n",
      "⎢r_{-1;21}⋅ℯ                  0            -r_{+1;32}⋅ℯ        ⎥\n",
      "⎢                                                              ⎥\n",
      "⎢                                ⅈ⋅ω₃₂⋅t                       ⎥\n",
      "⎣        0            r_{-1;32}⋅ℯ                   0          ⎦\n",
      "⎡                             -ⅈ⋅ω₂₁⋅t                    ⎤\n",
      "⎢        0          r_{0;21}⋅ℯ                  0         ⎥\n",
      "⎢                                                         ⎥\n",
      "⎢          ⅈ⋅ω₂₁⋅t                                -ⅈ⋅ω₃₂⋅t⎥\n",
      "⎢r_{0;21}⋅ℯ                 0           r_{0;32}⋅ℯ        ⎥\n",
      "⎢                                                         ⎥\n",
      "⎢                             ⅈ⋅ω₃₂⋅t                     ⎥\n",
      "⎣        0          r_{0;32}⋅ℯ                  0         ⎦\n",
      "⎡                                -ⅈ⋅ω₂₁⋅t                      ⎤\n",
      "⎢        0           -r_{-1;21}⋅ℯ                   0          ⎥\n",
      "⎢                                                              ⎥\n",
      "⎢           ⅈ⋅ω₂₁⋅t                                    -ⅈ⋅ω₃₂⋅t⎥\n",
      "⎢r_{+1;21}⋅ℯ                  0            -r_{-1;32}⋅ℯ        ⎥\n",
      "⎢                                                              ⎥\n",
      "⎢                                ⅈ⋅ω₃₂⋅t                       ⎥\n",
      "⎣        0            r_{+1;32}⋅ℯ                   0          ⎦\n"
     ]
    }
   ],
   "source": [
    "r_I=[ Matrix([[exp(I*omega[i,j]*t)*r[p][i,j] for j in range(Ne)] for i in range(Ne)]) for p in range(3)]\n",
    "pprint(r_I[0])\n",
    "pprint(r_I[1])\n",
    "pprint(r_I[2])"
   ]
  },
  {
   "cell_type": "markdown",
   "metadata": {},
   "source": [
    "Which can be decomposed in positive and negative frequencies as"
   ]
  },
  {
   "cell_type": "code",
   "execution_count": 62,
   "metadata": {
    "collapsed": false
   },
   "outputs": [
    {
     "name": "stdout",
     "output_type": "stream",
     "text": [
      "⎡               -ⅈ⋅ω₂₁⋅t                      ⎤\n",
      "⎢0  -r_{+1;21}⋅ℯ                   0          ⎥\n",
      "⎢                                             ⎥\n",
      "⎢                                     -ⅈ⋅ω₃₂⋅t⎥\n",
      "⎢0           0            -r_{+1;32}⋅ℯ        ⎥\n",
      "⎢                                             ⎥\n",
      "⎣0           0                     0          ⎦\n",
      "⎡             -ⅈ⋅ω₂₁⋅t                    ⎤\n",
      "⎢0  r_{0;21}⋅ℯ                  0         ⎥\n",
      "⎢                                         ⎥\n",
      "⎢                                 -ⅈ⋅ω₃₂⋅t⎥\n",
      "⎢0          0           r_{0;32}⋅ℯ        ⎥\n",
      "⎢                                         ⎥\n",
      "⎣0          0                   0         ⎦\n",
      "⎡               -ⅈ⋅ω₂₁⋅t                      ⎤\n",
      "⎢0  -r_{-1;21}⋅ℯ                   0          ⎥\n",
      "⎢                                             ⎥\n",
      "⎢                                     -ⅈ⋅ω₃₂⋅t⎥\n",
      "⎢0           0            -r_{-1;32}⋅ℯ        ⎥\n",
      "⎢                                             ⎥\n",
      "⎣0           0                     0          ⎦\n"
     ]
    }
   ],
   "source": [
    "r_I_p=[ Matrix([[ delta_greater(j,i)*exp(-I*omega[j,i]*t)*r[p][i,j] for j in range(Ne)]for i in range(Ne)]) for p in range(3)]\n",
    "pprint(r_I_p[0])\n",
    "pprint(r_I_p[1])\n",
    "pprint(r_I_p[2])"
   ]
  },
  {
   "cell_type": "code",
   "execution_count": 63,
   "metadata": {
    "collapsed": false
   },
   "outputs": [
    {
     "name": "stdout",
     "output_type": "stream",
     "text": [
      "⎡        0                   0           0⎤\n",
      "⎢                                         ⎥\n",
      "⎢           ⅈ⋅ω₂₁⋅t                       ⎥\n",
      "⎢r_{-1;21}⋅ℯ                 0           0⎥\n",
      "⎢                                         ⎥\n",
      "⎢                               ⅈ⋅ω₃₂⋅t   ⎥\n",
      "⎣        0           r_{-1;32}⋅ℯ         0⎦\n",
      "⎡        0                  0          0⎤\n",
      "⎢                                       ⎥\n",
      "⎢          ⅈ⋅ω₂₁⋅t                      ⎥\n",
      "⎢r_{0;21}⋅ℯ                 0          0⎥\n",
      "⎢                                       ⎥\n",
      "⎢                             ⅈ⋅ω₃₂⋅t   ⎥\n",
      "⎣        0          r_{0;32}⋅ℯ         0⎦\n",
      "⎡        0                   0           0⎤\n",
      "⎢                                         ⎥\n",
      "⎢           ⅈ⋅ω₂₁⋅t                       ⎥\n",
      "⎢r_{+1;21}⋅ℯ                 0           0⎥\n",
      "⎢                                         ⎥\n",
      "⎢                               ⅈ⋅ω₃₂⋅t   ⎥\n",
      "⎣        0           r_{+1;32}⋅ℯ         0⎦\n"
     ]
    }
   ],
   "source": [
    "r_I_m=[ Matrix([[ delta_lesser( j,i)*exp( I*omega[i,j]*t)*r[p][i,j] for j in range(Ne)]for i in range(Ne)]) for p in range(3)]\n",
    "pprint(r_I_m[0])\n",
    "pprint(r_I_m[1])\n",
    "pprint(r_I_m[2])"
   ]
  },
  {
   "cell_type": "markdown",
   "metadata": {},
   "source": [
    "that summed equal $\\vec{\\hat{r}}_I$"
   ]
  },
  {
   "cell_type": "code",
   "execution_count": 64,
   "metadata": {
    "collapsed": false
   },
   "outputs": [
    {
     "name": "stdout",
     "output_type": "stream",
     "text": [
      "⎡⎡0  0  0⎤, ⎡0  0  0⎤, ⎡0  0  0⎤⎤\n",
      "⎢⎢       ⎥  ⎢       ⎥  ⎢       ⎥⎥\n",
      "⎢⎢0  0  0⎥  ⎢0  0  0⎥  ⎢0  0  0⎥⎥\n",
      "⎢⎢       ⎥  ⎢       ⎥  ⎢       ⎥⎥\n",
      "⎣⎣0  0  0⎦  ⎣0  0  0⎦  ⎣0  0  0⎦⎦\n"
     ]
    }
   ],
   "source": [
    "pprint( [r_I[p]-(r_I_p[p]+r_I_m[p]) for p in range(3)] )"
   ]
  },
  {
   "cell_type": "markdown",
   "metadata": {},
   "source": [
    "Thus the interaction hamiltonian in the interaciton picture is\n",
    "\\begin{equation}\n",
    "    \\hat{H}_{1I}=e\\vec{E}\\cdot \\vec{\\hat{r}}_I= e(\\vec{E}^{(+)}\\cdot \\vec{\\hat{r}}^{(+)}_I + \\vec{E}^{(+)}\\cdot \\vec{\\hat{r}}^{(-)}_I + \\vec{E}^{(-)}\\cdot \\vec{\\hat{r}}^{(+)}_I + \\vec{E}^{(-)}\\cdot \\vec{\\hat{r}}^{(-)}_I)\n",
    "\\end{equation}"
   ]
  },
  {
   "cell_type": "code",
   "execution_count": 65,
   "metadata": {
    "collapsed": false
   },
   "outputs": [
    {
     "name": "stdout",
     "output_type": "stream",
     "text": [
      "⎡                                                                                      ⎛    ⎛ ⅈ⋅ω¹⋅t    -ⅈ⋅ω¹⋅t⎞      \n",
      "⎢                                                                                      ⎜E¹₀⋅⎝ℯ       + ℯ       ⎠   E²₀\n",
      "⎢                                    0                                      e⋅r_{0;21}⋅⎜──────────────────────── + ───\n",
      "⎢                                                                                      ⎝           2                  \n",
      "⎢                                                                                                                     \n",
      "⎢           ⎛    ⎛ ⅈ⋅ω¹⋅t    -ⅈ⋅ω¹⋅t⎞       ⎛ ⅈ⋅ω²⋅t    -ⅈ⋅ω²⋅t⎞⎞                                                     \n",
      "⎢           ⎜E¹₀⋅⎝ℯ       + ℯ       ⎠   E²₀⋅⎝ℯ       + ℯ       ⎠⎟  ⅈ⋅ω₂₁⋅t                                            \n",
      "⎢e⋅r_{0;21}⋅⎜──────────────────────── + ────────────────────────⎟⋅ℯ                                             0     \n",
      "⎢           ⎝           2                          2            ⎠                                                     \n",
      "⎢                                                                                                                     \n",
      "⎢                                                                                      ⎛    ⎛ ⅈ⋅ω¹⋅t    -ⅈ⋅ω¹⋅t⎞      \n",
      "⎢                                                                                      ⎜E¹₀⋅⎝ℯ       + ℯ       ⎠   E²₀\n",
      "⎢                                    0                                      e⋅r_{0;32}⋅⎜──────────────────────── + ───\n",
      "⎣                                                                                      ⎝           2                  \n",
      "\n",
      " ⎛ ⅈ⋅ω²⋅t    -ⅈ⋅ω²⋅t⎞⎞                                                                                      ⎤\n",
      "⋅⎝ℯ       + ℯ       ⎠⎟  -ⅈ⋅ω₂₁⋅t                                                                            ⎥\n",
      "─────────────────────⎟⋅ℯ                                              0                                     ⎥\n",
      "        2            ⎠                                                                                      ⎥\n",
      "                                                                                                            ⎥\n",
      "                                             ⎛    ⎛ ⅈ⋅ω¹⋅t    -ⅈ⋅ω¹⋅t⎞       ⎛ ⅈ⋅ω²⋅t    -ⅈ⋅ω²⋅t⎞⎞          ⎥\n",
      "                                             ⎜E¹₀⋅⎝ℯ       + ℯ       ⎠   E²₀⋅⎝ℯ       + ℯ       ⎠⎟  -ⅈ⋅ω₃₂⋅t⎥\n",
      "                                  e⋅r_{0;32}⋅⎜──────────────────────── + ────────────────────────⎟⋅ℯ        ⎥\n",
      "                                             ⎝           2                          2            ⎠          ⎥\n",
      "                                                                                                            ⎥\n",
      " ⎛ ⅈ⋅ω²⋅t    -ⅈ⋅ω²⋅t⎞⎞                                                                                      ⎥\n",
      "⋅⎝ℯ       + ℯ       ⎠⎟  ⅈ⋅ω₃₂⋅t                                                                             ⎥\n",
      "─────────────────────⎟⋅ℯ                                              0                                     ⎥\n",
      "        2            ⎠                                                                                      ⎦\n"
     ]
    }
   ],
   "source": [
    "H1I=e*helicity_dot_product(E,r_I)\n",
    "pprint(H1I,num_columns=120)"
   ]
  },
  {
   "cell_type": "markdown",
   "metadata": {},
   "source": [
    "Since both $\\omega^l$ and $\\omega_{ij}$ are in the order of THz, the terms that have frequencies with the same sign are summed, and thus also of the order of THz. The frequencies in the terms with oposite signs however, are detunings of the order of MHz. Since we are only interested in the coarse-grained evolution of the density matrix, we may omit the fast terms and approximate\n",
    "\n",
    "\\begin{equation}\n",
    "    \\hat{H}_{1I} \\simeq \\hat{H}_{1I,RWA}= e( \\vec{E}^{(+)}\\cdot \\vec{\\hat{r}}^{(-)}_I + \\vec{E}^{(-)}\\cdot \\vec{\\hat{r}}^{(+)}_I )\n",
    "\\end{equation}\n",
    "\n",
    "That is known as the rotating wave approximation (RWA)."
   ]
  },
  {
   "cell_type": "code",
   "execution_count": 23,
   "metadata": {
    "collapsed": false
   },
   "outputs": [
    {
     "name": "stdout",
     "output_type": "stream",
     "text": [
      "⎡                                                  ⅈ⋅ω¹⋅t  -ⅈ⋅ω₂₁⋅t⎤\n",
      "⎢                                  E¹₀⋅e⋅r_{0;21}⋅ℯ      ⋅ℯ        ⎥\n",
      "⎢               0                  ────────────────────────────────⎥\n",
      "⎢                                                 2                ⎥\n",
      "⎢                                                                  ⎥\n",
      "⎢                -ⅈ⋅ω¹⋅t  ⅈ⋅ω₂₁⋅t                                  ⎥\n",
      "⎢E¹₀⋅e⋅r_{0;21}⋅ℯ       ⋅ℯ                                         ⎥\n",
      "⎢────────────────────────────────                 0                ⎥\n",
      "⎣               2                                                  ⎦\n"
     ]
    }
   ],
   "source": [
    "H1IRWA=e*(helicity_dot_product(E_p,r_I_m)+helicity_dot_product(E_m,r_I_p))\n",
    "pprint(H1IRWA)"
   ]
  },
  {
   "cell_type": "markdown",
   "metadata": {},
   "source": [
    " Returning to the Schrödinger picture we have."
   ]
  },
  {
   "cell_type": "code",
   "execution_count": 24,
   "metadata": {
    "collapsed": false
   },
   "outputs": [
    {
     "name": "stdout",
     "output_type": "stream",
     "text": [
      "⎡⎡0  -r_{+1;21}⎤, ⎡0  r_{0;21}⎤, ⎡0  -r_{-1;21}⎤⎤\n",
      "⎢⎢             ⎥  ⎢           ⎥  ⎢             ⎥⎥\n",
      "⎣⎣0      0     ⎦  ⎣0     0    ⎦  ⎣0      0     ⎦⎦\n"
     ]
    }
   ],
   "source": [
    "r_p=[ Matrix([[ delta_greater(j,i)*r[p][i,j] for j in range(Ne)]for i in range(Ne)]) for p in range(3)]\n",
    "pprint(r_p)"
   ]
  },
  {
   "cell_type": "code",
   "execution_count": 25,
   "metadata": {
    "collapsed": false
   },
   "outputs": [
    {
     "name": "stdout",
     "output_type": "stream",
     "text": [
      "⎡⎡    0      0⎤, ⎡   0      0⎤, ⎡    0      0⎤⎤\n",
      "⎢⎢            ⎥  ⎢           ⎥  ⎢            ⎥⎥\n",
      "⎣⎣r_{-1;21}  0⎦  ⎣r_{0;21}  0⎦  ⎣r_{+1;21}  0⎦⎦\n"
     ]
    }
   ],
   "source": [
    "r_m=[ Matrix([[ delta_lesser( j,i)*r[p][i,j] for j in range(Ne)]for i in range(Ne)]) for p in range(3)]\n",
    "pprint(r_m)"
   ]
  },
  {
   "cell_type": "code",
   "execution_count": 26,
   "metadata": {
    "collapsed": false
   },
   "outputs": [
    {
     "name": "stdout",
     "output_type": "stream",
     "text": [
      "⎡⎡0  0⎤, ⎡0  0⎤, ⎡0  0⎤⎤\n",
      "⎢⎢    ⎥  ⎢    ⎥  ⎢    ⎥⎥\n",
      "⎣⎣0  0⎦  ⎣0  0⎦  ⎣0  0⎦⎦\n"
     ]
    }
   ],
   "source": [
    "pprint( [r[p]-(r_p[p]+r_m[p]) for p in range(3)] )"
   ]
  },
  {
   "cell_type": "markdown",
   "metadata": {},
   "source": [
    "Thus the interaction hamiltonian in the Schrödinger picture in the rotating wave approximation is"
   ]
  },
  {
   "cell_type": "code",
   "execution_count": 27,
   "metadata": {
    "collapsed": false
   },
   "outputs": [
    {
     "name": "stdout",
     "output_type": "stream",
     "text": [
      "⎡                                         ⅈ⋅ω¹⋅t⎤\n",
      "⎢                         E¹₀⋅e⋅r_{0;21}⋅ℯ      ⎥\n",
      "⎢           0             ──────────────────────⎥\n",
      "⎢                                   2           ⎥\n",
      "⎢                                               ⎥\n",
      "⎢                -ⅈ⋅ω¹⋅t                        ⎥\n",
      "⎢E¹₀⋅e⋅r_{0;21}⋅ℯ                               ⎥\n",
      "⎢───────────────────────            0           ⎥\n",
      "⎣           2                                   ⎦\n"
     ]
    }
   ],
   "source": [
    "H1RWA=e*(helicity_dot_product(E_p,r_m)+helicity_dot_product(E_m,r_p))\n",
    "pprint(H1RWA)"
   ]
  },
  {
   "cell_type": "markdown",
   "metadata": {},
   "source": [
    "And the complete hamiltonian in the Schrödinger picture in the rotating wave approximation is"
   ]
  },
  {
   "cell_type": "code",
   "execution_count": 28,
   "metadata": {
    "collapsed": false
   },
   "outputs": [
    {
     "name": "stdout",
     "output_type": "stream",
     "text": [
      "⎡                                         ⅈ⋅ω¹⋅t⎤\n",
      "⎢                         E¹₀⋅e⋅r_{0;21}⋅ℯ      ⎥\n",
      "⎢         h̅⋅ω₁           ──────────────────────⎥\n",
      "⎢                                   2           ⎥\n",
      "⎢                                               ⎥\n",
      "⎢                -ⅈ⋅ω¹⋅t                        ⎥\n",
      "⎢E¹₀⋅e⋅r_{0;21}⋅ℯ                               ⎥\n",
      "⎢───────────────────────          h̅⋅ω₂         ⎥\n",
      "⎣           2                                   ⎦\n"
     ]
    }
   ],
   "source": [
    "HRWA=H0+H1RWA\n",
    "pprint(HRWA)"
   ]
  },
  {
   "cell_type": "markdown",
   "metadata": {
    "collapsed": true
   },
   "source": [
    "# Rotating Frame\n",
    "Next we will make a phase transformation in order to eliminate the explicit time dependance of the equations."
   ]
  },
  {
   "cell_type": "code",
   "execution_count": 29,
   "metadata": {
    "collapsed": false
   },
   "outputs": [
    {
     "name": "stdout",
     "output_type": "stream",
     "text": [
      "⎡⎡c₁(t)⎤, ⎡\\tilde{c}_{1}(t)⎤, ⎡θ₁⎤⎤\n",
      "⎢⎢     ⎥  ⎢                ⎥  ⎢  ⎥⎥\n",
      "⎣⎣c₂(t)⎦  ⎣\\tilde{c}_{2}(t)⎦  ⎣θ₂⎦⎦\n"
     ]
    }
   ],
   "source": [
    "c,ctilde,phase=define_psi_coefficients(Ne)\n",
    "pprint([c,ctilde,phase])"
   ]
  },
  {
   "cell_type": "code",
   "execution_count": 30,
   "metadata": {
    "collapsed": false
   },
   "outputs": [
    {
     "name": "stdout",
     "output_type": "stream",
     "text": [
      "⎡                  ⅈ⋅t⋅θ₁⎤\n",
      "⎢\\tilde{c}_{1}(t)⋅ℯ      ⎥\n",
      "⎢                        ⎥\n",
      "⎢                  ⅈ⋅t⋅θ₂⎥\n",
      "⎣\\tilde{c}_{2}(t)⋅ℯ      ⎦\n"
     ]
    }
   ],
   "source": [
    "psi=Matrix([ exp(I*phase[i]*t)*ctilde[i] for i in range(Ne)])\n",
    "pprint(psi)"
   ]
  },
  {
   "cell_type": "markdown",
   "metadata": {},
   "source": [
    "The Schrödinger equation $i\\hbar \\partial_t |\\psi\\rangle=\\hat{H}_{RWA}$ is"
   ]
  },
  {
   "cell_type": "code",
   "execution_count": 31,
   "metadata": {
    "collapsed": false
   },
   "outputs": [
    {
     "name": "stdout",
     "output_type": "stream",
     "text": [
      "⎡                         ⅈ⋅t⋅θ₁⎤\n",
      "⎢-h̅⋅θ₁⋅\\tilde{c}_{1}(t)⋅ℯ      ⎥\n",
      "⎢                               ⎥\n",
      "⎢                         ⅈ⋅t⋅θ₂⎥\n",
      "⎣-h̅⋅θ₂⋅\\tilde{c}_{2}(t)⋅ℯ      ⎦\n"
     ]
    }
   ],
   "source": [
    "lhs=Matrix([(I*hbar*Derivative(psi[i],t).doit()).expand() for i in range(Ne)])\n",
    "pprint(lhs)"
   ]
  },
  {
   "cell_type": "code",
   "execution_count": 32,
   "metadata": {
    "collapsed": false
   },
   "outputs": [
    {
     "name": "stdout",
     "output_type": "stream",
     "text": [
      "⎡                                 ⅈ⋅ω¹⋅t  ⅈ⋅t⋅θ₂                                  ⎤\n",
      "⎢E¹₀⋅e⋅r_{0;21}⋅\\tilde{c}_{2}(t)⋅ℯ      ⋅ℯ                                 ⅈ⋅t⋅θ₁ ⎥\n",
      "⎢─────────────────────────────────────────────── + h̅⋅ω₁⋅\\tilde{c}_{1}(t)⋅ℯ       ⎥\n",
      "⎢                       2                                                         ⎥\n",
      "⎢                                                                                 ⎥\n",
      "⎢                                 -ⅈ⋅ω¹⋅t  ⅈ⋅t⋅θ₁                                 ⎥\n",
      "⎢E¹₀⋅e⋅r_{0;21}⋅\\tilde{c}_{1}(t)⋅ℯ       ⋅ℯ                                 ⅈ⋅t⋅θ₂⎥\n",
      "⎢──────────────────────────────────────────────── + h̅⋅ω₂⋅\\tilde{c}_{2}(t)⋅ℯ      ⎥\n",
      "⎣                       2                                                         ⎦\n"
     ]
    }
   ],
   "source": [
    "rhs=HRWA*psi\n",
    "pprint(rhs,num_columns=120)"
   ]
  },
  {
   "cell_type": "markdown",
   "metadata": {},
   "source": [
    "We multiply each of these equations by $e^{-i \\theta_i t}$ and substracting $i \\theta_i \\tilde{c}_i$"
   ]
  },
  {
   "cell_type": "code",
   "execution_count": 33,
   "metadata": {
    "collapsed": false
   },
   "outputs": [
    {
     "name": "stdout",
     "output_type": "stream",
     "text": [
      "⎡0⎤\n",
      "⎢ ⎥\n",
      "⎣0⎦\n"
     ]
    }
   ],
   "source": [
    "lhs_new=Matrix([simplify(  lhs[i]*exp(-I*phase[i]*t) +hbar*phase[i]*ctilde[i] ) for i in range(Ne)])\n",
    "pprint(lhs_new)"
   ]
  },
  {
   "cell_type": "code",
   "execution_count": 34,
   "metadata": {
    "collapsed": false
   },
   "outputs": [
    {
     "name": "stdout",
     "output_type": "stream",
     "text": [
      "⎡                                 ⅈ⋅ω¹⋅t  -ⅈ⋅t⋅θ₁  ⅈ⋅t⋅θ₂                                                   ⎤\n",
      "⎢E¹₀⋅e⋅r_{0;21}⋅\\tilde{c}_{2}(t)⋅ℯ      ⋅ℯ       ⋅ℯ                                                         ⎥\n",
      "⎢──────────────────────────────────────────────────────── + h̅⋅ω₁⋅\\tilde{c}_{1}(t) + h̅⋅θ₁⋅\\tilde{c}_{1}(t) ⎥\n",
      "⎢                           2                                                                               ⎥\n",
      "⎢                                                                                                           ⎥\n",
      "⎢                                 -ⅈ⋅ω¹⋅t  ⅈ⋅t⋅θ₁  -ⅈ⋅t⋅θ₂                                                  ⎥\n",
      "⎢E¹₀⋅e⋅r_{0;21}⋅\\tilde{c}_{1}(t)⋅ℯ       ⋅ℯ      ⋅ℯ                                                         ⎥\n",
      "⎢───────────────────────────────────────────────────────── + h̅⋅ω₂⋅\\tilde{c}_{2}(t) + h̅⋅θ₂⋅\\tilde{c}_{2}(t)⎥\n",
      "⎣                            2                                                                              ⎦\n"
     ]
    }
   ],
   "source": [
    "rhs_new=Matrix([simplify(  rhs[i]*exp(-I*phase[i]*t) +hbar*phase[i]*ctilde[i] ) for i in range(Ne)])\n",
    "pprint(rhs_new,num_columns=120)"
   ]
  },
  {
   "cell_type": "markdown",
   "metadata": {},
   "source": [
    "It can be seen that the equations loose their explicit time dependance only if $\\omega^{1} - \\theta_{1} + \\theta_{2}=0$. Which is satisfied if"
   ]
  },
  {
   "cell_type": "code",
   "execution_count": 35,
   "metadata": {
    "collapsed": false
   },
   "outputs": [
    {
     "name": "stdout",
     "output_type": "stream",
     "text": [
      "{θ₂: -ω¹ + θ₁}\n"
     ]
    }
   ],
   "source": [
    "phase_transformation=solve(omega_laser[0]+phase[1]-phase[0],phase[1],dict=True)[0]\n",
    "pprint(phase_transformation)"
   ]
  },
  {
   "cell_type": "markdown",
   "metadata": {},
   "source": [
    "There is a free parameter $\\theta_1$, which is to be expected, since state vetors $|\\psi\\rangle$ always have a global phase invariance"
   ]
  },
  {
   "cell_type": "code",
   "execution_count": 36,
   "metadata": {
    "collapsed": false
   },
   "outputs": [
    {
     "name": "stdout",
     "output_type": "stream",
     "text": [
      "⎡                      ⅈ⋅t⋅θ₁    ⎤\n",
      "⎢    \\tilde{c}_{1}(t)⋅ℯ          ⎥\n",
      "⎢                                ⎥\n",
      "⎢                  ⅈ⋅t⋅(-ω¹ + θ₁)⎥\n",
      "⎣\\tilde{c}_{2}(t)⋅ℯ              ⎦\n"
     ]
    }
   ],
   "source": [
    "pprint(psi.subs(phase_transformation))"
   ]
  },
  {
   "cell_type": "markdown",
   "metadata": {},
   "source": [
    "Thus the equations become"
   ]
  },
  {
   "cell_type": "code",
   "execution_count": 37,
   "metadata": {
    "collapsed": false
   },
   "outputs": [
    {
     "name": "stdout",
     "output_type": "stream",
     "text": [
      "⎡0⎤\n",
      "⎢ ⎥\n",
      "⎣0⎦\n"
     ]
    }
   ],
   "source": [
    "pprint(lhs_new)"
   ]
  },
  {
   "cell_type": "code",
   "execution_count": 38,
   "metadata": {
    "collapsed": false
   },
   "outputs": [
    {
     "name": "stdout",
     "output_type": "stream",
     "text": [
      "⎡   E¹₀⋅e⋅r_{0;21}⋅\\tilde{c}_{2}(t)                                   ⎤\n",
      "⎢   ─────────────────────────────── + h̅⋅(ω₁ + θ₁)⋅\\tilde{c}_{1}(t)   ⎥\n",
      "⎢                  2                                                  ⎥\n",
      "⎢                                                                     ⎥\n",
      "⎢E¹₀⋅e⋅r_{0;21}⋅\\tilde{c}_{1}(t)                                      ⎥\n",
      "⎢─────────────────────────────── + h̅⋅(-ω¹ + ω₂ + θ₁)⋅\\tilde{c}_{2}(t)⎥\n",
      "⎣               2                                                     ⎦\n"
     ]
    }
   ],
   "source": [
    "rhs_new=simplify(rhs_new.subs(phase_transformation))\n",
    "pprint(rhs_new)"
   ]
  },
  {
   "cell_type": "markdown",
   "metadata": {},
   "source": [
    "It can be seen that this is the Schrödinger equation derived from an effective hamiltonian $\\tilde{H}$"
   ]
  },
  {
   "cell_type": "code",
   "execution_count": 39,
   "metadata": {
    "collapsed": false
   },
   "outputs": [
    {
     "name": "stdout",
     "output_type": "stream",
     "text": [
      "⎡                  E¹₀⋅e⋅r_{0;21}  ⎤\n",
      "⎢ h̅⋅(ω₁ + θ₁)     ──────────────  ⎥\n",
      "⎢                        2         ⎥\n",
      "⎢                                  ⎥\n",
      "⎢E¹₀⋅e⋅r_{0;21}                    ⎥\n",
      "⎢──────────────  h̅⋅(-ω¹ + ω₂ + θ₁)⎥\n",
      "⎣      2                           ⎦\n"
     ]
    }
   ],
   "source": [
    "Htilde=Matrix([ [Derivative(rhs_new[i],ctilde[j]).doit() for j in range(Ne)] for i in range(Ne)])\n",
    "pprint(Htilde)"
   ]
  },
  {
   "cell_type": "markdown",
   "metadata": {},
   "source": [
    "We can see that it is convenient to choose $\\theta_1=-\\omega_1$ to simplify the hamiltonian. Also, we can recognize $\\omega^1-\\omega_2+\\omega_1=\\delta$ as the detuning of the laser field relative to the atomic transition $\\omega_{21}=\\omega_2-\\omega_1$."
   ]
  },
  {
   "cell_type": "code",
   "execution_count": 40,
   "metadata": {
    "collapsed": false
   },
   "outputs": [
    {
     "name": "stdout",
     "output_type": "stream",
     "text": [
      "⎡                E¹₀⋅e⋅r_{0;21}⎤\n",
      "⎢      0         ──────────────⎥\n",
      "⎢                      2       ⎥\n",
      "⎢                              ⎥\n",
      "⎢E¹₀⋅e⋅r_{0;21}                ⎥\n",
      "⎢──────────────      -δ⋅h̅     ⎥\n",
      "⎣      2                       ⎦\n"
     ]
    }
   ],
   "source": [
    "delta=Symbol(\"delta\",real=True)\n",
    "Htilde=Htilde.subs({phase[0]:-omega_level[0]}).subs({omega_laser[0]:delta+omega_level[1]-omega_level[0]})\n",
    "pprint(Htilde)"
   ]
  },
  {
   "cell_type": "markdown",
   "metadata": {},
   "source": [
    "If we define the Rabi frequency $\\Omega =e E_0^1 r_{0;21}/\\hbar$"
   ]
  },
  {
   "cell_type": "code",
   "execution_count": 41,
   "metadata": {
    "collapsed": false
   },
   "outputs": [
    {
     "name": "stdout",
     "output_type": "stream",
     "text": [
      "⎡      Ω⋅h̅ ⎤\n",
      "⎢ 0    ──── ⎥\n",
      "⎢       2   ⎥\n",
      "⎢           ⎥\n",
      "⎢Ω⋅h̅       ⎥\n",
      "⎢────  -δ⋅h̅⎥\n",
      "⎣ 2         ⎦\n"
     ]
    }
   ],
   "source": [
    "Omega=Symbol(\"Omega\",real=True)\n",
    "Htilde=Htilde.subs({r[1][1,0]:Omega*hbar/E0[0]/e})\n",
    "pprint(Htilde)"
   ]
  },
  {
   "cell_type": "markdown",
   "metadata": {},
   "source": [
    "We define the density matrix."
   ]
  },
  {
   "cell_type": "code",
   "execution_count": 42,
   "metadata": {
    "collapsed": false
   },
   "outputs": [
    {
     "name": "stdout",
     "output_type": "stream",
     "text": [
      "⎡ρ₁₁  ρ₁₂⎤\n",
      "⎢        ⎥\n",
      "⎣ρ₂₁  ρ₂₂⎦\n"
     ]
    }
   ],
   "source": [
    "rho=define_density_matrix(Ne)\n",
    "pprint( rho )"
   ]
  },
  {
   "cell_type": "markdown",
   "metadata": {},
   "source": [
    "The hamiltonian part of the equations is\n",
    "\\begin{equation}\n",
    "    \\dot{\\hat{\\rho}}=\\frac{i}{\\hbar}[\\hat{\\rho}, \\hat{\\tilde{H}}]\n",
    "\\end{equation}"
   ]
  },
  {
   "cell_type": "code",
   "execution_count": 43,
   "metadata": {
    "collapsed": false
   },
   "outputs": [
    {
     "name": "stdout",
     "output_type": "stream",
     "text": [
      "⎡      ⅈ⋅Ω⋅ρ₁₂   ⅈ⋅Ω⋅ρ₂₁        ⅈ⋅Ω⋅ρ₁₁   ⅈ⋅Ω⋅ρ₂₂          ⎤\n",
      "⎢      ─────── - ───────        ─────── - ─────── - ⅈ⋅δ⋅ρ₁₂⎥\n",
      "⎢         2         2              2         2             ⎥\n",
      "⎢                                                          ⎥\n",
      "⎢  ⅈ⋅Ω⋅ρ₁₁   ⅈ⋅Ω⋅ρ₂₂                  ⅈ⋅Ω⋅ρ₁₂   ⅈ⋅Ω⋅ρ₂₁    ⎥\n",
      "⎢- ─────── + ─────── + ⅈ⋅δ⋅ρ₂₁      - ─────── + ───────    ⎥\n",
      "⎣     2         2                        2         2       ⎦\n"
     ]
    }
   ],
   "source": [
    "hamiltonian_terms=(I/hbar*(rho*Htilde-Htilde*rho)).expand()\n",
    "pprint(hamiltonian_terms)"
   ]
  },
  {
   "cell_type": "markdown",
   "metadata": {},
   "source": [
    "There is only one Lindblad operator, since there is only one spontaneous decay channel."
   ]
  },
  {
   "cell_type": "code",
   "execution_count": 44,
   "metadata": {
    "collapsed": false
   },
   "outputs": [
    {
     "name": "stdout",
     "output_type": "stream",
     "text": [
      "⎡           -γ₂₁⋅ρ₁₂ ⎤\n",
      "⎢ γ₂₁⋅ρ₂₂   ─────────⎥\n",
      "⎢               2    ⎥\n",
      "⎢                    ⎥\n",
      "⎢-γ₂₁⋅ρ₂₁            ⎥\n",
      "⎢─────────  -γ₂₁⋅ρ₂₂ ⎥\n",
      "⎣    2               ⎦\n"
     ]
    }
   ],
   "source": [
    "lindblad_terms=gamma[1,0]*lindblad_operator(ket(1,Ne)*bra(2,Ne),rho)\n",
    "pprint(lindblad_terms, num_columns=120)"
   ]
  },
  {
   "cell_type": "markdown",
   "metadata": {},
   "source": [
    "# Optical Bloch Equations\n",
    "The Optical Bloch equations are thus."
   ]
  },
  {
   "cell_type": "code",
   "execution_count": 45,
   "metadata": {
    "collapsed": false
   },
   "outputs": [
    {
     "name": "stdout",
     "output_type": "stream",
     "text": [
      "⎡      ⅈ⋅Ω⋅ρ₁₂   ⅈ⋅Ω⋅ρ₂₁                  ⅈ⋅Ω⋅ρ₁₁   ⅈ⋅Ω⋅ρ₂₂             γ₂₁⋅ρ₁₂⎤\n",
      "⎢      ─────── - ─────── + γ₂₁⋅ρ₂₂        ─────── - ─────── - ⅈ⋅δ⋅ρ₁₂ - ───────⎥\n",
      "⎢         2         2                        2         2                   2   ⎥\n",
      "⎢                                                                              ⎥\n",
      "⎢  ⅈ⋅Ω⋅ρ₁₁   ⅈ⋅Ω⋅ρ₂₂             γ₂₁⋅ρ₂₁        ⅈ⋅Ω⋅ρ₁₂   ⅈ⋅Ω⋅ρ₂₁              ⎥\n",
      "⎢- ─────── + ─────── + ⅈ⋅δ⋅ρ₂₁ - ───────      - ─────── + ─────── - γ₂₁⋅ρ₂₂    ⎥\n",
      "⎣     2         2                   2              2         2                 ⎦\n"
     ]
    }
   ],
   "source": [
    "eqs=hamiltonian_terms + lindblad_terms\n",
    "pprint(eqs,num_columns=120)"
   ]
  },
  {
   "cell_type": "markdown",
   "metadata": {},
   "source": [
    "which is how most literature will show the equations. However, a more convenient way to express this equations is to explicitly asume a normalized and hermitian density matrix"
   ]
  },
  {
   "cell_type": "code",
   "execution_count": 46,
   "metadata": {
    "collapsed": false
   },
   "outputs": [
    {
     "name": "stdout",
     "output_type": "stream",
     "text": [
      "⎡          ___⎤\n",
      "⎢-ρ₂₂ + 1  ρ₂₁⎥\n",
      "⎢             ⎥\n",
      "⎣  ρ₂₁     ρ₂₂⎦\n"
     ]
    }
   ],
   "source": [
    "rho=define_density_matrix(Ne,explicitly_hermitian=True,normalized=True)\n",
    "pprint( rho )"
   ]
  },
  {
   "cell_type": "code",
   "execution_count": 47,
   "metadata": {
    "collapsed": false
   },
   "outputs": [
    {
     "name": "stdout",
     "output_type": "stream",
     "text": [
      "⎡                  ___                                             ___⎤\n",
      "⎢    ⅈ⋅Ω⋅ρ₂₁   ⅈ⋅Ω⋅ρ₂₁                         ⅈ⋅Ω       ___   γ₂₁⋅ρ₂₁⎥\n",
      "⎢  - ─────── + ─────── + γ₂₁⋅ρ₂₂    -ⅈ⋅Ω⋅ρ₂₂ + ─── - ⅈ⋅δ⋅ρ₂₁ - ───────⎥\n",
      "⎢       2         2                             2                 2   ⎥\n",
      "⎢                                                                     ⎥\n",
      "⎢                                                    ___              ⎥\n",
      "⎢          ⅈ⋅Ω             γ₂₁⋅ρ₂₁     ⅈ⋅Ω⋅ρ₂₁   ⅈ⋅Ω⋅ρ₂₁              ⎥\n",
      "⎢ⅈ⋅Ω⋅ρ₂₂ - ─── + ⅈ⋅δ⋅ρ₂₁ - ───────     ─────── - ─────── - γ₂₁⋅ρ₂₂    ⎥\n",
      "⎣           2                 2           2         2                 ⎦\n"
     ]
    }
   ],
   "source": [
    "hamiltonian_terms = (I/hbar*(rho*Htilde-Htilde*rho)).expand()\n",
    "lindblad_terms    =gamma[1,0]*lindblad_operator(ket(1,Ne)*bra(2,Ne),rho)\n",
    "eqs=hamiltonian_terms + lindblad_terms\n",
    "pprint(eqs,num_columns=120)"
   ]
  },
  {
   "cell_type": "markdown",
   "metadata": {},
   "source": [
    "and only consider the equations for the populations $\\rho_{ii}$ for $i>1$ and the real and imaginary parts of the coherences below the diagonal."
   ]
  },
  {
   "cell_type": "code",
   "execution_count": 48,
   "metadata": {
    "collapsed": false
   },
   "outputs": [
    {
     "name": "stdout",
     "output_type": "stream",
     "text": [
      "-Ω⋅im(ρ₂₁) - γ₂₁⋅ρ₂₂\n"
     ]
    }
   ],
   "source": [
    "pprint( re(eqs[1,1]) )"
   ]
  },
  {
   "cell_type": "code",
   "execution_count": 49,
   "metadata": {
    "collapsed": false
   },
   "outputs": [
    {
     "name": "stdout",
     "output_type": "stream",
     "text": [
      "             γ₂₁⋅re(ρ₂₁)\n",
      "-δ⋅im(ρ₂₁) - ───────────\n",
      "                  2     \n"
     ]
    }
   ],
   "source": [
    "pprint( re(eqs[1,0]) )"
   ]
  },
  {
   "cell_type": "code",
   "execution_count": 50,
   "metadata": {
    "collapsed": false
   },
   "outputs": [
    {
     "name": "stdout",
     "output_type": "stream",
     "text": [
      "        Ω               γ₂₁⋅im(ρ₂₁)\n",
      "Ω⋅ρ₂₂ - ─ + δ⋅re(ρ₂₁) - ───────────\n",
      "        2                    2     \n"
     ]
    }
   ],
   "source": [
    "pprint( im(eqs[1,0]) )"
   ]
  },
  {
   "cell_type": "markdown",
   "metadata": {},
   "source": [
    "If the density matrix is represented as a vector whose components are the these independent components of the density matrix"
   ]
  },
  {
   "cell_type": "code",
   "execution_count": 51,
   "metadata": {
    "collapsed": false
   },
   "outputs": [
    {
     "name": "stdout",
     "output_type": "stream",
     "text": [
      "⎡  ρ₂₂  ⎤\n",
      "⎢       ⎥\n",
      "⎢re(ρ₂₁)⎥\n",
      "⎢       ⎥\n",
      "⎣im(ρ₂₁)⎦\n"
     ]
    }
   ],
   "source": [
    "rho_vect=define_rho_vector(rho,Ne)\n",
    "pprint(rho_vect)"
   ]
  },
  {
   "cell_type": "markdown",
   "metadata": {},
   "source": [
    "Then the equations can be re-written as linear combinations of these components plus an independent term.\n",
    "\\begin{equation}\n",
    "    \\dot{\\vec{\\rho}} = \\hat{A} \\vec{\\rho} + \\vec{b}\n",
    "\\end{equation}\n",
    "with $\\hat{A}$ a linear operator acting in this vector space and $\\vec{b}$ the vector of independent terms."
   ]
  },
  {
   "cell_type": "code",
   "execution_count": 52,
   "metadata": {
    "collapsed": false
   },
   "outputs": [
    {
     "name": "stdout",
     "output_type": "stream",
     "text": [
      "⎡⎡-γ₂₁    0     -Ω  ⎤, ⎡0⎤⎤\n",
      "⎢⎢                  ⎥  ⎢ ⎥⎥\n",
      "⎢⎢      -γ₂₁        ⎥  ⎢0⎥⎥\n",
      "⎢⎢ 0    ─────   -δ  ⎥  ⎢ ⎥⎥\n",
      "⎢⎢        2         ⎥  ⎢Ω⎥⎥\n",
      "⎢⎢                  ⎥  ⎢─⎥⎥\n",
      "⎢⎢             -γ₂₁ ⎥  ⎣2⎦⎥\n",
      "⎢⎢ Ω      δ    ─────⎥     ⎥\n",
      "⎣⎣               2  ⎦     ⎦\n"
     ]
    }
   ],
   "source": [
    "A,b=calculate_A_b(eqs,rho,Ne)\n",
    "pprint([A,b])"
   ]
  },
  {
   "cell_type": "markdown",
   "metadata": {},
   "source": [
    "Explicitly, this is"
   ]
  },
  {
   "cell_type": "code",
   "execution_count": 53,
   "metadata": {
    "collapsed": false
   },
   "outputs": [
    {
     "name": "stdout",
     "output_type": "stream",
     "text": [
      "⎡       -Ω⋅im(ρ₂₁) - γ₂₁⋅ρ₂₂        ⎤\n",
      "⎢                                   ⎥\n",
      "⎢                  γ₂₁⋅re(ρ₂₁)      ⎥\n",
      "⎢     -δ⋅im(ρ₂₁) - ───────────      ⎥\n",
      "⎢                       2           ⎥\n",
      "⎢                                   ⎥\n",
      "⎢        Ω               γ₂₁⋅im(ρ₂₁)⎥\n",
      "⎢Ω⋅ρ₂₂ - ─ + δ⋅re(ρ₂₁) - ───────────⎥\n",
      "⎣        2                    2     ⎦\n"
     ]
    }
   ],
   "source": [
    "eqs_new=A*rho_vect - b\n",
    "pprint(eqs_new)"
   ]
  },
  {
   "cell_type": "markdown",
   "metadata": {},
   "source": [
    "Which is the same as the equations in the previous form."
   ]
  },
  {
   "cell_type": "code",
   "execution_count": 54,
   "metadata": {
    "collapsed": false
   },
   "outputs": [
    {
     "name": "stdout",
     "output_type": "stream",
     "text": [
      "⎡0⎤\n",
      "⎢ ⎥\n",
      "⎢0⎥\n",
      "⎢ ⎥\n",
      "⎣0⎦\n"
     ]
    }
   ],
   "source": [
    "pprint( eqs_new - Matrix([re(eqs[1,1]),re(eqs[1,0]),im(eqs[1,0])]) )"
   ]
  },
  {
   "cell_type": "markdown",
   "metadata": {},
   "source": [
    "The steady state solution of this equations is"
   ]
  },
  {
   "cell_type": "code",
   "execution_count": 55,
   "metadata": {
    "collapsed": false
   },
   "outputs": [
    {
     "name": "stdout",
     "output_type": "stream",
     "text": [
      "⎧              2                                                                  ⎫\n",
      "⎪             Ω                          2⋅Ω⋅δ                       -Ω⋅γ₂₁       ⎪\n",
      "⎨ρ₂₂: ──────────────────, re(ρ₂₁): ──────────────────, im(ρ₂₁): ──────────────────⎬\n",
      "⎪        2      2      2              2      2      2              2      2      2⎪\n",
      "⎩     2⋅Ω  + 4⋅δ  + γ₂₁            2⋅Ω  + 4⋅δ  + γ₂₁            2⋅Ω  + 4⋅δ  + γ₂₁ ⎭\n"
     ]
    }
   ],
   "source": [
    "sol=solve(list(eqs_new),list(rho_vect))\n",
    "pprint( sol ,num_columns=120)"
   ]
  },
  {
   "cell_type": "markdown",
   "metadata": {},
   "source": [
    "According to literature [1], the solution should be"
   ]
  },
  {
   "cell_type": "code",
   "execution_count": 56,
   "metadata": {
    "collapsed": false
   },
   "outputs": [
    {
     "name": "stdout",
     "output_type": "stream",
     "text": [
      "[0, 0, 0]\n"
     ]
    }
   ],
   "source": [
    "s0=2*Omega**2/gamma[1,0]**2\n",
    "\n",
    "s=s0/(1+(2*delta/gamma[1,0])**2)\n",
    "\n",
    "\n",
    "rho21=-I*Omega/(2*(gamma[1,0]/2-I*delta)*(1+s))\n",
    "\n",
    "rerho22=( s/(2*(1+s)) ).simplify()\n",
    "rerho21=re(rho21).simplify()\n",
    "imrho21=im(rho21).simplify()\n",
    "\n",
    "pprint( [ sol[rho[1,1]]-rerho22, sol[re(rho[1,0])]-rerho21, sol[im(rho[1,0])]-imrho21 ] )"
   ]
  },
  {
   "cell_type": "markdown",
   "metadata": {},
   "source": [
    "So our development produces the same results as the literature."
   ]
  },
  {
   "cell_type": "markdown",
   "metadata": {},
   "source": [
    "The saturation intensity is defined as the intensity needed to accumulate $\\frac{1}{4}$ of the population in the excited state when the field is in resonance ($\\delta=0$)."
   ]
  },
  {
   "cell_type": "code",
   "execution_count": 57,
   "metadata": {
    "collapsed": false
   },
   "outputs": [
    {
     "name": "stdout",
     "output_type": "stream",
     "text": [
      "√2⋅γ₂₁\n",
      "──────\n",
      "  2   \n"
     ]
    }
   ],
   "source": [
    "Omega_sat=solve( sol[rho[1,1]].subs({delta:0})-1/Integer(4) ,Omega)[1]\n",
    "pprint(Omega_sat)"
   ]
  },
  {
   "cell_type": "markdown",
   "metadata": {},
   "source": [
    "Since $\\Omega =e E_0^1 r_{0;21}/\\hbar$ it follows that"
   ]
  },
  {
   "cell_type": "code",
   "execution_count": 58,
   "metadata": {
    "collapsed": false
   },
   "outputs": [
    {
     "name": "stdout",
     "output_type": "stream",
     "text": [
      "  √2⋅γ₂₁  \n",
      "──────────\n",
      "2⋅r_{0;21}\n"
     ]
    }
   ],
   "source": [
    "E0_sat=Omega_sat*hbar/e/r[1][1,0]\n",
    "pprint(E0_sat.subs({hbar:1,e:1}))"
   ]
  },
  {
   "cell_type": "markdown",
   "metadata": {},
   "source": [
    "The full width at half maximum of $\\rho_{22}$ is"
   ]
  },
  {
   "cell_type": "code",
   "execution_count": 59,
   "metadata": {
    "collapsed": false
   },
   "outputs": [
    {
     "name": "stdout",
     "output_type": "stream",
     "text": [
      "   _____________\n",
      "  ╱    2      2 \n",
      "╲╱  2⋅Ω  + γ₂₁  \n"
     ]
    }
   ],
   "source": [
    "hm1,hm2=solve(sol[rho[1,1]]-sol[rho[1,1]].subs({delta:0})/2,delta)\n",
    "FWHM=hm2-hm1\n",
    "pprint(FWHM)"
   ]
  },
  {
   "cell_type": "markdown",
   "metadata": {},
   "source": [
    "According to [1]"
   ]
  },
  {
   "cell_type": "code",
   "execution_count": 60,
   "metadata": {
    "collapsed": false
   },
   "outputs": [
    {
     "name": "stdout",
     "output_type": "stream",
     "text": [
      "⎧        ____      ⎫\n",
      "⎪   √2⋅╲╱ s₀ ⋅│γ₂₁│⎪\n",
      "⎨Ω: ───────────────⎬\n",
      "⎪          2       ⎪\n",
      "⎩                  ⎭\n"
     ]
    }
   ],
   "source": [
    "#s0*gamma^2/2=Omega**2\n",
    "Il,Isat,s0=symbols(\"I^l I_sat s0\")\n",
    "s0_subs={Omega:sqrt(s0*gamma[1,0]**2/2)}\n",
    "pprint( s0_subs )"
   ]
  },
  {
   "cell_type": "code",
   "execution_count": 61,
   "metadata": {
    "collapsed": false
   },
   "outputs": [
    {
     "name": "stdout",
     "output_type": "stream",
     "text": [
      "   ________________\n",
      "  ╱    2         2 \n",
      "╲╱  γ₂₁ ⋅s₀ + γ₂₁  \n"
     ]
    }
   ],
   "source": [
    "pprint( FWHM.subs(s0_subs) )"
   ]
  },
  {
   "cell_type": "markdown",
   "metadata": {},
   "source": [
    "[1]  H.J. Metcalf and P. van der Straten. Laser Cooling and Trapping. Graduate Texts in Contempo-\n",
    "rary Physics. Springer New York, 2001."
   ]
  },
  {
   "cell_type": "code",
   "execution_count": null,
   "metadata": {
    "collapsed": true
   },
   "outputs": [],
   "source": []
  }
 ],
 "metadata": {
  "anaconda-cloud": {},
  "kernelspec": {
   "display_name": "Python [conda root]",
   "language": "python",
   "name": "conda-root-py"
  },
  "language_info": {
   "codemirror_mode": {
    "name": "ipython",
    "version": 2
   },
   "file_extension": ".py",
   "mimetype": "text/x-python",
   "name": "python",
   "nbconvert_exporter": "python",
   "pygments_lexer": "ipython2",
   "version": "2.7.12"
  }
 },
 "nbformat": 4,
 "nbformat_minor": 0
}
