{
 "cells": [
  {
   "cell_type": "markdown",
   "metadata": {},
   "source": [
    "# The helicity basis and the dot product"
   ]
  },
  {
   "cell_type": "code",
   "execution_count": 1,
   "metadata": {
    "collapsed": true
   },
   "outputs": [],
   "source": [
    "from sympy import init_printing\n",
    "init_printing() "
   ]
  },
  {
   "cell_type": "code",
   "execution_count": 2,
   "metadata": {
    "collapsed": true
   },
   "outputs": [],
   "source": [
    "from sympy import Symbol,Matrix,symbols\n",
    "from sympy import I,conjugate\n",
    "from sympy import sin,cos,exp,sqrt,pi\n",
    "from sympy import pprint\n",
    "from sympy import simplify\n",
    "\n",
    "from fast.symbolic import define_laser_variables, polarization_vector\n",
    "from fast.symbolic import cartesian_to_helicity, helicity_to_cartesian, helicity_dot_product\n",
    "from fast.symbolic import define_r_components"
   ]
  },
  {
   "cell_type": "markdown",
   "metadata": {},
   "source": [
    "Two vectors defined through their components in the cartesian basis,"
   ]
  },
  {
   "cell_type": "code",
   "execution_count": 3,
   "metadata": {
    "collapsed": false
   },
   "outputs": [
    {
     "data": {
      "image/png": "[encoded data removed]",
      "text/latex": [
       "$$\\left ( \\left[\\begin{matrix}a_{x}\\\\a_{y}\\\\a_{z}\\end{matrix}\\right], \\quad \\left[\\begin{matrix}b_{x}\\\\b_{y}\\\\b_{z}\\end{matrix}\\right]\\right )$$"
      ],
      "text/plain": [
       "⎛⎡aₓ ⎤, ⎡bₓ ⎤⎞\n",
       "⎜⎢   ⎥  ⎢   ⎥⎟\n",
       "⎜⎢a_y⎥  ⎢b_y⎥⎟\n",
       "⎜⎢   ⎥  ⎢   ⎥⎟\n",
       "⎝⎣a_z⎦  ⎣b_z⎦⎠"
      ]
     },
     "execution_count": 3,
     "metadata": {},
     "output_type": "execute_result"
    }
   ],
   "source": [
    "a=Matrix(symbols(\"a_x a_y a_z\"))\n",
    "b=Matrix(symbols(\"b_x b_y b_z\"))\n",
    "a,b"
   ]
  },
  {
   "cell_type": "markdown",
   "metadata": {},
   "source": [
    "have their dot product is defined as"
   ]
  },
  {
   "cell_type": "code",
   "execution_count": 4,
   "metadata": {
    "collapsed": false
   },
   "outputs": [
    {
     "data": {
      "image/png": "[encoded data removed]",
      "text/latex": [
       "$$a_{x} b_{x} + a_{y} b_{y} + a_{z} b_{z}$$"
      ],
      "text/plain": [
       "aₓ⋅bₓ + a_y⋅b_y + a_z⋅b_z"
      ]
     },
     "execution_count": 4,
     "metadata": {},
     "output_type": "execute_result"
    }
   ],
   "source": [
    "a.dot(b)"
   ]
  },
  {
   "cell_type": "markdown",
   "metadata": {},
   "source": [
    "The vectors can be expressed through their components $a_{-1},\\ a_{0},\\ a_{+1}$ and $b_{-1},\\ b_{0},\\ b_{+1}$ in the helicity basis as"
   ]
  },
  {
   "cell_type": "code",
   "execution_count": 5,
   "metadata": {
    "collapsed": false
   },
   "outputs": [
    {
     "data": {
      "image/png": "[encoded data removed]",
      "text/latex": [
       "$$\\left ( \\left[\\begin{matrix}\\frac{\\sqrt{2}}{2} \\left(a_{x} - i a_{y}\\right)\\\\a_{z}\\\\\\frac{\\sqrt{2}}{2} \\left(- a_{x} - i a_{y}\\right)\\end{matrix}\\right], \\quad \\left[\\begin{matrix}\\frac{\\sqrt{2}}{2} \\left(b_{x} - i b_{y}\\right)\\\\b_{z}\\\\\\frac{\\sqrt{2}}{2} \\left(- b_{x} - i b_{y}\\right)\\end{matrix}\\right]\\right )$$"
      ],
      "text/plain": [
       "⎛⎡√2⋅(aₓ - ⅈ⋅a_y) ⎤  ⎡√2⋅(bₓ - ⅈ⋅b_y) ⎤⎞\n",
       "⎜⎢─────────────── ⎥, ⎢─────────────── ⎥⎟\n",
       "⎜⎢       2        ⎥  ⎢       2        ⎥⎟\n",
       "⎜⎢                ⎥  ⎢                ⎥⎟\n",
       "⎜⎢      a_z       ⎥  ⎢      b_z       ⎥⎟\n",
       "⎜⎢                ⎥  ⎢                ⎥⎟\n",
       "⎜⎢√2⋅(-aₓ - ⅈ⋅a_y)⎥  ⎢√2⋅(-bₓ - ⅈ⋅b_y)⎥⎟\n",
       "⎜⎢────────────────⎥  ⎢────────────────⎥⎟\n",
       "⎝⎣       2        ⎦  ⎣       2        ⎦⎠"
      ]
     },
     "execution_count": 5,
     "metadata": {},
     "output_type": "execute_result"
    }
   ],
   "source": [
    "a_helicity=cartesian_to_helicity(a)\n",
    "b_helicity=cartesian_to_helicity(b)\n",
    "\n",
    "a_helicity, b_helicity"
   ]
  },
  {
   "cell_type": "markdown",
   "metadata": {},
   "source": [
    "The dot product of two vectors in the helicity basis can be prooved to be $\\vec{a}\\cdot\\vec{b}=- a_{-1}b_{+1} +a_{0}   b_{0} -a_{+1} b_{-1}$"
   ]
  },
  {
   "cell_type": "code",
   "execution_count": 6,
   "metadata": {
    "collapsed": false
   },
   "outputs": [
    {
     "data": {
      "image/png": "[encoded data removed]",
      "text/latex": [
       "$$a_{z} b_{z} - \\frac{1}{2} \\left(- a_{x} - i a_{y}\\right) \\left(b_{x} - i b_{y}\\right) - \\frac{1}{2} \\left(a_{x} - i a_{y}\\right) \\left(- b_{x} - i b_{y}\\right)$$"
      ],
      "text/plain": [
       "          (-aₓ - ⅈ⋅a_y)⋅(bₓ - ⅈ⋅b_y)   (aₓ - ⅈ⋅a_y)⋅(-bₓ - ⅈ⋅b_y)\n",
       "a_z⋅b_z - ────────────────────────── - ──────────────────────────\n",
       "                      2                            2             "
      ]
     },
     "execution_count": 6,
     "metadata": {},
     "output_type": "execute_result"
    }
   ],
   "source": [
    "helicity_dot_product(a_helicity,b_helicity)"
   ]
  },
  {
   "cell_type": "code",
   "execution_count": 7,
   "metadata": {
    "collapsed": false
   },
   "outputs": [
    {
     "data": {
      "image/png": "[encoded data removed]",
      "text/latex": [
       "$$a_{x} b_{x} + a_{y} b_{y} + a_{z} b_{z}$$"
      ],
      "text/plain": [
       "aₓ⋅bₓ + a_y⋅b_y + a_z⋅b_z"
      ]
     },
     "execution_count": 7,
     "metadata": {},
     "output_type": "execute_result"
    }
   ],
   "source": [
    "simplify( helicity_dot_product(a_helicity,b_helicity) )"
   ]
  },
  {
   "cell_type": "markdown",
   "metadata": {},
   "source": [
    "# The electric field\n",
    "We define a few important symbols"
   ]
  },
  {
   "cell_type": "code",
   "execution_count": 18,
   "metadata": {
    "collapsed": false
   },
   "outputs": [
    {
     "data": {
      "image/png": "[encoded data removed]",
      "text/latex": [
       "$$\\left ( t, \\quad c, \\quad \\left[\\begin{matrix}X\\\\Y\\\\Z\\end{matrix}\\right]\\right )$$"
      ],
      "text/plain": [
       "⎛t, c, ⎡X⎤⎞\n",
       "⎜      ⎢ ⎥⎟\n",
       "⎜      ⎢Y⎥⎟\n",
       "⎜      ⎢ ⎥⎟\n",
       "⎝      ⎣Z⎦⎠"
      ]
     },
     "execution_count": 18,
     "metadata": {},
     "output_type": "execute_result"
    }
   ],
   "source": [
    "t,c=symbols(\"t c\",positive=True)\n",
    "X,Y,Z=symbols(\"X Y Z\",real=True)\n",
    "R=Matrix([X,Y,Z])\n",
    "t,c,R"
   ]
  },
  {
   "cell_type": "markdown",
   "metadata": {},
   "source": [
    "We will specify the electric field associated to a plane wave with arbitrary amplitude and frequency"
   ]
  },
  {
   "cell_type": "code",
   "execution_count": 9,
   "metadata": {
    "collapsed": false
   },
   "outputs": [
    {
     "data": {
      "image/png": "[encoded data removed]",
      "text/latex": [
       "$$\\left ( \\left [ E_0^{1}\\right ], \\quad \\left [ \\omega^{1}\\right ]\\right )$$"
      ],
      "text/plain": [
       "([E_0__{1}], [\\omega__{1}])"
      ]
     },
     "execution_count": 9,
     "metadata": {},
     "output_type": "execute_result"
    }
   ],
   "source": [
    "E0,omega_laser=define_laser_variables(1)\n",
    "E0,omega_laser"
   ]
  },
  {
   "cell_type": "markdown",
   "metadata": {},
   "source": [
    "propagating through an arbitrary wave vector $\\vec{k}$"
   ]
  },
  {
   "cell_type": "code",
   "execution_count": 10,
   "metadata": {
    "collapsed": false
   },
   "outputs": [
    {
     "data": {
      "image/png": "[encoded data removed]",
      "text/latex": [
       "$$\\left[\\begin{matrix}\\frac{\\omega^{1}}{c} \\sin{\\left (\\theta \\right )} \\cos{\\left (\\phi \\right )}\\\\\\frac{\\omega^{1}}{c} \\sin{\\left (\\phi \\right )} \\sin{\\left (\\theta \\right )}\\\\\\frac{\\omega^{1}}{c} \\cos{\\left (\\theta \\right )}\\end{matrix}\\right]$$"
      ],
      "text/plain": [
       "⎡\\omega__{1}⋅sin(θ)⋅cos(φ)⎤\n",
       "⎢─────────────────────────⎥\n",
       "⎢            c            ⎥\n",
       "⎢                         ⎥\n",
       "⎢\\omega__{1}⋅sin(φ)⋅sin(θ)⎥\n",
       "⎢─────────────────────────⎥\n",
       "⎢            c            ⎥\n",
       "⎢                         ⎥\n",
       "⎢   \\omega__{1}⋅cos(θ)    ⎥\n",
       "⎢   ──────────────────    ⎥\n",
       "⎣           c             ⎦"
      ]
     },
     "execution_count": 10,
     "metadata": {},
     "output_type": "execute_result"
    }
   ],
   "source": [
    "phi,theta,alpha,beta=symbols(\"phi theta alpha beta\")\n",
    "\n",
    "k=omega_laser[0]/c*Matrix([cos(phi)*sin(theta),sin(phi)*sin(theta),cos(theta)])\n",
    "k"
   ]
  },
  {
   "cell_type": "markdown",
   "metadata": {},
   "source": [
    "with an arbitrary polarization,"
   ]
  },
  {
   "cell_type": "code",
   "execution_count": 12,
   "metadata": {
    "collapsed": false
   },
   "outputs": [
    {
     "name": "stdout",
     "output_type": "stream",
     "text": [
      "⎡⎡(-sin(2⋅α)⋅sin(φ) + cos(2⋅α)⋅cos(φ)⋅cos(θ))⋅cos(2⋅β) + ⅈ⋅(-sin(2⋅α)⋅cos(φ)⋅c\n",
      "⎢⎢                                                                            \n",
      "⎢⎢(sin(2⋅α)⋅cos(φ) + sin(φ)⋅cos(2⋅α)⋅cos(θ))⋅cos(2⋅β) + ⅈ⋅(-sin(2⋅α)⋅sin(φ)⋅co\n",
      "⎢⎢                                                                            \n",
      "⎣⎣                            ⅈ⋅sin(2⋅α)⋅sin(2⋅β)⋅sin(θ) - sin(θ)⋅cos(2⋅α)⋅cos\n",
      "\n",
      "os(θ) - sin(φ)⋅cos(2⋅α))⋅sin(2⋅β)⎤, ⎡(-sin(2⋅α)⋅sin(φ) + cos(2⋅α)⋅cos(φ)⋅cos(θ\n",
      "                                 ⎥  ⎢                                         \n",
      "s(θ) + cos(2⋅α)⋅cos(φ))⋅sin(2⋅β) ⎥  ⎢(sin(2⋅α)⋅cos(φ) + sin(φ)⋅cos(2⋅α)⋅cos(θ)\n",
      "                                 ⎥  ⎢                                         \n",
      "(2⋅β)                            ⎦  ⎣                           -ⅈ⋅sin(2⋅α)⋅si\n",
      "\n",
      "))⋅cos(2⋅β) - ⅈ⋅(-sin(2⋅α)⋅cos(φ)⋅cos(θ) - sin(φ)⋅cos(2⋅α))⋅sin(2⋅β)⎤⎤\n",
      "                                                                    ⎥⎥\n",
      ")⋅cos(2⋅β) - ⅈ⋅(-sin(2⋅α)⋅sin(φ)⋅cos(θ) + cos(2⋅α)⋅cos(φ))⋅sin(2⋅β) ⎥⎥\n",
      "                                                                    ⎥⎥\n",
      "n(2⋅β)⋅sin(θ) - sin(θ)⋅cos(2⋅α)⋅cos(2⋅β)                            ⎦⎦\n"
     ]
    }
   ],
   "source": [
    "ep=polarization_vector(phi,theta,alpha,beta, 1)\n",
    "em=polarization_vector(phi,theta,alpha,beta,-1)\n",
    "pprint([ep,em])"
   ]
  },
  {
   "cell_type": "markdown",
   "metadata": {},
   "source": [
    "The electric field is given by"
   ]
  },
  {
   "cell_type": "code",
   "execution_count": 20,
   "metadata": {
    "collapsed": false
   },
   "outputs": [
    {
     "name": "stdout",
     "output_type": "stream",
     "text": [
      "⎡         ⎛                                                                   \n",
      "⎢         ⎜                                                                   \n",
      "⎢         ⎜                                                                   \n",
      "⎢E_0__{1}⋅⎝((-sin(2⋅α)⋅sin(φ) + cos(2⋅α)⋅cos(φ)⋅cos(θ))⋅cos(2⋅β) - ⅈ⋅(-sin(2⋅α\n",
      "⎢─────────────────────────────────────────────────────────────────────────────\n",
      "⎢                                                                             \n",
      "⎢                                                                             \n",
      "⎢          ⎛                                                                  \n",
      "⎢          ⎜                                                                  \n",
      "⎢          ⎜                                                                  \n",
      "⎢ E_0__{1}⋅⎝((sin(2⋅α)⋅cos(φ) + sin(φ)⋅cos(2⋅α)⋅cos(θ))⋅cos(2⋅β) - ⅈ⋅(-sin(2⋅α\n",
      "⎢ ────────────────────────────────────────────────────────────────────────────\n",
      "⎢                                                                             \n",
      "⎢                                                                             \n",
      "⎢                                                                ⎛            \n",
      "⎢                                                                ⎜            \n",
      "⎢                                                                ⎜            \n",
      "⎢                                                       E_0__{1}⋅⎝(-ⅈ⋅sin(2⋅α)\n",
      "⎢                                                       ──────────────────────\n",
      "⎣                                                                             \n",
      "\n",
      "                                                X⋅\\omega__{1}⋅sin(θ)⋅cos(φ)   \n",
      "                                              - ─────────────────────────── - \n",
      "                                                             c                \n",
      ")⋅cos(φ)⋅cos(θ) - sin(φ)⋅cos(2⋅α))⋅sin(2⋅β))⋅ℯ                                \n",
      "──────────────────────────────────────────────────────────────────────────────\n",
      "                                                                              \n",
      "                                                                              \n",
      "                                                X⋅\\omega__{1}⋅sin(θ)⋅cos(φ)   \n",
      "                                              - ─────────────────────────── - \n",
      "                                                             c                \n",
      ")⋅sin(φ)⋅cos(θ) + cos(2⋅α)⋅cos(φ))⋅sin(2⋅β))⋅ℯ                                \n",
      "──────────────────────────────────────────────────────────────────────────────\n",
      "                                                                              \n",
      "                                                                              \n",
      "                                                X⋅\\omega__{1}⋅sin(θ)⋅cos(φ)   \n",
      "                                              - ─────────────────────────── - \n",
      "                                                             c                \n",
      "⋅sin(2⋅β)⋅sin(θ) - sin(θ)⋅cos(2⋅α)⋅cos(2⋅β))⋅ℯ                                \n",
      "──────────────────────────────────────────────────────────────────────────────\n",
      "                                                                              \n",
      "\n",
      "Y⋅\\omega__{1}⋅sin(φ)⋅sin(θ)   Z⋅\\omega__{1}⋅cos(θ)                            \n",
      "─────────────────────────── - ──────────────────── + \\omega__{1}⋅t            \n",
      "             c                         c                                      \n",
      "                                                                   + ((-sin(2⋅\n",
      "──────────────────────────────────────────────────────────────────────────────\n",
      "                                                             2                \n",
      "                                                                              \n",
      "Y⋅\\omega__{1}⋅sin(φ)⋅sin(θ)   Z⋅\\omega__{1}⋅cos(θ)                            \n",
      "─────────────────────────── - ──────────────────── + \\omega__{1}⋅t            \n",
      "             c                         c                                      \n",
      "                                                                   + ((sin(2⋅α\n",
      "──────────────────────────────────────────────────────────────────────────────\n",
      "                                                             2                \n",
      "                                                                              \n",
      "Y⋅\\omega__{1}⋅sin(φ)⋅sin(θ)   Z⋅\\omega__{1}⋅cos(θ)                            \n",
      "─────────────────────────── - ──────────────────── + \\omega__{1}⋅t            \n",
      "             c                         c                                      \n",
      "                                                                   + (ⅈ⋅sin(2⋅\n",
      "──────────────────────────────────────────────────────────────────────────────\n",
      "                                                             2                \n",
      "\n",
      "                                                                              \n",
      "                                                                              \n",
      "                                                                              \n",
      "α)⋅sin(φ) + cos(2⋅α)⋅cos(φ)⋅cos(θ))⋅cos(2⋅β) + ⅈ⋅(-sin(2⋅α)⋅cos(φ)⋅cos(θ) - si\n",
      "──────────────────────────────────────────────────────────────────────────────\n",
      "                                                                              \n",
      "                                                                              \n",
      "                                                                              \n",
      "                                                                              \n",
      "                                                                              \n",
      ")⋅cos(φ) + sin(φ)⋅cos(2⋅α)⋅cos(θ))⋅cos(2⋅β) + ⅈ⋅(-sin(2⋅α)⋅sin(φ)⋅cos(θ) + cos\n",
      "──────────────────────────────────────────────────────────────────────────────\n",
      "                                                                              \n",
      "                                                                              \n",
      "                                                X⋅\\omega__{1}⋅sin(θ)⋅cos(φ)   \n",
      "                                                ─────────────────────────── + \n",
      "                                                             c                \n",
      "α)⋅sin(2⋅β)⋅sin(θ) - sin(θ)⋅cos(2⋅α)⋅cos(2⋅β))⋅ℯ                              \n",
      "──────────────────────────────────────────────────────────────────────────────\n",
      "                                                                              \n",
      "\n",
      "                          X⋅\\omega__{1}⋅sin(θ)⋅cos(φ)   Y⋅\\omega__{1}⋅sin(φ)⋅s\n",
      "                          ─────────────────────────── + ──────────────────────\n",
      "                                       c                             c        \n",
      "n(φ)⋅cos(2⋅α))⋅sin(2⋅β))⋅ℯ                                                    \n",
      "──────────────────────────────────────────────────────────────────────────────\n",
      "                                                                              \n",
      "                                                                              \n",
      "                         X⋅\\omega__{1}⋅sin(θ)⋅cos(φ)   Y⋅\\omega__{1}⋅sin(φ)⋅si\n",
      "                         ─────────────────────────── + ───────────────────────\n",
      "                                      c                             c         \n",
      "(2⋅α)⋅cos(φ))⋅sin(2⋅β))⋅ℯ                                                     \n",
      "──────────────────────────────────────────────────────────────────────────────\n",
      "                                                                              \n",
      "                                                                              \n",
      "Y⋅\\omega__{1}⋅sin(φ)⋅sin(θ)   Z⋅\\omega__{1}⋅cos(θ)                ⎞           \n",
      "─────────────────────────── + ──────────────────── - \\omega__{1}⋅t⎟           \n",
      "             c                         c                          ⎟           \n",
      "                                                                  ⎠           \n",
      "───────────────────────────────────────────────────────────────────           \n",
      "                                                                              \n",
      "\n",
      "in(θ)   Z⋅\\omega__{1}⋅cos(θ)                ⎞⎤\n",
      "───── + ──────────────────── - \\omega__{1}⋅t⎟⎥\n",
      "                 c                          ⎟⎥\n",
      "                                            ⎠⎥\n",
      "─────────────────────────────────────────────⎥\n",
      "                                             ⎥\n",
      "                                             ⎥\n",
      "n(θ)   Z⋅\\omega__{1}⋅cos(θ)                ⎞ ⎥\n",
      "──── + ──────────────────── - \\omega__{1}⋅t⎟ ⎥\n",
      "                c                          ⎟ ⎥\n",
      "                                           ⎠ ⎥\n",
      "──────────────────────────────────────────── ⎥\n",
      "                                             ⎥\n",
      "                                             ⎥\n",
      "                                             ⎥\n",
      "                                             ⎥\n",
      "                                             ⎥\n",
      "                                             ⎥\n",
      "                                             ⎥\n",
      "                                             ⎦\n"
     ]
    }
   ],
   "source": [
    "arg=k.dot(R)-omega_laser[0]*t\n",
    "E=E0[0]/2*(ep*exp(+arg) + em*exp( -arg))\n",
    "pprint(E)"
   ]
  },
  {
   "cell_type": "markdown",
   "metadata": {},
   "source": [
    "Which can be seen to be orthogonal to the propagation direction."
   ]
  },
  {
   "cell_type": "code",
   "execution_count": 15,
   "metadata": {
    "collapsed": false
   },
   "outputs": [
    {
     "data": {
      "image/png": "[encoded data removed]",
      "text/latex": [
       "$$0$$"
      ],
      "text/plain": [
       "0"
      ]
     },
     "execution_count": 15,
     "metadata": {},
     "output_type": "execute_result"
    }
   ],
   "source": [
    "simplify(E.dot(k))"
   ]
  },
  {
   "cell_type": "markdown",
   "metadata": {},
   "source": [
    "We can simplify this expression by noting that in the cases of our interest the wavelengths of the fields (780 nm and 776 nm) are much longer than the atomic radius (248 pm for rubidium) the spacial variation of the field is relatively insignificant, so a single point to evaluate this field can be taken at $\\vec{R}=0$, and thus the field can be taken as"
   ]
  },
  {
   "cell_type": "code",
   "execution_count": 21,
   "metadata": {
    "collapsed": false
   },
   "outputs": [
    {
     "name": "stdout",
     "output_type": "stream",
     "text": [
      "⎡         ⎛                                                                   \n",
      "⎢E_0__{1}⋅⎝((-sin(2⋅α)⋅sin(φ) + cos(2⋅α)⋅cos(φ)⋅cos(θ))⋅cos(2⋅β) - ⅈ⋅(-sin(2⋅α\n",
      "⎢─────────────────────────────────────────────────────────────────────────────\n",
      "⎢                                                                             \n",
      "⎢                                                                             \n",
      "⎢          ⎛                                                                  \n",
      "⎢ E_0__{1}⋅⎝((sin(2⋅α)⋅cos(φ) + sin(φ)⋅cos(2⋅α)⋅cos(θ))⋅cos(2⋅β) - ⅈ⋅(-sin(2⋅α\n",
      "⎢ ────────────────────────────────────────────────────────────────────────────\n",
      "⎢                                                                             \n",
      "⎢                                                                             \n",
      "⎢                                                                ⎛            \n",
      "⎢                                                       E_0__{1}⋅⎝(-ⅈ⋅sin(2⋅α)\n",
      "⎢                                                       ──────────────────────\n",
      "⎣                                                                             \n",
      "\n",
      "                                              \\omega__{1}⋅t                   \n",
      ")⋅cos(φ)⋅cos(θ) - sin(φ)⋅cos(2⋅α))⋅sin(2⋅β))⋅ℯ              + ((-sin(2⋅α)⋅sin(\n",
      "──────────────────────────────────────────────────────────────────────────────\n",
      "                                                        2                     \n",
      "                                                                              \n",
      "                                              \\omega__{1}⋅t                   \n",
      ")⋅sin(φ)⋅cos(θ) + cos(2⋅α)⋅cos(φ))⋅sin(2⋅β))⋅ℯ              + ((sin(2⋅α)⋅cos(φ\n",
      "──────────────────────────────────────────────────────────────────────────────\n",
      "                                                        2                     \n",
      "                                                                              \n",
      "                                              \\omega__{1}⋅t                   \n",
      "⋅sin(2⋅β)⋅sin(θ) - sin(θ)⋅cos(2⋅α)⋅cos(2⋅β))⋅ℯ              + (ⅈ⋅sin(2⋅α)⋅sin(\n",
      "──────────────────────────────────────────────────────────────────────────────\n",
      "                                                       2                      \n",
      "\n",
      "                                                                              \n",
      "φ) + cos(2⋅α)⋅cos(φ)⋅cos(θ))⋅cos(2⋅β) + ⅈ⋅(-sin(2⋅α)⋅cos(φ)⋅cos(θ) - sin(φ)⋅co\n",
      "──────────────────────────────────────────────────────────────────────────────\n",
      "                                                                              \n",
      "                                                                              \n",
      "                                                                              \n",
      ") + sin(φ)⋅cos(2⋅α)⋅cos(θ))⋅cos(2⋅β) + ⅈ⋅(-sin(2⋅α)⋅sin(φ)⋅cos(θ) + cos(2⋅α)⋅c\n",
      "──────────────────────────────────────────────────────────────────────────────\n",
      "                                                                              \n",
      "                                                                              \n",
      "                                         -\\omega__{1}⋅t⎞                      \n",
      "2⋅β)⋅sin(θ) - sin(θ)⋅cos(2⋅α)⋅cos(2⋅β))⋅ℯ              ⎠                      \n",
      "────────────────────────────────────────────────────────                      \n",
      "                                                                              \n",
      "\n",
      "                   -\\omega__{1}⋅t⎞⎤\n",
      "s(2⋅α))⋅sin(2⋅β))⋅ℯ              ⎠⎥\n",
      "──────────────────────────────────⎥\n",
      "                                  ⎥\n",
      "                                  ⎥\n",
      "                  -\\omega__{1}⋅t⎞ ⎥\n",
      "os(φ))⋅sin(2⋅β))⋅ℯ              ⎠ ⎥\n",
      "───────────────────────────────── ⎥\n",
      "                                  ⎥\n",
      "                                  ⎥\n",
      "                                  ⎥\n",
      "                                  ⎥\n",
      "                                  ⎥\n",
      "                                  ⎦\n"
     ]
    }
   ],
   "source": [
    "arg=-omega_laser[0]*t\n",
    "E=E0[0]/2*(ep*exp(+arg) + em*exp( -arg))\n",
    "pprint(E)"
   ]
  },
  {
   "cell_type": "markdown",
   "metadata": {},
   "source": [
    "# The position operator in the helicity basis.\n",
    "We can write think of the position operator as a vector of operators $\\vec{\\hat{r}}$ that act on a Hilbert space of a given dimension. In this case we will use dimension 2."
   ]
  },
  {
   "cell_type": "code",
   "execution_count": 24,
   "metadata": {
    "collapsed": false
   },
   "outputs": [
    {
     "data": {
      "image/png": "[encoded data removed]",
      "text/latex": [
       "$$\\left [ \\left[\\begin{matrix}0 & x_{12}\\\\x_{21} & 0\\end{matrix}\\right], \\quad \\left[\\begin{matrix}0 & y_{12}\\\\y_{21} & 0\\end{matrix}\\right], \\quad \\left[\\begin{matrix}0 & z_{12}\\\\z_{21} & 0\\end{matrix}\\right]\\right ]$$"
      ],
      "text/plain": [
       "⎡⎡  0     x_{12}⎤, ⎡  0     y_{12}⎤, ⎡  0     z_{12}⎤⎤\n",
       "⎢⎢              ⎥  ⎢              ⎥  ⎢              ⎥⎥\n",
       "⎣⎣x_{21}    0   ⎦  ⎣y_{21}    0   ⎦  ⎣z_{21}    0   ⎦⎦"
      ]
     },
     "execution_count": 24,
     "metadata": {},
     "output_type": "execute_result"
    }
   ],
   "source": [
    "r_cartesian=define_r_components(2)\n",
    "r_cartesian"
   ]
  },
  {
   "cell_type": "code",
   "execution_count": 26,
   "metadata": {
    "collapsed": false
   },
   "outputs": [
    {
     "data": {
      "image/png": "[encoded data removed]",
      "text/latex": [
       "$$\\left [ \\left[\\begin{matrix}0 & _{-1}r_{12}\\\\_{-1}r_{21} & 0\\end{matrix}\\right], \\quad \\left[\\begin{matrix}0 & _{0}r_{12}\\\\_{0}r_{21} & 0\\end{matrix}\\right], \\quad \\left[\\begin{matrix}0 & _{+1}r_{12}\\\\_{+1}r_{21} & 0\\end{matrix}\\right]\\right ]$$"
      ],
      "text/plain": [
       "⎡⎡     0       _{-1}r_{12}⎤, ⎡    0       _{0}r_{12}⎤, ⎡     0       _{+1}r_{1\n",
       "⎢⎢                        ⎥  ⎢                      ⎥  ⎢                      \n",
       "⎣⎣_{-1}r_{21}       0     ⎦  ⎣_{0}r_{21}      0     ⎦  ⎣_{+1}r_{21}       0   \n",
       "\n",
       "2}⎤⎤\n",
       "  ⎥⎥\n",
       "  ⎦⎦"
      ]
     },
     "execution_count": 26,
     "metadata": {},
     "output_type": "execute_result"
    }
   ],
   "source": [
    "r_helicity=define_r_components(2,helicity=True)\n",
    "r_helicity"
   ]
  },
  {
   "cell_type": "code",
   "execution_count": 27,
   "metadata": {
    "collapsed": false
   },
   "outputs": [
    {
     "data": {
      "image/png": "[encoded data removed]",
      "text/latex": [
       "$$\\left[\\begin{matrix}_{-1}r_{21}\\\\_{0}r_{21}\\\\_{+1}r_{21}\\end{matrix}\\right]$$"
      ],
      "text/plain": [
       "⎡_{-1}r_{21}⎤\n",
       "⎢           ⎥\n",
       "⎢_{0}r_{21} ⎥\n",
       "⎢           ⎥\n",
       "⎣_{+1}r_{21}⎦"
      ]
     },
     "execution_count": 27,
     "metadata": {},
     "output_type": "execute_result"
    }
   ],
   "source": [
    "r_helicity21=Matrix([r_helicity[0][1,0],r_helicity[1][1,0],r_helicity[2][1,0]])\n",
    "r_helicity21"
   ]
  },
  {
   "cell_type": "markdown",
   "metadata": {},
   "source": [
    "We take $\\vec{r}_{ij}$ in the helicity basis, and transforming it to the cartesian and taking the complex conjugate basis we get $\\vec{r}_{ji}$, which in turn can be taken back to the helicity basis to obtain $\\vec{r}_{ji}$ in terms of $\\vec{r}_{ij}$ in the helicity basis."
   ]
  },
  {
   "cell_type": "code",
   "execution_count": 29,
   "metadata": {
    "collapsed": false
   },
   "outputs": [
    {
     "data": {
      "image/png": "[encoded data removed]",
      "text/latex": [
       "$$\\left[\\begin{matrix}- \\overline{_{+1}r_{21}}\\\\\\overline{_{0}r_{21}}\\\\- \\overline{_{-1}r_{21}}\\end{matrix}\\right]$$"
      ],
      "text/plain": [
       "⎡ ___________⎤\n",
       "⎢-_{+1}r_{21}⎥\n",
       "⎢            ⎥\n",
       "⎢ __________ ⎥\n",
       "⎢ _{0}r_{21} ⎥\n",
       "⎢            ⎥\n",
       "⎢ ___________⎥\n",
       "⎣-_{-1}r_{21}⎦"
      ]
     },
     "execution_count": 29,
     "metadata": {},
     "output_type": "execute_result"
    }
   ],
   "source": [
    "simplify( cartesian_to_helicity(conjugate(helicity_to_cartesian(r_helicity21))) )"
   ]
  },
  {
   "cell_type": "markdown",
   "metadata": {},
   "source": [
    "Check whether this actually makes $\\vec{\\hat{r}}$ hermitian."
   ]
  },
  {
   "cell_type": "code",
   "execution_count": 31,
   "metadata": {
    "collapsed": false
   },
   "outputs": [
    {
     "data": {
      "image/png": "[encoded data removed]",
      "text/latex": [
       "$$\\left [ \\left[\\begin{matrix}0 & - \\overline{_{+1}r_{21}}\\\\_{-1}r_{21} & 0\\end{matrix}\\right], \\quad \\left[\\begin{matrix}0 & \\overline{_{0}r_{21}}\\\\_{0}r_{21} & 0\\end{matrix}\\right], \\quad \\left[\\begin{matrix}0 & - \\overline{_{-1}r_{21}}\\\\_{+1}r_{21} & 0\\end{matrix}\\right]\\right ]$$"
      ],
      "text/plain": [
       "⎡⎡              ___________⎤  ⎡            __________⎤  ⎡              _______\n",
       "⎢⎢     0       -_{+1}r_{21}⎥, ⎢    0       _{0}r_{21}⎥, ⎢     0       -_{-1}r_\n",
       "⎢⎢                         ⎥  ⎢                      ⎥  ⎢                     \n",
       "⎣⎣_{-1}r_{21}       0      ⎦  ⎣_{0}r_{21}      0     ⎦  ⎣_{+1}r_{21}       0  \n",
       "\n",
       "____⎤⎤\n",
       "{21}⎥⎥\n",
       "    ⎥⎥\n",
       "    ⎦⎦"
      ]
     },
     "execution_count": 31,
     "metadata": {},
     "output_type": "execute_result"
    }
   ],
   "source": [
    "r_helicity=define_r_components(2,helicity=True,explicitly_hermitian=True)\n",
    "r_helicity"
   ]
  },
  {
   "cell_type": "code",
   "execution_count": 32,
   "metadata": {
    "collapsed": false
   },
   "outputs": [
    {
     "data": {
      "image/png": "[encoded data removed]",
      "text/latex": [
       "$$\\left ( \\left[\\begin{matrix}_{-1}r_{21}\\\\_{0}r_{21}\\\\_{+1}r_{21}\\end{matrix}\\right], \\quad \\left[\\begin{matrix}- \\overline{_{+1}r_{21}}\\\\\\overline{_{0}r_{21}}\\\\- \\overline{_{-1}r_{21}}\\end{matrix}\\right]\\right )$$"
      ],
      "text/plain": [
       "⎛               ⎡ ___________⎤⎞\n",
       "⎜⎡_{-1}r_{21}⎤, ⎢-_{+1}r_{21}⎥⎟\n",
       "⎜⎢           ⎥  ⎢            ⎥⎟\n",
       "⎜⎢_{0}r_{21} ⎥  ⎢ __________ ⎥⎟\n",
       "⎜⎢           ⎥  ⎢ _{0}r_{21} ⎥⎟\n",
       "⎜⎣_{+1}r_{21}⎦  ⎢            ⎥⎟\n",
       "⎜               ⎢ ___________⎥⎟\n",
       "⎝               ⎣-_{-1}r_{21}⎦⎠"
      ]
     },
     "execution_count": 32,
     "metadata": {},
     "output_type": "execute_result"
    }
   ],
   "source": [
    "r_helicity21=Matrix([r_helicity[0][1,0],r_helicity[1][1,0],r_helicity[2][1,0]])\n",
    "r_helicity12=Matrix([r_helicity[0][0,1],r_helicity[1][0,1],r_helicity[2][0,1]])\n",
    "r_helicity21,r_helicity12"
   ]
  },
  {
   "cell_type": "code",
   "execution_count": 34,
   "metadata": {
    "collapsed": false
   },
   "outputs": [
    {
     "data": {
      "image/png": "[encoded data removed]",
      "text/latex": [
       "$$\\left[\\begin{matrix}0\\\\0\\\\0\\end{matrix}\\right]$$"
      ],
      "text/plain": [
       "⎡0⎤\n",
       "⎢ ⎥\n",
       "⎢0⎥\n",
       "⎢ ⎥\n",
       "⎣0⎦"
      ]
     },
     "execution_count": 34,
     "metadata": {},
     "output_type": "execute_result"
    }
   ],
   "source": [
    "simplify( helicity_to_cartesian(r_helicity21)-helicity_to_cartesian(r_helicity12).conjugate() )"
   ]
  },
  {
   "cell_type": "markdown",
   "metadata": {},
   "source": [
    "So yes, this makes the $\\vec{\\hat{r}}$ operator hermitian."
   ]
  },
  {
   "cell_type": "code",
   "execution_count": null,
   "metadata": {
    "collapsed": true
   },
   "outputs": [],
   "source": []
  }
 ],
 "metadata": {
  "kernelspec": {
   "display_name": "Python [Root]",
   "language": "python",
   "name": "Python [Root]"
  },
  "language_info": {
   "codemirror_mode": {
    "name": "ipython",
    "version": 2
   },
   "file_extension": ".py",
   "mimetype": "text/x-python",
   "name": "python",
   "nbconvert_exporter": "python",
   "pygments_lexer": "ipython2",
   "version": "2.7.12"
  }
 },
 "nbformat": 4,
 "nbformat_minor": 0
}
